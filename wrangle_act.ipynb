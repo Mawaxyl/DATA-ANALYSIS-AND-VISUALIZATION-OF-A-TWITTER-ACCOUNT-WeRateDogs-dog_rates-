{
 "cells": [
  {
   "cell_type": "markdown",
   "metadata": {},
   "source": [
    "# Project: Investigate a Dataset (WeRateDogs Twitter Analysis)\n",
    "\n",
    "## Table of Contents\n",
    "<ul>\n",
    "<li><a href=\"#gather\">Gathering Data</a></li>\n",
    "<li><a href=\"#assessing\">Assessing Data</a></li>\n",
    "<li><a href=\"#cleaning\">Cleaning the Data</a></li>\n",
    "<li><a href=\"#store\">Store Data</a></li>\n",
    "<li><a href=\"#analysis\">Data Analysis and Visualization</a></li>\n",
    "</ul>"
   ]
  },
  {
   "cell_type": "code",
   "execution_count": 1,
   "metadata": {},
   "outputs": [],
   "source": [
    "import pandas as pd\n",
    "import numpy as np"
   ]
  },
  {
   "cell_type": "markdown",
   "metadata": {},
   "source": [
    "<a id='gather'></a>\n",
    "\n",
    "# 1. Gathering Data"
   ]
  },
  {
   "cell_type": "markdown",
   "metadata": {},
   "source": [
    "## 1a. Twitter Archive File"
   ]
  },
  {
   "cell_type": "code",
   "execution_count": 2,
   "metadata": {},
   "outputs": [],
   "source": [
    "dog_archive = pd.read_csv('twitter-archive-enhanced.csv')"
   ]
  },
  {
   "cell_type": "code",
   "execution_count": 3,
   "metadata": {},
   "outputs": [
    {
     "data": {
      "text/html": [
       "<div>\n",
       "<style scoped>\n",
       "    .dataframe tbody tr th:only-of-type {\n",
       "        vertical-align: middle;\n",
       "    }\n",
       "\n",
       "    .dataframe tbody tr th {\n",
       "        vertical-align: top;\n",
       "    }\n",
       "\n",
       "    .dataframe thead th {\n",
       "        text-align: right;\n",
       "    }\n",
       "</style>\n",
       "<table border=\"1\" class=\"dataframe\">\n",
       "  <thead>\n",
       "    <tr style=\"text-align: right;\">\n",
       "      <th></th>\n",
       "      <th>tweet_id</th>\n",
       "      <th>in_reply_to_status_id</th>\n",
       "      <th>in_reply_to_user_id</th>\n",
       "      <th>timestamp</th>\n",
       "      <th>source</th>\n",
       "      <th>text</th>\n",
       "      <th>retweeted_status_id</th>\n",
       "      <th>retweeted_status_user_id</th>\n",
       "      <th>retweeted_status_timestamp</th>\n",
       "      <th>expanded_urls</th>\n",
       "      <th>rating_numerator</th>\n",
       "      <th>rating_denominator</th>\n",
       "      <th>name</th>\n",
       "      <th>doggo</th>\n",
       "      <th>floofer</th>\n",
       "      <th>pupper</th>\n",
       "      <th>puppo</th>\n",
       "    </tr>\n",
       "  </thead>\n",
       "  <tbody>\n",
       "    <tr>\n",
       "      <th>0</th>\n",
       "      <td>892420643555336193</td>\n",
       "      <td>NaN</td>\n",
       "      <td>NaN</td>\n",
       "      <td>2017-08-01 16:23:56 +0000</td>\n",
       "      <td>&lt;a href=\"http://twitter.com/download/iphone\" r...</td>\n",
       "      <td>This is Phineas. He's a mystical boy. Only eve...</td>\n",
       "      <td>NaN</td>\n",
       "      <td>NaN</td>\n",
       "      <td>NaN</td>\n",
       "      <td>https://twitter.com/dog_rates/status/892420643...</td>\n",
       "      <td>13</td>\n",
       "      <td>10</td>\n",
       "      <td>Phineas</td>\n",
       "      <td>None</td>\n",
       "      <td>None</td>\n",
       "      <td>None</td>\n",
       "      <td>None</td>\n",
       "    </tr>\n",
       "    <tr>\n",
       "      <th>1</th>\n",
       "      <td>892177421306343426</td>\n",
       "      <td>NaN</td>\n",
       "      <td>NaN</td>\n",
       "      <td>2017-08-01 00:17:27 +0000</td>\n",
       "      <td>&lt;a href=\"http://twitter.com/download/iphone\" r...</td>\n",
       "      <td>This is Tilly. She's just checking pup on you....</td>\n",
       "      <td>NaN</td>\n",
       "      <td>NaN</td>\n",
       "      <td>NaN</td>\n",
       "      <td>https://twitter.com/dog_rates/status/892177421...</td>\n",
       "      <td>13</td>\n",
       "      <td>10</td>\n",
       "      <td>Tilly</td>\n",
       "      <td>None</td>\n",
       "      <td>None</td>\n",
       "      <td>None</td>\n",
       "      <td>None</td>\n",
       "    </tr>\n",
       "    <tr>\n",
       "      <th>2</th>\n",
       "      <td>891815181378084864</td>\n",
       "      <td>NaN</td>\n",
       "      <td>NaN</td>\n",
       "      <td>2017-07-31 00:18:03 +0000</td>\n",
       "      <td>&lt;a href=\"http://twitter.com/download/iphone\" r...</td>\n",
       "      <td>This is Archie. He is a rare Norwegian Pouncin...</td>\n",
       "      <td>NaN</td>\n",
       "      <td>NaN</td>\n",
       "      <td>NaN</td>\n",
       "      <td>https://twitter.com/dog_rates/status/891815181...</td>\n",
       "      <td>12</td>\n",
       "      <td>10</td>\n",
       "      <td>Archie</td>\n",
       "      <td>None</td>\n",
       "      <td>None</td>\n",
       "      <td>None</td>\n",
       "      <td>None</td>\n",
       "    </tr>\n",
       "    <tr>\n",
       "      <th>3</th>\n",
       "      <td>891689557279858688</td>\n",
       "      <td>NaN</td>\n",
       "      <td>NaN</td>\n",
       "      <td>2017-07-30 15:58:51 +0000</td>\n",
       "      <td>&lt;a href=\"http://twitter.com/download/iphone\" r...</td>\n",
       "      <td>This is Darla. She commenced a snooze mid meal...</td>\n",
       "      <td>NaN</td>\n",
       "      <td>NaN</td>\n",
       "      <td>NaN</td>\n",
       "      <td>https://twitter.com/dog_rates/status/891689557...</td>\n",
       "      <td>13</td>\n",
       "      <td>10</td>\n",
       "      <td>Darla</td>\n",
       "      <td>None</td>\n",
       "      <td>None</td>\n",
       "      <td>None</td>\n",
       "      <td>None</td>\n",
       "    </tr>\n",
       "    <tr>\n",
       "      <th>4</th>\n",
       "      <td>891327558926688256</td>\n",
       "      <td>NaN</td>\n",
       "      <td>NaN</td>\n",
       "      <td>2017-07-29 16:00:24 +0000</td>\n",
       "      <td>&lt;a href=\"http://twitter.com/download/iphone\" r...</td>\n",
       "      <td>This is Franklin. He would like you to stop ca...</td>\n",
       "      <td>NaN</td>\n",
       "      <td>NaN</td>\n",
       "      <td>NaN</td>\n",
       "      <td>https://twitter.com/dog_rates/status/891327558...</td>\n",
       "      <td>12</td>\n",
       "      <td>10</td>\n",
       "      <td>Franklin</td>\n",
       "      <td>None</td>\n",
       "      <td>None</td>\n",
       "      <td>None</td>\n",
       "      <td>None</td>\n",
       "    </tr>\n",
       "    <tr>\n",
       "      <th>...</th>\n",
       "      <td>...</td>\n",
       "      <td>...</td>\n",
       "      <td>...</td>\n",
       "      <td>...</td>\n",
       "      <td>...</td>\n",
       "      <td>...</td>\n",
       "      <td>...</td>\n",
       "      <td>...</td>\n",
       "      <td>...</td>\n",
       "      <td>...</td>\n",
       "      <td>...</td>\n",
       "      <td>...</td>\n",
       "      <td>...</td>\n",
       "      <td>...</td>\n",
       "      <td>...</td>\n",
       "      <td>...</td>\n",
       "      <td>...</td>\n",
       "    </tr>\n",
       "    <tr>\n",
       "      <th>2351</th>\n",
       "      <td>666049248165822465</td>\n",
       "      <td>NaN</td>\n",
       "      <td>NaN</td>\n",
       "      <td>2015-11-16 00:24:50 +0000</td>\n",
       "      <td>&lt;a href=\"http://twitter.com/download/iphone\" r...</td>\n",
       "      <td>Here we have a 1949 1st generation vulpix. Enj...</td>\n",
       "      <td>NaN</td>\n",
       "      <td>NaN</td>\n",
       "      <td>NaN</td>\n",
       "      <td>https://twitter.com/dog_rates/status/666049248...</td>\n",
       "      <td>5</td>\n",
       "      <td>10</td>\n",
       "      <td>None</td>\n",
       "      <td>None</td>\n",
       "      <td>None</td>\n",
       "      <td>None</td>\n",
       "      <td>None</td>\n",
       "    </tr>\n",
       "    <tr>\n",
       "      <th>2352</th>\n",
       "      <td>666044226329800704</td>\n",
       "      <td>NaN</td>\n",
       "      <td>NaN</td>\n",
       "      <td>2015-11-16 00:04:52 +0000</td>\n",
       "      <td>&lt;a href=\"http://twitter.com/download/iphone\" r...</td>\n",
       "      <td>This is a purebred Piers Morgan. Loves to Netf...</td>\n",
       "      <td>NaN</td>\n",
       "      <td>NaN</td>\n",
       "      <td>NaN</td>\n",
       "      <td>https://twitter.com/dog_rates/status/666044226...</td>\n",
       "      <td>6</td>\n",
       "      <td>10</td>\n",
       "      <td>a</td>\n",
       "      <td>None</td>\n",
       "      <td>None</td>\n",
       "      <td>None</td>\n",
       "      <td>None</td>\n",
       "    </tr>\n",
       "    <tr>\n",
       "      <th>2353</th>\n",
       "      <td>666033412701032449</td>\n",
       "      <td>NaN</td>\n",
       "      <td>NaN</td>\n",
       "      <td>2015-11-15 23:21:54 +0000</td>\n",
       "      <td>&lt;a href=\"http://twitter.com/download/iphone\" r...</td>\n",
       "      <td>Here is a very happy pup. Big fan of well-main...</td>\n",
       "      <td>NaN</td>\n",
       "      <td>NaN</td>\n",
       "      <td>NaN</td>\n",
       "      <td>https://twitter.com/dog_rates/status/666033412...</td>\n",
       "      <td>9</td>\n",
       "      <td>10</td>\n",
       "      <td>a</td>\n",
       "      <td>None</td>\n",
       "      <td>None</td>\n",
       "      <td>None</td>\n",
       "      <td>None</td>\n",
       "    </tr>\n",
       "    <tr>\n",
       "      <th>2354</th>\n",
       "      <td>666029285002620928</td>\n",
       "      <td>NaN</td>\n",
       "      <td>NaN</td>\n",
       "      <td>2015-11-15 23:05:30 +0000</td>\n",
       "      <td>&lt;a href=\"http://twitter.com/download/iphone\" r...</td>\n",
       "      <td>This is a western brown Mitsubishi terrier. Up...</td>\n",
       "      <td>NaN</td>\n",
       "      <td>NaN</td>\n",
       "      <td>NaN</td>\n",
       "      <td>https://twitter.com/dog_rates/status/666029285...</td>\n",
       "      <td>7</td>\n",
       "      <td>10</td>\n",
       "      <td>a</td>\n",
       "      <td>None</td>\n",
       "      <td>None</td>\n",
       "      <td>None</td>\n",
       "      <td>None</td>\n",
       "    </tr>\n",
       "    <tr>\n",
       "      <th>2355</th>\n",
       "      <td>666020888022790149</td>\n",
       "      <td>NaN</td>\n",
       "      <td>NaN</td>\n",
       "      <td>2015-11-15 22:32:08 +0000</td>\n",
       "      <td>&lt;a href=\"http://twitter.com/download/iphone\" r...</td>\n",
       "      <td>Here we have a Japanese Irish Setter. Lost eye...</td>\n",
       "      <td>NaN</td>\n",
       "      <td>NaN</td>\n",
       "      <td>NaN</td>\n",
       "      <td>https://twitter.com/dog_rates/status/666020888...</td>\n",
       "      <td>8</td>\n",
       "      <td>10</td>\n",
       "      <td>None</td>\n",
       "      <td>None</td>\n",
       "      <td>None</td>\n",
       "      <td>None</td>\n",
       "      <td>None</td>\n",
       "    </tr>\n",
       "  </tbody>\n",
       "</table>\n",
       "<p>2356 rows × 17 columns</p>\n",
       "</div>"
      ],
      "text/plain": [
       "                tweet_id  in_reply_to_status_id  in_reply_to_user_id  \\\n",
       "0     892420643555336193                    NaN                  NaN   \n",
       "1     892177421306343426                    NaN                  NaN   \n",
       "2     891815181378084864                    NaN                  NaN   \n",
       "3     891689557279858688                    NaN                  NaN   \n",
       "4     891327558926688256                    NaN                  NaN   \n",
       "...                  ...                    ...                  ...   \n",
       "2351  666049248165822465                    NaN                  NaN   \n",
       "2352  666044226329800704                    NaN                  NaN   \n",
       "2353  666033412701032449                    NaN                  NaN   \n",
       "2354  666029285002620928                    NaN                  NaN   \n",
       "2355  666020888022790149                    NaN                  NaN   \n",
       "\n",
       "                      timestamp  \\\n",
       "0     2017-08-01 16:23:56 +0000   \n",
       "1     2017-08-01 00:17:27 +0000   \n",
       "2     2017-07-31 00:18:03 +0000   \n",
       "3     2017-07-30 15:58:51 +0000   \n",
       "4     2017-07-29 16:00:24 +0000   \n",
       "...                         ...   \n",
       "2351  2015-11-16 00:24:50 +0000   \n",
       "2352  2015-11-16 00:04:52 +0000   \n",
       "2353  2015-11-15 23:21:54 +0000   \n",
       "2354  2015-11-15 23:05:30 +0000   \n",
       "2355  2015-11-15 22:32:08 +0000   \n",
       "\n",
       "                                                 source  \\\n",
       "0     <a href=\"http://twitter.com/download/iphone\" r...   \n",
       "1     <a href=\"http://twitter.com/download/iphone\" r...   \n",
       "2     <a href=\"http://twitter.com/download/iphone\" r...   \n",
       "3     <a href=\"http://twitter.com/download/iphone\" r...   \n",
       "4     <a href=\"http://twitter.com/download/iphone\" r...   \n",
       "...                                                 ...   \n",
       "2351  <a href=\"http://twitter.com/download/iphone\" r...   \n",
       "2352  <a href=\"http://twitter.com/download/iphone\" r...   \n",
       "2353  <a href=\"http://twitter.com/download/iphone\" r...   \n",
       "2354  <a href=\"http://twitter.com/download/iphone\" r...   \n",
       "2355  <a href=\"http://twitter.com/download/iphone\" r...   \n",
       "\n",
       "                                                   text  retweeted_status_id  \\\n",
       "0     This is Phineas. He's a mystical boy. Only eve...                  NaN   \n",
       "1     This is Tilly. She's just checking pup on you....                  NaN   \n",
       "2     This is Archie. He is a rare Norwegian Pouncin...                  NaN   \n",
       "3     This is Darla. She commenced a snooze mid meal...                  NaN   \n",
       "4     This is Franklin. He would like you to stop ca...                  NaN   \n",
       "...                                                 ...                  ...   \n",
       "2351  Here we have a 1949 1st generation vulpix. Enj...                  NaN   \n",
       "2352  This is a purebred Piers Morgan. Loves to Netf...                  NaN   \n",
       "2353  Here is a very happy pup. Big fan of well-main...                  NaN   \n",
       "2354  This is a western brown Mitsubishi terrier. Up...                  NaN   \n",
       "2355  Here we have a Japanese Irish Setter. Lost eye...                  NaN   \n",
       "\n",
       "      retweeted_status_user_id retweeted_status_timestamp  \\\n",
       "0                          NaN                        NaN   \n",
       "1                          NaN                        NaN   \n",
       "2                          NaN                        NaN   \n",
       "3                          NaN                        NaN   \n",
       "4                          NaN                        NaN   \n",
       "...                        ...                        ...   \n",
       "2351                       NaN                        NaN   \n",
       "2352                       NaN                        NaN   \n",
       "2353                       NaN                        NaN   \n",
       "2354                       NaN                        NaN   \n",
       "2355                       NaN                        NaN   \n",
       "\n",
       "                                          expanded_urls  rating_numerator  \\\n",
       "0     https://twitter.com/dog_rates/status/892420643...                13   \n",
       "1     https://twitter.com/dog_rates/status/892177421...                13   \n",
       "2     https://twitter.com/dog_rates/status/891815181...                12   \n",
       "3     https://twitter.com/dog_rates/status/891689557...                13   \n",
       "4     https://twitter.com/dog_rates/status/891327558...                12   \n",
       "...                                                 ...               ...   \n",
       "2351  https://twitter.com/dog_rates/status/666049248...                 5   \n",
       "2352  https://twitter.com/dog_rates/status/666044226...                 6   \n",
       "2353  https://twitter.com/dog_rates/status/666033412...                 9   \n",
       "2354  https://twitter.com/dog_rates/status/666029285...                 7   \n",
       "2355  https://twitter.com/dog_rates/status/666020888...                 8   \n",
       "\n",
       "      rating_denominator      name doggo floofer pupper puppo  \n",
       "0                     10   Phineas  None    None   None  None  \n",
       "1                     10     Tilly  None    None   None  None  \n",
       "2                     10    Archie  None    None   None  None  \n",
       "3                     10     Darla  None    None   None  None  \n",
       "4                     10  Franklin  None    None   None  None  \n",
       "...                  ...       ...   ...     ...    ...   ...  \n",
       "2351                  10      None  None    None   None  None  \n",
       "2352                  10         a  None    None   None  None  \n",
       "2353                  10         a  None    None   None  None  \n",
       "2354                  10         a  None    None   None  None  \n",
       "2355                  10      None  None    None   None  None  \n",
       "\n",
       "[2356 rows x 17 columns]"
      ]
     },
     "execution_count": 3,
     "metadata": {},
     "output_type": "execute_result"
    }
   ],
   "source": [
    "dog_archive"
   ]
  },
  {
   "cell_type": "markdown",
   "metadata": {},
   "source": [
    "## 1b. Image Predictions File"
   ]
  },
  {
   "cell_type": "code",
   "execution_count": 4,
   "metadata": {},
   "outputs": [],
   "source": [
    "import requests"
   ]
  },
  {
   "cell_type": "code",
   "execution_count": 5,
   "metadata": {},
   "outputs": [],
   "source": [
    "url = 'https://d17h27t6h515a5.cloudfront.net/topher/2017/August/599fd2ad_image-predictions/image-predictions.tsv'\n",
    "\n",
    "response = requests.get(url)"
   ]
  },
  {
   "cell_type": "code",
   "execution_count": 6,
   "metadata": {},
   "outputs": [],
   "source": [
    "# Save TSV as file\n",
    "with open('image_prediction.tsv', mode='wb') as file:\n",
    "    file.write(response.content)"
   ]
  },
  {
   "cell_type": "code",
   "execution_count": 7,
   "metadata": {},
   "outputs": [],
   "source": [
    "# load the file using BeautifulSoup\n",
    "from bs4 import BeautifulSoup"
   ]
  },
  {
   "cell_type": "code",
   "execution_count": 8,
   "metadata": {},
   "outputs": [],
   "source": [
    "with open('image_prediction.tsv') as file:\n",
    "    soup = BeautifulSoup(file, 'lxml')"
   ]
  },
  {
   "cell_type": "code",
   "execution_count": 2,
   "metadata": {},
   "outputs": [],
   "source": [
    "soup"
   ]
  },
  {
   "cell_type": "code",
   "execution_count": 10,
   "metadata": {},
   "outputs": [],
   "source": [
    "# load the image-prediction with pandas\n",
    "image_df = pd.read_csv('image_prediction.tsv', sep='\\t')"
   ]
  },
  {
   "cell_type": "code",
   "execution_count": 11,
   "metadata": {},
   "outputs": [
    {
     "data": {
      "text/html": [
       "<div>\n",
       "<style scoped>\n",
       "    .dataframe tbody tr th:only-of-type {\n",
       "        vertical-align: middle;\n",
       "    }\n",
       "\n",
       "    .dataframe tbody tr th {\n",
       "        vertical-align: top;\n",
       "    }\n",
       "\n",
       "    .dataframe thead th {\n",
       "        text-align: right;\n",
       "    }\n",
       "</style>\n",
       "<table border=\"1\" class=\"dataframe\">\n",
       "  <thead>\n",
       "    <tr style=\"text-align: right;\">\n",
       "      <th></th>\n",
       "      <th>tweet_id</th>\n",
       "      <th>jpg_url</th>\n",
       "      <th>img_num</th>\n",
       "      <th>p1</th>\n",
       "      <th>p1_conf</th>\n",
       "      <th>p1_dog</th>\n",
       "      <th>p2</th>\n",
       "      <th>p2_conf</th>\n",
       "      <th>p2_dog</th>\n",
       "      <th>p3</th>\n",
       "      <th>p3_conf</th>\n",
       "      <th>p3_dog</th>\n",
       "    </tr>\n",
       "  </thead>\n",
       "  <tbody>\n",
       "    <tr>\n",
       "      <th>0</th>\n",
       "      <td>666020888022790149</td>\n",
       "      <td>https://pbs.twimg.com/media/CT4udn0WwAA0aMy.jpg</td>\n",
       "      <td>1</td>\n",
       "      <td>Welsh_springer_spaniel</td>\n",
       "      <td>0.465074</td>\n",
       "      <td>True</td>\n",
       "      <td>collie</td>\n",
       "      <td>0.156665</td>\n",
       "      <td>True</td>\n",
       "      <td>Shetland_sheepdog</td>\n",
       "      <td>0.061428</td>\n",
       "      <td>True</td>\n",
       "    </tr>\n",
       "    <tr>\n",
       "      <th>1</th>\n",
       "      <td>666029285002620928</td>\n",
       "      <td>https://pbs.twimg.com/media/CT42GRgUYAA5iDo.jpg</td>\n",
       "      <td>1</td>\n",
       "      <td>redbone</td>\n",
       "      <td>0.506826</td>\n",
       "      <td>True</td>\n",
       "      <td>miniature_pinscher</td>\n",
       "      <td>0.074192</td>\n",
       "      <td>True</td>\n",
       "      <td>Rhodesian_ridgeback</td>\n",
       "      <td>0.072010</td>\n",
       "      <td>True</td>\n",
       "    </tr>\n",
       "    <tr>\n",
       "      <th>2</th>\n",
       "      <td>666033412701032449</td>\n",
       "      <td>https://pbs.twimg.com/media/CT4521TWwAEvMyu.jpg</td>\n",
       "      <td>1</td>\n",
       "      <td>German_shepherd</td>\n",
       "      <td>0.596461</td>\n",
       "      <td>True</td>\n",
       "      <td>malinois</td>\n",
       "      <td>0.138584</td>\n",
       "      <td>True</td>\n",
       "      <td>bloodhound</td>\n",
       "      <td>0.116197</td>\n",
       "      <td>True</td>\n",
       "    </tr>\n",
       "    <tr>\n",
       "      <th>3</th>\n",
       "      <td>666044226329800704</td>\n",
       "      <td>https://pbs.twimg.com/media/CT5Dr8HUEAA-lEu.jpg</td>\n",
       "      <td>1</td>\n",
       "      <td>Rhodesian_ridgeback</td>\n",
       "      <td>0.408143</td>\n",
       "      <td>True</td>\n",
       "      <td>redbone</td>\n",
       "      <td>0.360687</td>\n",
       "      <td>True</td>\n",
       "      <td>miniature_pinscher</td>\n",
       "      <td>0.222752</td>\n",
       "      <td>True</td>\n",
       "    </tr>\n",
       "    <tr>\n",
       "      <th>4</th>\n",
       "      <td>666049248165822465</td>\n",
       "      <td>https://pbs.twimg.com/media/CT5IQmsXIAAKY4A.jpg</td>\n",
       "      <td>1</td>\n",
       "      <td>miniature_pinscher</td>\n",
       "      <td>0.560311</td>\n",
       "      <td>True</td>\n",
       "      <td>Rottweiler</td>\n",
       "      <td>0.243682</td>\n",
       "      <td>True</td>\n",
       "      <td>Doberman</td>\n",
       "      <td>0.154629</td>\n",
       "      <td>True</td>\n",
       "    </tr>\n",
       "    <tr>\n",
       "      <th>...</th>\n",
       "      <td>...</td>\n",
       "      <td>...</td>\n",
       "      <td>...</td>\n",
       "      <td>...</td>\n",
       "      <td>...</td>\n",
       "      <td>...</td>\n",
       "      <td>...</td>\n",
       "      <td>...</td>\n",
       "      <td>...</td>\n",
       "      <td>...</td>\n",
       "      <td>...</td>\n",
       "      <td>...</td>\n",
       "    </tr>\n",
       "    <tr>\n",
       "      <th>2070</th>\n",
       "      <td>891327558926688256</td>\n",
       "      <td>https://pbs.twimg.com/media/DF6hr6BUMAAzZgT.jpg</td>\n",
       "      <td>2</td>\n",
       "      <td>basset</td>\n",
       "      <td>0.555712</td>\n",
       "      <td>True</td>\n",
       "      <td>English_springer</td>\n",
       "      <td>0.225770</td>\n",
       "      <td>True</td>\n",
       "      <td>German_short-haired_pointer</td>\n",
       "      <td>0.175219</td>\n",
       "      <td>True</td>\n",
       "    </tr>\n",
       "    <tr>\n",
       "      <th>2071</th>\n",
       "      <td>891689557279858688</td>\n",
       "      <td>https://pbs.twimg.com/media/DF_q7IAWsAEuuN8.jpg</td>\n",
       "      <td>1</td>\n",
       "      <td>paper_towel</td>\n",
       "      <td>0.170278</td>\n",
       "      <td>False</td>\n",
       "      <td>Labrador_retriever</td>\n",
       "      <td>0.168086</td>\n",
       "      <td>True</td>\n",
       "      <td>spatula</td>\n",
       "      <td>0.040836</td>\n",
       "      <td>False</td>\n",
       "    </tr>\n",
       "    <tr>\n",
       "      <th>2072</th>\n",
       "      <td>891815181378084864</td>\n",
       "      <td>https://pbs.twimg.com/media/DGBdLU1WsAANxJ9.jpg</td>\n",
       "      <td>1</td>\n",
       "      <td>Chihuahua</td>\n",
       "      <td>0.716012</td>\n",
       "      <td>True</td>\n",
       "      <td>malamute</td>\n",
       "      <td>0.078253</td>\n",
       "      <td>True</td>\n",
       "      <td>kelpie</td>\n",
       "      <td>0.031379</td>\n",
       "      <td>True</td>\n",
       "    </tr>\n",
       "    <tr>\n",
       "      <th>2073</th>\n",
       "      <td>892177421306343426</td>\n",
       "      <td>https://pbs.twimg.com/media/DGGmoV4XsAAUL6n.jpg</td>\n",
       "      <td>1</td>\n",
       "      <td>Chihuahua</td>\n",
       "      <td>0.323581</td>\n",
       "      <td>True</td>\n",
       "      <td>Pekinese</td>\n",
       "      <td>0.090647</td>\n",
       "      <td>True</td>\n",
       "      <td>papillon</td>\n",
       "      <td>0.068957</td>\n",
       "      <td>True</td>\n",
       "    </tr>\n",
       "    <tr>\n",
       "      <th>2074</th>\n",
       "      <td>892420643555336193</td>\n",
       "      <td>https://pbs.twimg.com/media/DGKD1-bXoAAIAUK.jpg</td>\n",
       "      <td>1</td>\n",
       "      <td>orange</td>\n",
       "      <td>0.097049</td>\n",
       "      <td>False</td>\n",
       "      <td>bagel</td>\n",
       "      <td>0.085851</td>\n",
       "      <td>False</td>\n",
       "      <td>banana</td>\n",
       "      <td>0.076110</td>\n",
       "      <td>False</td>\n",
       "    </tr>\n",
       "  </tbody>\n",
       "</table>\n",
       "<p>2075 rows × 12 columns</p>\n",
       "</div>"
      ],
      "text/plain": [
       "                tweet_id                                          jpg_url  \\\n",
       "0     666020888022790149  https://pbs.twimg.com/media/CT4udn0WwAA0aMy.jpg   \n",
       "1     666029285002620928  https://pbs.twimg.com/media/CT42GRgUYAA5iDo.jpg   \n",
       "2     666033412701032449  https://pbs.twimg.com/media/CT4521TWwAEvMyu.jpg   \n",
       "3     666044226329800704  https://pbs.twimg.com/media/CT5Dr8HUEAA-lEu.jpg   \n",
       "4     666049248165822465  https://pbs.twimg.com/media/CT5IQmsXIAAKY4A.jpg   \n",
       "...                  ...                                              ...   \n",
       "2070  891327558926688256  https://pbs.twimg.com/media/DF6hr6BUMAAzZgT.jpg   \n",
       "2071  891689557279858688  https://pbs.twimg.com/media/DF_q7IAWsAEuuN8.jpg   \n",
       "2072  891815181378084864  https://pbs.twimg.com/media/DGBdLU1WsAANxJ9.jpg   \n",
       "2073  892177421306343426  https://pbs.twimg.com/media/DGGmoV4XsAAUL6n.jpg   \n",
       "2074  892420643555336193  https://pbs.twimg.com/media/DGKD1-bXoAAIAUK.jpg   \n",
       "\n",
       "      img_num                      p1   p1_conf  p1_dog                  p2  \\\n",
       "0           1  Welsh_springer_spaniel  0.465074    True              collie   \n",
       "1           1                 redbone  0.506826    True  miniature_pinscher   \n",
       "2           1         German_shepherd  0.596461    True            malinois   \n",
       "3           1     Rhodesian_ridgeback  0.408143    True             redbone   \n",
       "4           1      miniature_pinscher  0.560311    True          Rottweiler   \n",
       "...       ...                     ...       ...     ...                 ...   \n",
       "2070        2                  basset  0.555712    True    English_springer   \n",
       "2071        1             paper_towel  0.170278   False  Labrador_retriever   \n",
       "2072        1               Chihuahua  0.716012    True            malamute   \n",
       "2073        1               Chihuahua  0.323581    True            Pekinese   \n",
       "2074        1                  orange  0.097049   False               bagel   \n",
       "\n",
       "       p2_conf  p2_dog                           p3   p3_conf  p3_dog  \n",
       "0     0.156665    True            Shetland_sheepdog  0.061428    True  \n",
       "1     0.074192    True          Rhodesian_ridgeback  0.072010    True  \n",
       "2     0.138584    True                   bloodhound  0.116197    True  \n",
       "3     0.360687    True           miniature_pinscher  0.222752    True  \n",
       "4     0.243682    True                     Doberman  0.154629    True  \n",
       "...        ...     ...                          ...       ...     ...  \n",
       "2070  0.225770    True  German_short-haired_pointer  0.175219    True  \n",
       "2071  0.168086    True                      spatula  0.040836   False  \n",
       "2072  0.078253    True                       kelpie  0.031379    True  \n",
       "2073  0.090647    True                     papillon  0.068957    True  \n",
       "2074  0.085851   False                       banana  0.076110   False  \n",
       "\n",
       "[2075 rows x 12 columns]"
      ]
     },
     "execution_count": 11,
     "metadata": {},
     "output_type": "execute_result"
    }
   ],
   "source": [
    "image_df"
   ]
  },
  {
   "cell_type": "markdown",
   "metadata": {},
   "source": [
    "## 1c. Twitter API"
   ]
  },
  {
   "cell_type": "code",
   "execution_count": 12,
   "metadata": {},
   "outputs": [],
   "source": [
    "import tweepy\n",
    "import json\n",
    "import re"
   ]
  },
  {
   "cell_type": "code",
   "execution_count": 13,
   "metadata": {},
   "outputs": [],
   "source": [
    "consumer_key = ''\n",
    "consumer_secret = ''\n",
    "access_token = ''\n",
    "access_secret = ''\n",
    "\n",
    "auth = tweepy.OAuthHandler(consumer_key, consumer_secret)\n",
    "auth.set_access_token(access_token, access_secret)\n",
    "\n",
    "api = tweepy.API(auth, parser=tweepy.parsers.JSONParser())"
   ]
  },
  {
   "cell_type": "code",
   "execution_count": 1,
   "metadata": {
    "scrolled": true
   },
   "outputs": [],
   "source": [
    "# use the API to collect data\n",
    "tweet_data = []\n",
    "success_tweet = []\n",
    "missing_tweet = []\n",
    "\n",
    "for tweet_id in dog_archive['tweet_id']:\n",
    "    try:\n",
    "        data = api.get_status(tweet_id, tweet_mode = 'extended',\n",
    "                             wait_on_rate_limit = True, wait_on_rate_limit_notify = True)\n",
    "        \n",
    "        tweet_data.append(data)\n",
    "        success_tweet.append(tweet_id)\n",
    "    except Exception as e:\n",
    "        missing_tweet.append(tweet_id)\n",
    "        print(f'{tweet_id}: {e}')"
   ]
  },
  {
   "cell_type": "code",
   "execution_count": 15,
   "metadata": {},
   "outputs": [],
   "source": [
    "# Write tweet data to json file\n",
    "with open('tweet_json.txt', mode = 'w') as file:\n",
    "    json.dump(tweet_data, file)"
   ]
  },
  {
   "cell_type": "code",
   "execution_count": 16,
   "metadata": {},
   "outputs": [],
   "source": [
    "# Load the Twitter API data\n",
    "tweet_api = pd.read_json('tweet_json.txt')\n",
    "tweet_api['tweet_id'] = tweet_api['id']\n",
    "tweet_api = tweet_api[['tweet_id', 'favorite_count', 'retweet_count', 'created_at', 'full_text']]"
   ]
  },
  {
   "cell_type": "code",
   "execution_count": 17,
   "metadata": {},
   "outputs": [
    {
     "data": {
      "text/plain": [
       "(1945, 5)"
      ]
     },
     "execution_count": 17,
     "metadata": {},
     "output_type": "execute_result"
    }
   ],
   "source": [
    "tweet_api.shape"
   ]
  },
  {
   "cell_type": "markdown",
   "metadata": {},
   "source": [
    "<a id='assessing'></a>\n",
    "\n",
    "# 2. Assessing Data"
   ]
  },
  {
   "cell_type": "markdown",
   "metadata": {},
   "source": [
    "### 2a. Assessing `The WeRateDogs Twitter Archive`"
   ]
  },
  {
   "cell_type": "code",
   "execution_count": 18,
   "metadata": {},
   "outputs": [
    {
     "data": {
      "text/html": [
       "<div>\n",
       "<style scoped>\n",
       "    .dataframe tbody tr th:only-of-type {\n",
       "        vertical-align: middle;\n",
       "    }\n",
       "\n",
       "    .dataframe tbody tr th {\n",
       "        vertical-align: top;\n",
       "    }\n",
       "\n",
       "    .dataframe thead th {\n",
       "        text-align: right;\n",
       "    }\n",
       "</style>\n",
       "<table border=\"1\" class=\"dataframe\">\n",
       "  <thead>\n",
       "    <tr style=\"text-align: right;\">\n",
       "      <th></th>\n",
       "      <th>tweet_id</th>\n",
       "      <th>in_reply_to_status_id</th>\n",
       "      <th>in_reply_to_user_id</th>\n",
       "      <th>timestamp</th>\n",
       "      <th>source</th>\n",
       "      <th>text</th>\n",
       "      <th>retweeted_status_id</th>\n",
       "      <th>retweeted_status_user_id</th>\n",
       "      <th>retweeted_status_timestamp</th>\n",
       "      <th>expanded_urls</th>\n",
       "      <th>rating_numerator</th>\n",
       "      <th>rating_denominator</th>\n",
       "      <th>name</th>\n",
       "      <th>doggo</th>\n",
       "      <th>floofer</th>\n",
       "      <th>pupper</th>\n",
       "      <th>puppo</th>\n",
       "    </tr>\n",
       "  </thead>\n",
       "  <tbody>\n",
       "    <tr>\n",
       "      <th>0</th>\n",
       "      <td>892420643555336193</td>\n",
       "      <td>NaN</td>\n",
       "      <td>NaN</td>\n",
       "      <td>2017-08-01 16:23:56 +0000</td>\n",
       "      <td>&lt;a href=\"http://twitter.com/download/iphone\" r...</td>\n",
       "      <td>This is Phineas. He's a mystical boy. Only eve...</td>\n",
       "      <td>NaN</td>\n",
       "      <td>NaN</td>\n",
       "      <td>NaN</td>\n",
       "      <td>https://twitter.com/dog_rates/status/892420643...</td>\n",
       "      <td>13</td>\n",
       "      <td>10</td>\n",
       "      <td>Phineas</td>\n",
       "      <td>None</td>\n",
       "      <td>None</td>\n",
       "      <td>None</td>\n",
       "      <td>None</td>\n",
       "    </tr>\n",
       "    <tr>\n",
       "      <th>1</th>\n",
       "      <td>892177421306343426</td>\n",
       "      <td>NaN</td>\n",
       "      <td>NaN</td>\n",
       "      <td>2017-08-01 00:17:27 +0000</td>\n",
       "      <td>&lt;a href=\"http://twitter.com/download/iphone\" r...</td>\n",
       "      <td>This is Tilly. She's just checking pup on you....</td>\n",
       "      <td>NaN</td>\n",
       "      <td>NaN</td>\n",
       "      <td>NaN</td>\n",
       "      <td>https://twitter.com/dog_rates/status/892177421...</td>\n",
       "      <td>13</td>\n",
       "      <td>10</td>\n",
       "      <td>Tilly</td>\n",
       "      <td>None</td>\n",
       "      <td>None</td>\n",
       "      <td>None</td>\n",
       "      <td>None</td>\n",
       "    </tr>\n",
       "    <tr>\n",
       "      <th>2</th>\n",
       "      <td>891815181378084864</td>\n",
       "      <td>NaN</td>\n",
       "      <td>NaN</td>\n",
       "      <td>2017-07-31 00:18:03 +0000</td>\n",
       "      <td>&lt;a href=\"http://twitter.com/download/iphone\" r...</td>\n",
       "      <td>This is Archie. He is a rare Norwegian Pouncin...</td>\n",
       "      <td>NaN</td>\n",
       "      <td>NaN</td>\n",
       "      <td>NaN</td>\n",
       "      <td>https://twitter.com/dog_rates/status/891815181...</td>\n",
       "      <td>12</td>\n",
       "      <td>10</td>\n",
       "      <td>Archie</td>\n",
       "      <td>None</td>\n",
       "      <td>None</td>\n",
       "      <td>None</td>\n",
       "      <td>None</td>\n",
       "    </tr>\n",
       "    <tr>\n",
       "      <th>3</th>\n",
       "      <td>891689557279858688</td>\n",
       "      <td>NaN</td>\n",
       "      <td>NaN</td>\n",
       "      <td>2017-07-30 15:58:51 +0000</td>\n",
       "      <td>&lt;a href=\"http://twitter.com/download/iphone\" r...</td>\n",
       "      <td>This is Darla. She commenced a snooze mid meal...</td>\n",
       "      <td>NaN</td>\n",
       "      <td>NaN</td>\n",
       "      <td>NaN</td>\n",
       "      <td>https://twitter.com/dog_rates/status/891689557...</td>\n",
       "      <td>13</td>\n",
       "      <td>10</td>\n",
       "      <td>Darla</td>\n",
       "      <td>None</td>\n",
       "      <td>None</td>\n",
       "      <td>None</td>\n",
       "      <td>None</td>\n",
       "    </tr>\n",
       "    <tr>\n",
       "      <th>4</th>\n",
       "      <td>891327558926688256</td>\n",
       "      <td>NaN</td>\n",
       "      <td>NaN</td>\n",
       "      <td>2017-07-29 16:00:24 +0000</td>\n",
       "      <td>&lt;a href=\"http://twitter.com/download/iphone\" r...</td>\n",
       "      <td>This is Franklin. He would like you to stop ca...</td>\n",
       "      <td>NaN</td>\n",
       "      <td>NaN</td>\n",
       "      <td>NaN</td>\n",
       "      <td>https://twitter.com/dog_rates/status/891327558...</td>\n",
       "      <td>12</td>\n",
       "      <td>10</td>\n",
       "      <td>Franklin</td>\n",
       "      <td>None</td>\n",
       "      <td>None</td>\n",
       "      <td>None</td>\n",
       "      <td>None</td>\n",
       "    </tr>\n",
       "    <tr>\n",
       "      <th>...</th>\n",
       "      <td>...</td>\n",
       "      <td>...</td>\n",
       "      <td>...</td>\n",
       "      <td>...</td>\n",
       "      <td>...</td>\n",
       "      <td>...</td>\n",
       "      <td>...</td>\n",
       "      <td>...</td>\n",
       "      <td>...</td>\n",
       "      <td>...</td>\n",
       "      <td>...</td>\n",
       "      <td>...</td>\n",
       "      <td>...</td>\n",
       "      <td>...</td>\n",
       "      <td>...</td>\n",
       "      <td>...</td>\n",
       "      <td>...</td>\n",
       "    </tr>\n",
       "    <tr>\n",
       "      <th>2351</th>\n",
       "      <td>666049248165822465</td>\n",
       "      <td>NaN</td>\n",
       "      <td>NaN</td>\n",
       "      <td>2015-11-16 00:24:50 +0000</td>\n",
       "      <td>&lt;a href=\"http://twitter.com/download/iphone\" r...</td>\n",
       "      <td>Here we have a 1949 1st generation vulpix. Enj...</td>\n",
       "      <td>NaN</td>\n",
       "      <td>NaN</td>\n",
       "      <td>NaN</td>\n",
       "      <td>https://twitter.com/dog_rates/status/666049248...</td>\n",
       "      <td>5</td>\n",
       "      <td>10</td>\n",
       "      <td>None</td>\n",
       "      <td>None</td>\n",
       "      <td>None</td>\n",
       "      <td>None</td>\n",
       "      <td>None</td>\n",
       "    </tr>\n",
       "    <tr>\n",
       "      <th>2352</th>\n",
       "      <td>666044226329800704</td>\n",
       "      <td>NaN</td>\n",
       "      <td>NaN</td>\n",
       "      <td>2015-11-16 00:04:52 +0000</td>\n",
       "      <td>&lt;a href=\"http://twitter.com/download/iphone\" r...</td>\n",
       "      <td>This is a purebred Piers Morgan. Loves to Netf...</td>\n",
       "      <td>NaN</td>\n",
       "      <td>NaN</td>\n",
       "      <td>NaN</td>\n",
       "      <td>https://twitter.com/dog_rates/status/666044226...</td>\n",
       "      <td>6</td>\n",
       "      <td>10</td>\n",
       "      <td>a</td>\n",
       "      <td>None</td>\n",
       "      <td>None</td>\n",
       "      <td>None</td>\n",
       "      <td>None</td>\n",
       "    </tr>\n",
       "    <tr>\n",
       "      <th>2353</th>\n",
       "      <td>666033412701032449</td>\n",
       "      <td>NaN</td>\n",
       "      <td>NaN</td>\n",
       "      <td>2015-11-15 23:21:54 +0000</td>\n",
       "      <td>&lt;a href=\"http://twitter.com/download/iphone\" r...</td>\n",
       "      <td>Here is a very happy pup. Big fan of well-main...</td>\n",
       "      <td>NaN</td>\n",
       "      <td>NaN</td>\n",
       "      <td>NaN</td>\n",
       "      <td>https://twitter.com/dog_rates/status/666033412...</td>\n",
       "      <td>9</td>\n",
       "      <td>10</td>\n",
       "      <td>a</td>\n",
       "      <td>None</td>\n",
       "      <td>None</td>\n",
       "      <td>None</td>\n",
       "      <td>None</td>\n",
       "    </tr>\n",
       "    <tr>\n",
       "      <th>2354</th>\n",
       "      <td>666029285002620928</td>\n",
       "      <td>NaN</td>\n",
       "      <td>NaN</td>\n",
       "      <td>2015-11-15 23:05:30 +0000</td>\n",
       "      <td>&lt;a href=\"http://twitter.com/download/iphone\" r...</td>\n",
       "      <td>This is a western brown Mitsubishi terrier. Up...</td>\n",
       "      <td>NaN</td>\n",
       "      <td>NaN</td>\n",
       "      <td>NaN</td>\n",
       "      <td>https://twitter.com/dog_rates/status/666029285...</td>\n",
       "      <td>7</td>\n",
       "      <td>10</td>\n",
       "      <td>a</td>\n",
       "      <td>None</td>\n",
       "      <td>None</td>\n",
       "      <td>None</td>\n",
       "      <td>None</td>\n",
       "    </tr>\n",
       "    <tr>\n",
       "      <th>2355</th>\n",
       "      <td>666020888022790149</td>\n",
       "      <td>NaN</td>\n",
       "      <td>NaN</td>\n",
       "      <td>2015-11-15 22:32:08 +0000</td>\n",
       "      <td>&lt;a href=\"http://twitter.com/download/iphone\" r...</td>\n",
       "      <td>Here we have a Japanese Irish Setter. Lost eye...</td>\n",
       "      <td>NaN</td>\n",
       "      <td>NaN</td>\n",
       "      <td>NaN</td>\n",
       "      <td>https://twitter.com/dog_rates/status/666020888...</td>\n",
       "      <td>8</td>\n",
       "      <td>10</td>\n",
       "      <td>None</td>\n",
       "      <td>None</td>\n",
       "      <td>None</td>\n",
       "      <td>None</td>\n",
       "      <td>None</td>\n",
       "    </tr>\n",
       "  </tbody>\n",
       "</table>\n",
       "<p>2356 rows × 17 columns</p>\n",
       "</div>"
      ],
      "text/plain": [
       "                tweet_id  in_reply_to_status_id  in_reply_to_user_id  \\\n",
       "0     892420643555336193                    NaN                  NaN   \n",
       "1     892177421306343426                    NaN                  NaN   \n",
       "2     891815181378084864                    NaN                  NaN   \n",
       "3     891689557279858688                    NaN                  NaN   \n",
       "4     891327558926688256                    NaN                  NaN   \n",
       "...                  ...                    ...                  ...   \n",
       "2351  666049248165822465                    NaN                  NaN   \n",
       "2352  666044226329800704                    NaN                  NaN   \n",
       "2353  666033412701032449                    NaN                  NaN   \n",
       "2354  666029285002620928                    NaN                  NaN   \n",
       "2355  666020888022790149                    NaN                  NaN   \n",
       "\n",
       "                      timestamp  \\\n",
       "0     2017-08-01 16:23:56 +0000   \n",
       "1     2017-08-01 00:17:27 +0000   \n",
       "2     2017-07-31 00:18:03 +0000   \n",
       "3     2017-07-30 15:58:51 +0000   \n",
       "4     2017-07-29 16:00:24 +0000   \n",
       "...                         ...   \n",
       "2351  2015-11-16 00:24:50 +0000   \n",
       "2352  2015-11-16 00:04:52 +0000   \n",
       "2353  2015-11-15 23:21:54 +0000   \n",
       "2354  2015-11-15 23:05:30 +0000   \n",
       "2355  2015-11-15 22:32:08 +0000   \n",
       "\n",
       "                                                 source  \\\n",
       "0     <a href=\"http://twitter.com/download/iphone\" r...   \n",
       "1     <a href=\"http://twitter.com/download/iphone\" r...   \n",
       "2     <a href=\"http://twitter.com/download/iphone\" r...   \n",
       "3     <a href=\"http://twitter.com/download/iphone\" r...   \n",
       "4     <a href=\"http://twitter.com/download/iphone\" r...   \n",
       "...                                                 ...   \n",
       "2351  <a href=\"http://twitter.com/download/iphone\" r...   \n",
       "2352  <a href=\"http://twitter.com/download/iphone\" r...   \n",
       "2353  <a href=\"http://twitter.com/download/iphone\" r...   \n",
       "2354  <a href=\"http://twitter.com/download/iphone\" r...   \n",
       "2355  <a href=\"http://twitter.com/download/iphone\" r...   \n",
       "\n",
       "                                                   text  retweeted_status_id  \\\n",
       "0     This is Phineas. He's a mystical boy. Only eve...                  NaN   \n",
       "1     This is Tilly. She's just checking pup on you....                  NaN   \n",
       "2     This is Archie. He is a rare Norwegian Pouncin...                  NaN   \n",
       "3     This is Darla. She commenced a snooze mid meal...                  NaN   \n",
       "4     This is Franklin. He would like you to stop ca...                  NaN   \n",
       "...                                                 ...                  ...   \n",
       "2351  Here we have a 1949 1st generation vulpix. Enj...                  NaN   \n",
       "2352  This is a purebred Piers Morgan. Loves to Netf...                  NaN   \n",
       "2353  Here is a very happy pup. Big fan of well-main...                  NaN   \n",
       "2354  This is a western brown Mitsubishi terrier. Up...                  NaN   \n",
       "2355  Here we have a Japanese Irish Setter. Lost eye...                  NaN   \n",
       "\n",
       "      retweeted_status_user_id retweeted_status_timestamp  \\\n",
       "0                          NaN                        NaN   \n",
       "1                          NaN                        NaN   \n",
       "2                          NaN                        NaN   \n",
       "3                          NaN                        NaN   \n",
       "4                          NaN                        NaN   \n",
       "...                        ...                        ...   \n",
       "2351                       NaN                        NaN   \n",
       "2352                       NaN                        NaN   \n",
       "2353                       NaN                        NaN   \n",
       "2354                       NaN                        NaN   \n",
       "2355                       NaN                        NaN   \n",
       "\n",
       "                                          expanded_urls  rating_numerator  \\\n",
       "0     https://twitter.com/dog_rates/status/892420643...                13   \n",
       "1     https://twitter.com/dog_rates/status/892177421...                13   \n",
       "2     https://twitter.com/dog_rates/status/891815181...                12   \n",
       "3     https://twitter.com/dog_rates/status/891689557...                13   \n",
       "4     https://twitter.com/dog_rates/status/891327558...                12   \n",
       "...                                                 ...               ...   \n",
       "2351  https://twitter.com/dog_rates/status/666049248...                 5   \n",
       "2352  https://twitter.com/dog_rates/status/666044226...                 6   \n",
       "2353  https://twitter.com/dog_rates/status/666033412...                 9   \n",
       "2354  https://twitter.com/dog_rates/status/666029285...                 7   \n",
       "2355  https://twitter.com/dog_rates/status/666020888...                 8   \n",
       "\n",
       "      rating_denominator      name doggo floofer pupper puppo  \n",
       "0                     10   Phineas  None    None   None  None  \n",
       "1                     10     Tilly  None    None   None  None  \n",
       "2                     10    Archie  None    None   None  None  \n",
       "3                     10     Darla  None    None   None  None  \n",
       "4                     10  Franklin  None    None   None  None  \n",
       "...                  ...       ...   ...     ...    ...   ...  \n",
       "2351                  10      None  None    None   None  None  \n",
       "2352                  10         a  None    None   None  None  \n",
       "2353                  10         a  None    None   None  None  \n",
       "2354                  10         a  None    None   None  None  \n",
       "2355                  10      None  None    None   None  None  \n",
       "\n",
       "[2356 rows x 17 columns]"
      ]
     },
     "execution_count": 18,
     "metadata": {},
     "output_type": "execute_result"
    }
   ],
   "source": [
    "dog_archive"
   ]
  },
  {
   "cell_type": "code",
   "execution_count": 19,
   "metadata": {
    "scrolled": false
   },
   "outputs": [
    {
     "name": "stdout",
     "output_type": "stream",
     "text": [
      "<class 'pandas.core.frame.DataFrame'>\n",
      "RangeIndex: 2356 entries, 0 to 2355\n",
      "Data columns (total 17 columns):\n",
      " #   Column                      Non-Null Count  Dtype  \n",
      "---  ------                      --------------  -----  \n",
      " 0   tweet_id                    2356 non-null   int64  \n",
      " 1   in_reply_to_status_id       78 non-null     float64\n",
      " 2   in_reply_to_user_id         78 non-null     float64\n",
      " 3   timestamp                   2356 non-null   object \n",
      " 4   source                      2356 non-null   object \n",
      " 5   text                        2356 non-null   object \n",
      " 6   retweeted_status_id         181 non-null    float64\n",
      " 7   retweeted_status_user_id    181 non-null    float64\n",
      " 8   retweeted_status_timestamp  181 non-null    object \n",
      " 9   expanded_urls               2297 non-null   object \n",
      " 10  rating_numerator            2356 non-null   int64  \n",
      " 11  rating_denominator          2356 non-null   int64  \n",
      " 12  name                        2356 non-null   object \n",
      " 13  doggo                       2356 non-null   object \n",
      " 14  floofer                     2356 non-null   object \n",
      " 15  pupper                      2356 non-null   object \n",
      " 16  puppo                       2356 non-null   object \n",
      "dtypes: float64(4), int64(3), object(10)\n",
      "memory usage: 313.0+ KB\n"
     ]
    }
   ],
   "source": [
    "dog_archive.info()"
   ]
  },
  {
   "cell_type": "markdown",
   "metadata": {},
   "source": [
    "`timestamp` appears to be in object instead of datetime"
   ]
  },
  {
   "cell_type": "code",
   "execution_count": 20,
   "metadata": {},
   "outputs": [
    {
     "data": {
      "text/plain": [
       "(2356, 17)"
      ]
     },
     "execution_count": 20,
     "metadata": {},
     "output_type": "execute_result"
    }
   ],
   "source": [
    "dog_archive.shape"
   ]
  },
  {
   "cell_type": "code",
   "execution_count": 21,
   "metadata": {},
   "outputs": [
    {
     "data": {
      "text/plain": [
       "tweet_id                         0\n",
       "in_reply_to_status_id         2278\n",
       "in_reply_to_user_id           2278\n",
       "timestamp                        0\n",
       "source                           0\n",
       "text                             0\n",
       "retweeted_status_id           2175\n",
       "retweeted_status_user_id      2175\n",
       "retweeted_status_timestamp    2175\n",
       "expanded_urls                   59\n",
       "rating_numerator                 0\n",
       "rating_denominator               0\n",
       "name                             0\n",
       "doggo                            0\n",
       "floofer                          0\n",
       "pupper                           0\n",
       "puppo                            0\n",
       "dtype: int64"
      ]
     },
     "execution_count": 21,
     "metadata": {},
     "output_type": "execute_result"
    }
   ],
   "source": [
    "# Check for missing value\n",
    "dog_archive.isnull().sum()"
   ]
  },
  {
   "cell_type": "code",
   "execution_count": 22,
   "metadata": {},
   "outputs": [
    {
     "data": {
      "text/plain": [
       "0"
      ]
     },
     "execution_count": 22,
     "metadata": {},
     "output_type": "execute_result"
    }
   ],
   "source": [
    "# Check for duplicates \n",
    "dog_archive.duplicated().sum()"
   ]
  },
  {
   "cell_type": "code",
   "execution_count": 23,
   "metadata": {},
   "outputs": [
    {
     "data": {
      "text/plain": [
       "12      558\n",
       "11      464\n",
       "10      461\n",
       "13      351\n",
       "9       158\n",
       "8       102\n",
       "7        55\n",
       "14       54\n",
       "5        37\n",
       "6        32\n",
       "3        19\n",
       "4        17\n",
       "2         9\n",
       "1         9\n",
       "75        2\n",
       "15        2\n",
       "420       2\n",
       "0         2\n",
       "80        1\n",
       "144       1\n",
       "17        1\n",
       "26        1\n",
       "20        1\n",
       "121       1\n",
       "143       1\n",
       "44        1\n",
       "60        1\n",
       "45        1\n",
       "50        1\n",
       "99        1\n",
       "204       1\n",
       "1776      1\n",
       "165       1\n",
       "666       1\n",
       "27        1\n",
       "182       1\n",
       "24        1\n",
       "960       1\n",
       "84        1\n",
       "88        1\n",
       "Name: rating_numerator, dtype: int64"
      ]
     },
     "execution_count": 23,
     "metadata": {},
     "output_type": "execute_result"
    }
   ],
   "source": [
    "# Check the value counts for rating numerator\n",
    "dog_archive.rating_numerator.value_counts()"
   ]
  },
  {
   "cell_type": "code",
   "execution_count": 24,
   "metadata": {},
   "outputs": [
    {
     "data": {
      "text/plain": [
       "10     2333\n",
       "11        3\n",
       "50        3\n",
       "20        2\n",
       "80        2\n",
       "70        1\n",
       "7         1\n",
       "15        1\n",
       "150       1\n",
       "170       1\n",
       "0         1\n",
       "90        1\n",
       "40        1\n",
       "130       1\n",
       "110       1\n",
       "16        1\n",
       "120       1\n",
       "2         1\n",
       "Name: rating_denominator, dtype: int64"
      ]
     },
     "execution_count": 24,
     "metadata": {},
     "output_type": "execute_result"
    }
   ],
   "source": [
    "# Check the value counts for rating denominator\n",
    "dog_archive['rating_denominator'].value_counts()"
   ]
  },
  {
   "cell_type": "markdown",
   "metadata": {},
   "source": [
    "                                           "
   ]
  },
  {
   "cell_type": "markdown",
   "metadata": {},
   "source": [
    "Checking the observations of the very high numerator rating; 3 figures and above (420, 144, 121, 143, 204, 1776, 165, 666, 182, 960)"
   ]
  },
  {
   "cell_type": "code",
   "execution_count": 25,
   "metadata": {},
   "outputs": [
    {
     "data": {
      "text/html": [
       "<div>\n",
       "<style scoped>\n",
       "    .dataframe tbody tr th:only-of-type {\n",
       "        vertical-align: middle;\n",
       "    }\n",
       "\n",
       "    .dataframe tbody tr th {\n",
       "        vertical-align: top;\n",
       "    }\n",
       "\n",
       "    .dataframe thead th {\n",
       "        text-align: right;\n",
       "    }\n",
       "</style>\n",
       "<table border=\"1\" class=\"dataframe\">\n",
       "  <thead>\n",
       "    <tr style=\"text-align: right;\">\n",
       "      <th></th>\n",
       "      <th>tweet_id</th>\n",
       "      <th>in_reply_to_status_id</th>\n",
       "      <th>in_reply_to_user_id</th>\n",
       "      <th>timestamp</th>\n",
       "      <th>source</th>\n",
       "      <th>text</th>\n",
       "      <th>retweeted_status_id</th>\n",
       "      <th>retweeted_status_user_id</th>\n",
       "      <th>retweeted_status_timestamp</th>\n",
       "      <th>expanded_urls</th>\n",
       "      <th>rating_numerator</th>\n",
       "      <th>rating_denominator</th>\n",
       "      <th>name</th>\n",
       "      <th>doggo</th>\n",
       "      <th>floofer</th>\n",
       "      <th>pupper</th>\n",
       "      <th>puppo</th>\n",
       "    </tr>\n",
       "  </thead>\n",
       "  <tbody>\n",
       "    <tr>\n",
       "      <th>188</th>\n",
       "      <td>855862651834028034</td>\n",
       "      <td>8.558616e+17</td>\n",
       "      <td>194351775.0</td>\n",
       "      <td>2017-04-22 19:15:32 +0000</td>\n",
       "      <td>&lt;a href=\"http://twitter.com/download/iphone\" r...</td>\n",
       "      <td>@dhmontgomery We also gave snoop dogg a 420/10...</td>\n",
       "      <td>NaN</td>\n",
       "      <td>NaN</td>\n",
       "      <td>NaN</td>\n",
       "      <td>NaN</td>\n",
       "      <td>420</td>\n",
       "      <td>10</td>\n",
       "      <td>None</td>\n",
       "      <td>None</td>\n",
       "      <td>None</td>\n",
       "      <td>None</td>\n",
       "      <td>None</td>\n",
       "    </tr>\n",
       "    <tr>\n",
       "      <th>2074</th>\n",
       "      <td>670842764863651840</td>\n",
       "      <td>NaN</td>\n",
       "      <td>NaN</td>\n",
       "      <td>2015-11-29 05:52:33 +0000</td>\n",
       "      <td>&lt;a href=\"http://twitter.com/download/iphone\" r...</td>\n",
       "      <td>After so many requests... here you go.\\n\\nGood...</td>\n",
       "      <td>NaN</td>\n",
       "      <td>NaN</td>\n",
       "      <td>NaN</td>\n",
       "      <td>https://twitter.com/dog_rates/status/670842764...</td>\n",
       "      <td>420</td>\n",
       "      <td>10</td>\n",
       "      <td>None</td>\n",
       "      <td>None</td>\n",
       "      <td>None</td>\n",
       "      <td>None</td>\n",
       "      <td>None</td>\n",
       "    </tr>\n",
       "  </tbody>\n",
       "</table>\n",
       "</div>"
      ],
      "text/plain": [
       "                tweet_id  in_reply_to_status_id  in_reply_to_user_id  \\\n",
       "188   855862651834028034           8.558616e+17          194351775.0   \n",
       "2074  670842764863651840                    NaN                  NaN   \n",
       "\n",
       "                      timestamp  \\\n",
       "188   2017-04-22 19:15:32 +0000   \n",
       "2074  2015-11-29 05:52:33 +0000   \n",
       "\n",
       "                                                 source  \\\n",
       "188   <a href=\"http://twitter.com/download/iphone\" r...   \n",
       "2074  <a href=\"http://twitter.com/download/iphone\" r...   \n",
       "\n",
       "                                                   text  retweeted_status_id  \\\n",
       "188   @dhmontgomery We also gave snoop dogg a 420/10...                  NaN   \n",
       "2074  After so many requests... here you go.\\n\\nGood...                  NaN   \n",
       "\n",
       "      retweeted_status_user_id retweeted_status_timestamp  \\\n",
       "188                        NaN                        NaN   \n",
       "2074                       NaN                        NaN   \n",
       "\n",
       "                                          expanded_urls  rating_numerator  \\\n",
       "188                                                 NaN               420   \n",
       "2074  https://twitter.com/dog_rates/status/670842764...               420   \n",
       "\n",
       "      rating_denominator  name doggo floofer pupper puppo  \n",
       "188                   10  None  None    None   None  None  \n",
       "2074                  10  None  None    None   None  None  "
      ]
     },
     "execution_count": 25,
     "metadata": {},
     "output_type": "execute_result"
    }
   ],
   "source": [
    "# checking observation of the very high rating numerator\n",
    "dog_archive[dog_archive['rating_numerator'] == 420]"
   ]
  },
  {
   "cell_type": "code",
   "execution_count": 26,
   "metadata": {},
   "outputs": [
    {
     "data": {
      "text/html": [
       "<div>\n",
       "<style scoped>\n",
       "    .dataframe tbody tr th:only-of-type {\n",
       "        vertical-align: middle;\n",
       "    }\n",
       "\n",
       "    .dataframe tbody tr th {\n",
       "        vertical-align: top;\n",
       "    }\n",
       "\n",
       "    .dataframe thead th {\n",
       "        text-align: right;\n",
       "    }\n",
       "</style>\n",
       "<table border=\"1\" class=\"dataframe\">\n",
       "  <thead>\n",
       "    <tr style=\"text-align: right;\">\n",
       "      <th></th>\n",
       "      <th>tweet_id</th>\n",
       "      <th>in_reply_to_status_id</th>\n",
       "      <th>in_reply_to_user_id</th>\n",
       "      <th>timestamp</th>\n",
       "      <th>source</th>\n",
       "      <th>text</th>\n",
       "      <th>retweeted_status_id</th>\n",
       "      <th>retweeted_status_user_id</th>\n",
       "      <th>retweeted_status_timestamp</th>\n",
       "      <th>expanded_urls</th>\n",
       "      <th>rating_numerator</th>\n",
       "      <th>rating_denominator</th>\n",
       "      <th>name</th>\n",
       "      <th>doggo</th>\n",
       "      <th>floofer</th>\n",
       "      <th>pupper</th>\n",
       "      <th>puppo</th>\n",
       "    </tr>\n",
       "  </thead>\n",
       "  <tbody>\n",
       "    <tr>\n",
       "      <th>1779</th>\n",
       "      <td>677716515794329600</td>\n",
       "      <td>NaN</td>\n",
       "      <td>NaN</td>\n",
       "      <td>2015-12-18 05:06:23 +0000</td>\n",
       "      <td>&lt;a href=\"http://twitter.com/download/iphone\" r...</td>\n",
       "      <td>IT'S PUPPERGEDDON. Total of 144/120 ...I think...</td>\n",
       "      <td>NaN</td>\n",
       "      <td>NaN</td>\n",
       "      <td>NaN</td>\n",
       "      <td>https://twitter.com/dog_rates/status/677716515...</td>\n",
       "      <td>144</td>\n",
       "      <td>120</td>\n",
       "      <td>None</td>\n",
       "      <td>None</td>\n",
       "      <td>None</td>\n",
       "      <td>None</td>\n",
       "      <td>None</td>\n",
       "    </tr>\n",
       "  </tbody>\n",
       "</table>\n",
       "</div>"
      ],
      "text/plain": [
       "                tweet_id  in_reply_to_status_id  in_reply_to_user_id  \\\n",
       "1779  677716515794329600                    NaN                  NaN   \n",
       "\n",
       "                      timestamp  \\\n",
       "1779  2015-12-18 05:06:23 +0000   \n",
       "\n",
       "                                                 source  \\\n",
       "1779  <a href=\"http://twitter.com/download/iphone\" r...   \n",
       "\n",
       "                                                   text  retweeted_status_id  \\\n",
       "1779  IT'S PUPPERGEDDON. Total of 144/120 ...I think...                  NaN   \n",
       "\n",
       "      retweeted_status_user_id retweeted_status_timestamp  \\\n",
       "1779                       NaN                        NaN   \n",
       "\n",
       "                                          expanded_urls  rating_numerator  \\\n",
       "1779  https://twitter.com/dog_rates/status/677716515...               144   \n",
       "\n",
       "      rating_denominator  name doggo floofer pupper puppo  \n",
       "1779                 120  None  None    None   None  None  "
      ]
     },
     "execution_count": 26,
     "metadata": {},
     "output_type": "execute_result"
    }
   ],
   "source": [
    "# checking observation of the very high rating numerator \n",
    "dog_archive[dog_archive['rating_numerator'] == 144]"
   ]
  },
  {
   "cell_type": "code",
   "execution_count": 27,
   "metadata": {},
   "outputs": [
    {
     "data": {
      "text/html": [
       "<div>\n",
       "<style scoped>\n",
       "    .dataframe tbody tr th:only-of-type {\n",
       "        vertical-align: middle;\n",
       "    }\n",
       "\n",
       "    .dataframe tbody tr th {\n",
       "        vertical-align: top;\n",
       "    }\n",
       "\n",
       "    .dataframe thead th {\n",
       "        text-align: right;\n",
       "    }\n",
       "</style>\n",
       "<table border=\"1\" class=\"dataframe\">\n",
       "  <thead>\n",
       "    <tr style=\"text-align: right;\">\n",
       "      <th></th>\n",
       "      <th>tweet_id</th>\n",
       "      <th>in_reply_to_status_id</th>\n",
       "      <th>in_reply_to_user_id</th>\n",
       "      <th>timestamp</th>\n",
       "      <th>source</th>\n",
       "      <th>text</th>\n",
       "      <th>retweeted_status_id</th>\n",
       "      <th>retweeted_status_user_id</th>\n",
       "      <th>retweeted_status_timestamp</th>\n",
       "      <th>expanded_urls</th>\n",
       "      <th>rating_numerator</th>\n",
       "      <th>rating_denominator</th>\n",
       "      <th>name</th>\n",
       "      <th>doggo</th>\n",
       "      <th>floofer</th>\n",
       "      <th>pupper</th>\n",
       "      <th>puppo</th>\n",
       "    </tr>\n",
       "  </thead>\n",
       "  <tbody>\n",
       "    <tr>\n",
       "      <th>1635</th>\n",
       "      <td>684222868335505415</td>\n",
       "      <td>NaN</td>\n",
       "      <td>NaN</td>\n",
       "      <td>2016-01-05 04:00:18 +0000</td>\n",
       "      <td>&lt;a href=\"http://twitter.com/download/iphone\" r...</td>\n",
       "      <td>Someone help the girl is being mugged. Several...</td>\n",
       "      <td>NaN</td>\n",
       "      <td>NaN</td>\n",
       "      <td>NaN</td>\n",
       "      <td>https://twitter.com/dog_rates/status/684222868...</td>\n",
       "      <td>121</td>\n",
       "      <td>110</td>\n",
       "      <td>None</td>\n",
       "      <td>None</td>\n",
       "      <td>None</td>\n",
       "      <td>None</td>\n",
       "      <td>None</td>\n",
       "    </tr>\n",
       "  </tbody>\n",
       "</table>\n",
       "</div>"
      ],
      "text/plain": [
       "                tweet_id  in_reply_to_status_id  in_reply_to_user_id  \\\n",
       "1635  684222868335505415                    NaN                  NaN   \n",
       "\n",
       "                      timestamp  \\\n",
       "1635  2016-01-05 04:00:18 +0000   \n",
       "\n",
       "                                                 source  \\\n",
       "1635  <a href=\"http://twitter.com/download/iphone\" r...   \n",
       "\n",
       "                                                   text  retweeted_status_id  \\\n",
       "1635  Someone help the girl is being mugged. Several...                  NaN   \n",
       "\n",
       "      retweeted_status_user_id retweeted_status_timestamp  \\\n",
       "1635                       NaN                        NaN   \n",
       "\n",
       "                                          expanded_urls  rating_numerator  \\\n",
       "1635  https://twitter.com/dog_rates/status/684222868...               121   \n",
       "\n",
       "      rating_denominator  name doggo floofer pupper puppo  \n",
       "1635                 110  None  None    None   None  None  "
      ]
     },
     "execution_count": 27,
     "metadata": {},
     "output_type": "execute_result"
    }
   ],
   "source": [
    "dog_archive[dog_archive['rating_numerator'] == 121]"
   ]
  },
  {
   "cell_type": "code",
   "execution_count": 28,
   "metadata": {},
   "outputs": [
    {
     "data": {
      "text/html": [
       "<div>\n",
       "<style scoped>\n",
       "    .dataframe tbody tr th:only-of-type {\n",
       "        vertical-align: middle;\n",
       "    }\n",
       "\n",
       "    .dataframe tbody tr th {\n",
       "        vertical-align: top;\n",
       "    }\n",
       "\n",
       "    .dataframe thead th {\n",
       "        text-align: right;\n",
       "    }\n",
       "</style>\n",
       "<table border=\"1\" class=\"dataframe\">\n",
       "  <thead>\n",
       "    <tr style=\"text-align: right;\">\n",
       "      <th></th>\n",
       "      <th>tweet_id</th>\n",
       "      <th>in_reply_to_status_id</th>\n",
       "      <th>in_reply_to_user_id</th>\n",
       "      <th>timestamp</th>\n",
       "      <th>source</th>\n",
       "      <th>text</th>\n",
       "      <th>retweeted_status_id</th>\n",
       "      <th>retweeted_status_user_id</th>\n",
       "      <th>retweeted_status_timestamp</th>\n",
       "      <th>expanded_urls</th>\n",
       "      <th>rating_numerator</th>\n",
       "      <th>rating_denominator</th>\n",
       "      <th>name</th>\n",
       "      <th>doggo</th>\n",
       "      <th>floofer</th>\n",
       "      <th>pupper</th>\n",
       "      <th>puppo</th>\n",
       "    </tr>\n",
       "  </thead>\n",
       "  <tbody>\n",
       "    <tr>\n",
       "      <th>1634</th>\n",
       "      <td>684225744407494656</td>\n",
       "      <td>6.842229e+17</td>\n",
       "      <td>4.196984e+09</td>\n",
       "      <td>2016-01-05 04:11:44 +0000</td>\n",
       "      <td>&lt;a href=\"http://twitter.com/download/iphone\" r...</td>\n",
       "      <td>Two sneaky puppers were not initially seen, mo...</td>\n",
       "      <td>NaN</td>\n",
       "      <td>NaN</td>\n",
       "      <td>NaN</td>\n",
       "      <td>https://twitter.com/dog_rates/status/684225744...</td>\n",
       "      <td>143</td>\n",
       "      <td>130</td>\n",
       "      <td>None</td>\n",
       "      <td>None</td>\n",
       "      <td>None</td>\n",
       "      <td>None</td>\n",
       "      <td>None</td>\n",
       "    </tr>\n",
       "  </tbody>\n",
       "</table>\n",
       "</div>"
      ],
      "text/plain": [
       "                tweet_id  in_reply_to_status_id  in_reply_to_user_id  \\\n",
       "1634  684225744407494656           6.842229e+17         4.196984e+09   \n",
       "\n",
       "                      timestamp  \\\n",
       "1634  2016-01-05 04:11:44 +0000   \n",
       "\n",
       "                                                 source  \\\n",
       "1634  <a href=\"http://twitter.com/download/iphone\" r...   \n",
       "\n",
       "                                                   text  retweeted_status_id  \\\n",
       "1634  Two sneaky puppers were not initially seen, mo...                  NaN   \n",
       "\n",
       "      retweeted_status_user_id retweeted_status_timestamp  \\\n",
       "1634                       NaN                        NaN   \n",
       "\n",
       "                                          expanded_urls  rating_numerator  \\\n",
       "1634  https://twitter.com/dog_rates/status/684225744...               143   \n",
       "\n",
       "      rating_denominator  name doggo floofer pupper puppo  \n",
       "1634                 130  None  None    None   None  None  "
      ]
     },
     "execution_count": 28,
     "metadata": {},
     "output_type": "execute_result"
    }
   ],
   "source": [
    "dog_archive[dog_archive['rating_numerator'] == 143]"
   ]
  },
  {
   "cell_type": "code",
   "execution_count": 29,
   "metadata": {},
   "outputs": [
    {
     "data": {
      "text/html": [
       "<div>\n",
       "<style scoped>\n",
       "    .dataframe tbody tr th:only-of-type {\n",
       "        vertical-align: middle;\n",
       "    }\n",
       "\n",
       "    .dataframe tbody tr th {\n",
       "        vertical-align: top;\n",
       "    }\n",
       "\n",
       "    .dataframe thead th {\n",
       "        text-align: right;\n",
       "    }\n",
       "</style>\n",
       "<table border=\"1\" class=\"dataframe\">\n",
       "  <thead>\n",
       "    <tr style=\"text-align: right;\">\n",
       "      <th></th>\n",
       "      <th>tweet_id</th>\n",
       "      <th>in_reply_to_status_id</th>\n",
       "      <th>in_reply_to_user_id</th>\n",
       "      <th>timestamp</th>\n",
       "      <th>source</th>\n",
       "      <th>text</th>\n",
       "      <th>retweeted_status_id</th>\n",
       "      <th>retweeted_status_user_id</th>\n",
       "      <th>retweeted_status_timestamp</th>\n",
       "      <th>expanded_urls</th>\n",
       "      <th>rating_numerator</th>\n",
       "      <th>rating_denominator</th>\n",
       "      <th>name</th>\n",
       "      <th>doggo</th>\n",
       "      <th>floofer</th>\n",
       "      <th>pupper</th>\n",
       "      <th>puppo</th>\n",
       "    </tr>\n",
       "  </thead>\n",
       "  <tbody>\n",
       "    <tr>\n",
       "      <th>1120</th>\n",
       "      <td>731156023742988288</td>\n",
       "      <td>NaN</td>\n",
       "      <td>NaN</td>\n",
       "      <td>2016-05-13 16:15:54 +0000</td>\n",
       "      <td>&lt;a href=\"http://twitter.com/download/iphone\" r...</td>\n",
       "      <td>Say hello to this unbelievably well behaved sq...</td>\n",
       "      <td>NaN</td>\n",
       "      <td>NaN</td>\n",
       "      <td>NaN</td>\n",
       "      <td>https://twitter.com/dog_rates/status/731156023...</td>\n",
       "      <td>204</td>\n",
       "      <td>170</td>\n",
       "      <td>this</td>\n",
       "      <td>None</td>\n",
       "      <td>None</td>\n",
       "      <td>None</td>\n",
       "      <td>None</td>\n",
       "    </tr>\n",
       "  </tbody>\n",
       "</table>\n",
       "</div>"
      ],
      "text/plain": [
       "                tweet_id  in_reply_to_status_id  in_reply_to_user_id  \\\n",
       "1120  731156023742988288                    NaN                  NaN   \n",
       "\n",
       "                      timestamp  \\\n",
       "1120  2016-05-13 16:15:54 +0000   \n",
       "\n",
       "                                                 source  \\\n",
       "1120  <a href=\"http://twitter.com/download/iphone\" r...   \n",
       "\n",
       "                                                   text  retweeted_status_id  \\\n",
       "1120  Say hello to this unbelievably well behaved sq...                  NaN   \n",
       "\n",
       "      retweeted_status_user_id retweeted_status_timestamp  \\\n",
       "1120                       NaN                        NaN   \n",
       "\n",
       "                                          expanded_urls  rating_numerator  \\\n",
       "1120  https://twitter.com/dog_rates/status/731156023...               204   \n",
       "\n",
       "      rating_denominator  name doggo floofer pupper puppo  \n",
       "1120                 170  this  None    None   None  None  "
      ]
     },
     "execution_count": 29,
     "metadata": {},
     "output_type": "execute_result"
    }
   ],
   "source": [
    "dog_archive[dog_archive['rating_numerator'] == 204]"
   ]
  },
  {
   "cell_type": "code",
   "execution_count": 30,
   "metadata": {},
   "outputs": [
    {
     "data": {
      "text/html": [
       "<div>\n",
       "<style scoped>\n",
       "    .dataframe tbody tr th:only-of-type {\n",
       "        vertical-align: middle;\n",
       "    }\n",
       "\n",
       "    .dataframe tbody tr th {\n",
       "        vertical-align: top;\n",
       "    }\n",
       "\n",
       "    .dataframe thead th {\n",
       "        text-align: right;\n",
       "    }\n",
       "</style>\n",
       "<table border=\"1\" class=\"dataframe\">\n",
       "  <thead>\n",
       "    <tr style=\"text-align: right;\">\n",
       "      <th></th>\n",
       "      <th>tweet_id</th>\n",
       "      <th>in_reply_to_status_id</th>\n",
       "      <th>in_reply_to_user_id</th>\n",
       "      <th>timestamp</th>\n",
       "      <th>source</th>\n",
       "      <th>text</th>\n",
       "      <th>retweeted_status_id</th>\n",
       "      <th>retweeted_status_user_id</th>\n",
       "      <th>retweeted_status_timestamp</th>\n",
       "      <th>expanded_urls</th>\n",
       "      <th>rating_numerator</th>\n",
       "      <th>rating_denominator</th>\n",
       "      <th>name</th>\n",
       "      <th>doggo</th>\n",
       "      <th>floofer</th>\n",
       "      <th>pupper</th>\n",
       "      <th>puppo</th>\n",
       "    </tr>\n",
       "  </thead>\n",
       "  <tbody>\n",
       "    <tr>\n",
       "      <th>979</th>\n",
       "      <td>749981277374128128</td>\n",
       "      <td>NaN</td>\n",
       "      <td>NaN</td>\n",
       "      <td>2016-07-04 15:00:45 +0000</td>\n",
       "      <td>&lt;a href=\"https://about.twitter.com/products/tw...</td>\n",
       "      <td>This is Atticus. He's quite simply America af....</td>\n",
       "      <td>NaN</td>\n",
       "      <td>NaN</td>\n",
       "      <td>NaN</td>\n",
       "      <td>https://twitter.com/dog_rates/status/749981277...</td>\n",
       "      <td>1776</td>\n",
       "      <td>10</td>\n",
       "      <td>Atticus</td>\n",
       "      <td>None</td>\n",
       "      <td>None</td>\n",
       "      <td>None</td>\n",
       "      <td>None</td>\n",
       "    </tr>\n",
       "  </tbody>\n",
       "</table>\n",
       "</div>"
      ],
      "text/plain": [
       "               tweet_id  in_reply_to_status_id  in_reply_to_user_id  \\\n",
       "979  749981277374128128                    NaN                  NaN   \n",
       "\n",
       "                     timestamp  \\\n",
       "979  2016-07-04 15:00:45 +0000   \n",
       "\n",
       "                                                source  \\\n",
       "979  <a href=\"https://about.twitter.com/products/tw...   \n",
       "\n",
       "                                                  text  retweeted_status_id  \\\n",
       "979  This is Atticus. He's quite simply America af....                  NaN   \n",
       "\n",
       "     retweeted_status_user_id retweeted_status_timestamp  \\\n",
       "979                       NaN                        NaN   \n",
       "\n",
       "                                         expanded_urls  rating_numerator  \\\n",
       "979  https://twitter.com/dog_rates/status/749981277...              1776   \n",
       "\n",
       "     rating_denominator     name doggo floofer pupper puppo  \n",
       "979                  10  Atticus  None    None   None  None  "
      ]
     },
     "execution_count": 30,
     "metadata": {},
     "output_type": "execute_result"
    }
   ],
   "source": [
    "dog_archive[dog_archive['rating_numerator'] == 1776]"
   ]
  },
  {
   "cell_type": "code",
   "execution_count": 31,
   "metadata": {},
   "outputs": [
    {
     "data": {
      "text/html": [
       "<div>\n",
       "<style scoped>\n",
       "    .dataframe tbody tr th:only-of-type {\n",
       "        vertical-align: middle;\n",
       "    }\n",
       "\n",
       "    .dataframe tbody tr th {\n",
       "        vertical-align: top;\n",
       "    }\n",
       "\n",
       "    .dataframe thead th {\n",
       "        text-align: right;\n",
       "    }\n",
       "</style>\n",
       "<table border=\"1\" class=\"dataframe\">\n",
       "  <thead>\n",
       "    <tr style=\"text-align: right;\">\n",
       "      <th></th>\n",
       "      <th>tweet_id</th>\n",
       "      <th>in_reply_to_status_id</th>\n",
       "      <th>in_reply_to_user_id</th>\n",
       "      <th>timestamp</th>\n",
       "      <th>source</th>\n",
       "      <th>text</th>\n",
       "      <th>retweeted_status_id</th>\n",
       "      <th>retweeted_status_user_id</th>\n",
       "      <th>retweeted_status_timestamp</th>\n",
       "      <th>expanded_urls</th>\n",
       "      <th>rating_numerator</th>\n",
       "      <th>rating_denominator</th>\n",
       "      <th>name</th>\n",
       "      <th>doggo</th>\n",
       "      <th>floofer</th>\n",
       "      <th>pupper</th>\n",
       "      <th>puppo</th>\n",
       "    </tr>\n",
       "  </thead>\n",
       "  <tbody>\n",
       "    <tr>\n",
       "      <th>902</th>\n",
       "      <td>758467244762497024</td>\n",
       "      <td>NaN</td>\n",
       "      <td>NaN</td>\n",
       "      <td>2016-07-28 01:00:57 +0000</td>\n",
       "      <td>&lt;a href=\"http://twitter.com/download/iphone\" r...</td>\n",
       "      <td>Why does this never happen at my front door......</td>\n",
       "      <td>NaN</td>\n",
       "      <td>NaN</td>\n",
       "      <td>NaN</td>\n",
       "      <td>https://twitter.com/dog_rates/status/758467244...</td>\n",
       "      <td>165</td>\n",
       "      <td>150</td>\n",
       "      <td>None</td>\n",
       "      <td>None</td>\n",
       "      <td>None</td>\n",
       "      <td>None</td>\n",
       "      <td>None</td>\n",
       "    </tr>\n",
       "  </tbody>\n",
       "</table>\n",
       "</div>"
      ],
      "text/plain": [
       "               tweet_id  in_reply_to_status_id  in_reply_to_user_id  \\\n",
       "902  758467244762497024                    NaN                  NaN   \n",
       "\n",
       "                     timestamp  \\\n",
       "902  2016-07-28 01:00:57 +0000   \n",
       "\n",
       "                                                source  \\\n",
       "902  <a href=\"http://twitter.com/download/iphone\" r...   \n",
       "\n",
       "                                                  text  retweeted_status_id  \\\n",
       "902  Why does this never happen at my front door......                  NaN   \n",
       "\n",
       "     retweeted_status_user_id retweeted_status_timestamp  \\\n",
       "902                       NaN                        NaN   \n",
       "\n",
       "                                         expanded_urls  rating_numerator  \\\n",
       "902  https://twitter.com/dog_rates/status/758467244...               165   \n",
       "\n",
       "     rating_denominator  name doggo floofer pupper puppo  \n",
       "902                 150  None  None    None   None  None  "
      ]
     },
     "execution_count": 31,
     "metadata": {},
     "output_type": "execute_result"
    }
   ],
   "source": [
    "dog_archive[dog_archive['rating_numerator'] == 165]"
   ]
  },
  {
   "cell_type": "code",
   "execution_count": 32,
   "metadata": {},
   "outputs": [
    {
     "data": {
      "text/html": [
       "<div>\n",
       "<style scoped>\n",
       "    .dataframe tbody tr th:only-of-type {\n",
       "        vertical-align: middle;\n",
       "    }\n",
       "\n",
       "    .dataframe tbody tr th {\n",
       "        vertical-align: top;\n",
       "    }\n",
       "\n",
       "    .dataframe thead th {\n",
       "        text-align: right;\n",
       "    }\n",
       "</style>\n",
       "<table border=\"1\" class=\"dataframe\">\n",
       "  <thead>\n",
       "    <tr style=\"text-align: right;\">\n",
       "      <th></th>\n",
       "      <th>tweet_id</th>\n",
       "      <th>in_reply_to_status_id</th>\n",
       "      <th>in_reply_to_user_id</th>\n",
       "      <th>timestamp</th>\n",
       "      <th>source</th>\n",
       "      <th>text</th>\n",
       "      <th>retweeted_status_id</th>\n",
       "      <th>retweeted_status_user_id</th>\n",
       "      <th>retweeted_status_timestamp</th>\n",
       "      <th>expanded_urls</th>\n",
       "      <th>rating_numerator</th>\n",
       "      <th>rating_denominator</th>\n",
       "      <th>name</th>\n",
       "      <th>doggo</th>\n",
       "      <th>floofer</th>\n",
       "      <th>pupper</th>\n",
       "      <th>puppo</th>\n",
       "    </tr>\n",
       "  </thead>\n",
       "  <tbody>\n",
       "    <tr>\n",
       "      <th>189</th>\n",
       "      <td>855860136149123072</td>\n",
       "      <td>8.558585e+17</td>\n",
       "      <td>13615722.0</td>\n",
       "      <td>2017-04-22 19:05:32 +0000</td>\n",
       "      <td>&lt;a href=\"http://twitter.com/download/iphone\" r...</td>\n",
       "      <td>@s8n You tried very hard to portray this good ...</td>\n",
       "      <td>NaN</td>\n",
       "      <td>NaN</td>\n",
       "      <td>NaN</td>\n",
       "      <td>NaN</td>\n",
       "      <td>666</td>\n",
       "      <td>10</td>\n",
       "      <td>None</td>\n",
       "      <td>None</td>\n",
       "      <td>None</td>\n",
       "      <td>None</td>\n",
       "      <td>None</td>\n",
       "    </tr>\n",
       "  </tbody>\n",
       "</table>\n",
       "</div>"
      ],
      "text/plain": [
       "               tweet_id  in_reply_to_status_id  in_reply_to_user_id  \\\n",
       "189  855860136149123072           8.558585e+17           13615722.0   \n",
       "\n",
       "                     timestamp  \\\n",
       "189  2017-04-22 19:05:32 +0000   \n",
       "\n",
       "                                                source  \\\n",
       "189  <a href=\"http://twitter.com/download/iphone\" r...   \n",
       "\n",
       "                                                  text  retweeted_status_id  \\\n",
       "189  @s8n You tried very hard to portray this good ...                  NaN   \n",
       "\n",
       "     retweeted_status_user_id retweeted_status_timestamp expanded_urls  \\\n",
       "189                       NaN                        NaN           NaN   \n",
       "\n",
       "     rating_numerator  rating_denominator  name doggo floofer pupper puppo  \n",
       "189               666                  10  None  None    None   None  None  "
      ]
     },
     "execution_count": 32,
     "metadata": {},
     "output_type": "execute_result"
    }
   ],
   "source": [
    "dog_archive[dog_archive['rating_numerator'] == 666]"
   ]
  },
  {
   "cell_type": "code",
   "execution_count": 33,
   "metadata": {},
   "outputs": [
    {
     "data": {
      "text/html": [
       "<div>\n",
       "<style scoped>\n",
       "    .dataframe tbody tr th:only-of-type {\n",
       "        vertical-align: middle;\n",
       "    }\n",
       "\n",
       "    .dataframe tbody tr th {\n",
       "        vertical-align: top;\n",
       "    }\n",
       "\n",
       "    .dataframe thead th {\n",
       "        text-align: right;\n",
       "    }\n",
       "</style>\n",
       "<table border=\"1\" class=\"dataframe\">\n",
       "  <thead>\n",
       "    <tr style=\"text-align: right;\">\n",
       "      <th></th>\n",
       "      <th>tweet_id</th>\n",
       "      <th>in_reply_to_status_id</th>\n",
       "      <th>in_reply_to_user_id</th>\n",
       "      <th>timestamp</th>\n",
       "      <th>source</th>\n",
       "      <th>text</th>\n",
       "      <th>retweeted_status_id</th>\n",
       "      <th>retweeted_status_user_id</th>\n",
       "      <th>retweeted_status_timestamp</th>\n",
       "      <th>expanded_urls</th>\n",
       "      <th>rating_numerator</th>\n",
       "      <th>rating_denominator</th>\n",
       "      <th>name</th>\n",
       "      <th>doggo</th>\n",
       "      <th>floofer</th>\n",
       "      <th>pupper</th>\n",
       "      <th>puppo</th>\n",
       "    </tr>\n",
       "  </thead>\n",
       "  <tbody>\n",
       "    <tr>\n",
       "      <th>290</th>\n",
       "      <td>838150277551247360</td>\n",
       "      <td>8.381455e+17</td>\n",
       "      <td>21955058.0</td>\n",
       "      <td>2017-03-04 22:12:52 +0000</td>\n",
       "      <td>&lt;a href=\"http://twitter.com/download/iphone\" r...</td>\n",
       "      <td>@markhoppus 182/10</td>\n",
       "      <td>NaN</td>\n",
       "      <td>NaN</td>\n",
       "      <td>NaN</td>\n",
       "      <td>NaN</td>\n",
       "      <td>182</td>\n",
       "      <td>10</td>\n",
       "      <td>None</td>\n",
       "      <td>None</td>\n",
       "      <td>None</td>\n",
       "      <td>None</td>\n",
       "      <td>None</td>\n",
       "    </tr>\n",
       "  </tbody>\n",
       "</table>\n",
       "</div>"
      ],
      "text/plain": [
       "               tweet_id  in_reply_to_status_id  in_reply_to_user_id  \\\n",
       "290  838150277551247360           8.381455e+17           21955058.0   \n",
       "\n",
       "                     timestamp  \\\n",
       "290  2017-03-04 22:12:52 +0000   \n",
       "\n",
       "                                                source                text  \\\n",
       "290  <a href=\"http://twitter.com/download/iphone\" r...  @markhoppus 182/10   \n",
       "\n",
       "     retweeted_status_id  retweeted_status_user_id retweeted_status_timestamp  \\\n",
       "290                  NaN                       NaN                        NaN   \n",
       "\n",
       "    expanded_urls  rating_numerator  rating_denominator  name doggo floofer  \\\n",
       "290           NaN               182                  10  None  None    None   \n",
       "\n",
       "    pupper puppo  \n",
       "290   None  None  "
      ]
     },
     "execution_count": 33,
     "metadata": {},
     "output_type": "execute_result"
    }
   ],
   "source": [
    "dog_archive[dog_archive['rating_numerator'] == 182]"
   ]
  },
  {
   "cell_type": "code",
   "execution_count": 34,
   "metadata": {},
   "outputs": [
    {
     "data": {
      "text/html": [
       "<div>\n",
       "<style scoped>\n",
       "    .dataframe tbody tr th:only-of-type {\n",
       "        vertical-align: middle;\n",
       "    }\n",
       "\n",
       "    .dataframe tbody tr th {\n",
       "        vertical-align: top;\n",
       "    }\n",
       "\n",
       "    .dataframe thead th {\n",
       "        text-align: right;\n",
       "    }\n",
       "</style>\n",
       "<table border=\"1\" class=\"dataframe\">\n",
       "  <thead>\n",
       "    <tr style=\"text-align: right;\">\n",
       "      <th></th>\n",
       "      <th>tweet_id</th>\n",
       "      <th>in_reply_to_status_id</th>\n",
       "      <th>in_reply_to_user_id</th>\n",
       "      <th>timestamp</th>\n",
       "      <th>source</th>\n",
       "      <th>text</th>\n",
       "      <th>retweeted_status_id</th>\n",
       "      <th>retweeted_status_user_id</th>\n",
       "      <th>retweeted_status_timestamp</th>\n",
       "      <th>expanded_urls</th>\n",
       "      <th>rating_numerator</th>\n",
       "      <th>rating_denominator</th>\n",
       "      <th>name</th>\n",
       "      <th>doggo</th>\n",
       "      <th>floofer</th>\n",
       "      <th>pupper</th>\n",
       "      <th>puppo</th>\n",
       "    </tr>\n",
       "  </thead>\n",
       "  <tbody>\n",
       "    <tr>\n",
       "      <th>313</th>\n",
       "      <td>835246439529840640</td>\n",
       "      <td>8.352460e+17</td>\n",
       "      <td>26259576.0</td>\n",
       "      <td>2017-02-24 21:54:03 +0000</td>\n",
       "      <td>&lt;a href=\"http://twitter.com/download/iphone\" r...</td>\n",
       "      <td>@jonnysun @Lin_Manuel ok jomny I know you're e...</td>\n",
       "      <td>NaN</td>\n",
       "      <td>NaN</td>\n",
       "      <td>NaN</td>\n",
       "      <td>NaN</td>\n",
       "      <td>960</td>\n",
       "      <td>0</td>\n",
       "      <td>None</td>\n",
       "      <td>None</td>\n",
       "      <td>None</td>\n",
       "      <td>None</td>\n",
       "      <td>None</td>\n",
       "    </tr>\n",
       "  </tbody>\n",
       "</table>\n",
       "</div>"
      ],
      "text/plain": [
       "               tweet_id  in_reply_to_status_id  in_reply_to_user_id  \\\n",
       "313  835246439529840640           8.352460e+17           26259576.0   \n",
       "\n",
       "                     timestamp  \\\n",
       "313  2017-02-24 21:54:03 +0000   \n",
       "\n",
       "                                                source  \\\n",
       "313  <a href=\"http://twitter.com/download/iphone\" r...   \n",
       "\n",
       "                                                  text  retweeted_status_id  \\\n",
       "313  @jonnysun @Lin_Manuel ok jomny I know you're e...                  NaN   \n",
       "\n",
       "     retweeted_status_user_id retweeted_status_timestamp expanded_urls  \\\n",
       "313                       NaN                        NaN           NaN   \n",
       "\n",
       "     rating_numerator  rating_denominator  name doggo floofer pupper puppo  \n",
       "313               960                   0  None  None    None   None  None  "
      ]
     },
     "execution_count": 34,
     "metadata": {},
     "output_type": "execute_result"
    }
   ],
   "source": [
    "dog_archive[dog_archive['rating_numerator'] == 960]"
   ]
  },
  {
   "cell_type": "markdown",
   "metadata": {},
   "source": [
    "It shows from the above assessments that numerators with very high rating (3 figures and above) neither have a dog name nor a dog type, the only exception was `1776` numerator rating, the name given was `Atticus`, without a dog type still. `204` had a wrong name of `this` and also without a dog type too. "
   ]
  },
  {
   "cell_type": "code",
   "execution_count": 35,
   "metadata": {},
   "outputs": [
    {
     "name": "stdout",
     "output_type": "stream",
     "text": [
      "0: This is Archie. He is a rare Norwegian Pouncing Corgo. Lives in the tall grass. You never know when one may strike. 12/10 https://t.co/wUnZnhtVJB\n",
      "1: Please don't send in photos without dogs in them. We're not @porch_rates. Insubordinate and churlish. Pretty good porch tho 11/10 https://t.co/HauE8M3Bu4\n",
      "2: @ComplicitOwl @ShopWeRateDogs &gt;10/10 is reserved for dogs\n",
      "3: This is Phineas. He's a mystical boy. Only ever appears in the hole of a donut. 13/10 https://t.co/MgUWQ76dJU\n",
      "4: RT @dog_rates: Meet Beau &amp; Wilbur. Wilbur stole Beau's bed from him. Wilbur now has so much room for activities. 9/10 for both pups https:/…\n",
      "5: RT @dog_rates: Here we see a rare pouched pupper. Ample storage space. Looks alert. Jumps at random. Kicked open that door. 8/10 https://t.…\n",
      "6: I was going to do 007/10, but the joke wasn't worth the &lt;10 rating\n",
      "7: This is Cassie. She is a college pup. Studying international doggo communication and stick theory. 14/10 so elegant much sophisticate https://t.co/t1bfwz5S2A\n",
      "8: This is Bella. She hopes her smile made you smile. If not, she is also offering you her favorite monkey. 13.5/10 https://t.co/qjrljjt948\n",
      "9: This is Jerry. He's doing a distinguished tongue slip. Slightly patronizing tbh. You think you're better than us, Jerry? 6/10 hold me back https://t.co/DkOBbwulw1\n",
      "10: This is Wesley. He's clearly trespassing. Seems rather h*ckin violent too. Weaponized forehead. 3/10 wouldn't let in https://t.co/pL7wbMRW7M\n",
      "11: This is Fido. He can tell the weather. Not good at fetch tho. Never comes when called. 4/10 would probably still pet https://t.co/4gOv2Q3iKP\n",
      "12: Exotic pup here. Tail long af. Throat looks swollen. Might breathe fire. Exceptionally unfluffy 2/10 would still pet https://t.co/a8SqCaSo2r\n",
      "13: RT @dog_rates: Not familiar with this breed. No tail (weird). Only 2 legs. Doesn't bark. Surprisingly quick. Shits eggs. 1/10 https://t.co/…\n",
      "14: RT @dog_rates: This is Logan, the Chow who lived. He solemnly swears he's up to lots of good. H*ckin magical af 9.75/10 https://t.co/yBO5wu…\n",
      "15: RT @KibaDva: I collected all the good dogs!! 15/10 @dog_rates #GoodDogs https://t.co/6UCGFczlOI\n",
      "16: @dhmontgomery We also gave snoop dogg a 420/10 but I think that predated your research\n",
      "17: When you're so blinded by your systematic plagiarism that you forget what day it is. 0/10 https://t.co/YbEJPkg4Ag\n",
      "18: Here's a brigade of puppers. All look very prepared for whatever happens next. 80/80 https://t.co/0eb7R1Om12\n",
      "19: IT'S PUPPERGEDDON. Total of 144/120 ...I think https://t.co/ZanVtAtvIq\n",
      "20: @roushfenway These are good dogs but 17/10 is an emotional impulse rating. More like 13/10s\n",
      "21: Here we have uncovered an entire battalion of holiday puppers. Average of 11.26/10 https://t.co/eNm2S6p9BD\n",
      "22: I'm aware that I could've said 20/16, but here at WeRateDogs we are very professional. An inconsistent rating scale is simply irresponsible\n",
      "23: Someone help the girl is being mugged. Several are distracting her while two steal her shoes. Clever puppers 121/110 https://t.co/1zfnTJLt55\n",
      "24: Two sneaky puppers were not initially seen, moving the rating to 143/130. Please forgive us. Thank you https://t.co/kRK51Y5ac3\n",
      "25: Happy Wednesday here's a bucket of pups. 44/40 would pet all at once https://t.co/HppvrYuamZ\n",
      "26: Here is a whole flock of puppers.  60/50 I'll take the lot https://t.co/9dpcw6MdWa\n",
      "27: From left to right:\n",
      "Cletus, Jerome, Alejandro, Burp, &amp; Titson\n",
      "None know where camera is. 45/50 would hug all at once https://t.co/sedre1ivTK\n",
      "28: This is Bluebert. He just saw that both #FinalFur match ups are split 50/50. Amazed af. 11/10 https://t.co/Kky1DPG4iq\n",
      "29: Happy Saturday here's 9 puppers on a bench. 99/90 good work everybody https://t.co/mpvaVxKmc1\n",
      "30: Say hello to this unbelievably well behaved squad of doggos. 204/170 would try to pet all at once https://t.co/yGQI3He3xv\n",
      "31: This is Atticus. He's quite simply America af. 1776/10 https://t.co/GRXwMxLBkh\n",
      "32: Why does this never happen at my front door... 165/150 https://t.co/HmwrdfEfUE\n",
      "33: @s8n You tried very hard to portray this good boy as not so good, but you have ultimately failed. His goodness shines through. 666/10\n",
      "34: This is Sophie. She's a Jubilant Bush Pupper. Super h*ckin rare. Appears at random just to smile at the locals. 11.27/10 would smile back https://t.co/QFaUiIHxHq\n",
      "35: @markhoppus 182/10\n",
      "36: Meet Sam. She smiles 24/7 &amp; secretly aspires to be a reindeer. \n",
      "Keep Sam smiling by clicking and sharing this link:\n",
      "https://t.co/98tB8y7y7t https://t.co/LouL5vdvxx\n",
      "37: @jonnysun @Lin_Manuel ok jomny I know you're excited but 960/00 isn't a valid rating, 13/10 is tho\n",
      "38: The floofs have been released I repeat the floofs have been released. 84/70 https://t.co/NIYC820tmd\n",
      "39: Here we have an entire platoon of puppers. Total score: 88/80 would pet all at once https://t.co/y93p6FLvVw\n"
     ]
    }
   ],
   "source": [
    "# let us have a look at the first tweet of every possible value of the rating numerator to find a reason to the above problem\n",
    "num_rating = dog_archive['rating_numerator'].value_counts()\n",
    "for c, i in enumerate(num_rating.index):\n",
    "    print(f\"{c}: {dog_archive.loc[dog_archive['rating_numerator'] == i, 'text'].values[0]}\")"
   ]
  },
  {
   "cell_type": "markdown",
   "metadata": {},
   "source": [
    "A simple explanaton from this first tweets shows, some of the tweets does not contain any dog name nor a dog type, and perhaps the more reason why those columns (dog name and dog type) were empty."
   ]
  },
  {
   "cell_type": "markdown",
   "metadata": {},
   "source": [
    "                                       "
   ]
  },
  {
   "cell_type": "markdown",
   "metadata": {},
   "source": [
    "For the very high denominator rating (170, 150, 130, 120, 110), it already showed that some of the high numerator ratings have the high denominator rating. And as such, same assessment applies to them too.  "
   ]
  },
  {
   "cell_type": "code",
   "execution_count": 36,
   "metadata": {},
   "outputs": [
    {
     "data": {
      "text/plain": [
       "<a href=\"http://twitter.com/download/iphone\" rel=\"nofollow\">Twitter for iPhone</a>     2221\n",
       "<a href=\"http://vine.co\" rel=\"nofollow\">Vine - Make a Scene</a>                          91\n",
       "<a href=\"http://twitter.com\" rel=\"nofollow\">Twitter Web Client</a>                       33\n",
       "<a href=\"https://about.twitter.com/products/tweetdeck\" rel=\"nofollow\">TweetDeck</a>      11\n",
       "Name: source, dtype: int64"
      ]
     },
     "execution_count": 36,
     "metadata": {},
     "output_type": "execute_result"
    }
   ],
   "source": [
    "# let's assess the source of the tweets\n",
    "dog_archive.source.value_counts()"
   ]
  },
  {
   "cell_type": "code",
   "execution_count": 37,
   "metadata": {},
   "outputs": [
    {
     "data": {
      "text/plain": [
       "None          745\n",
       "a              55\n",
       "Charlie        12\n",
       "Cooper         11\n",
       "Lucy           11\n",
       "             ... \n",
       "Dex             1\n",
       "Ace             1\n",
       "Tayzie          1\n",
       "Grizzie         1\n",
       "Christoper      1\n",
       "Name: name, Length: 957, dtype: int64"
      ]
     },
     "execution_count": 37,
     "metadata": {},
     "output_type": "execute_result"
    }
   ],
   "source": [
    "# check the names of dogs given\n",
    "dog_archive.name.value_counts()"
   ]
  },
  {
   "cell_type": "code",
   "execution_count": 38,
   "metadata": {},
   "outputs": [
    {
     "data": {
      "text/plain": [
       "(8, 17)"
      ]
     },
     "execution_count": 38,
     "metadata": {},
     "output_type": "execute_result"
    }
   ],
   "source": [
    "# Check the number of observations with 'the' as a dog name\n",
    "dog_archive[dog_archive['name'] == 'the'].shape"
   ]
  },
  {
   "cell_type": "code",
   "execution_count": 39,
   "metadata": {},
   "outputs": [
    {
     "data": {
      "text/plain": [
       "['Phineas',\n",
       " 'Tilly',\n",
       " 'Archie',\n",
       " 'Darla',\n",
       " 'Franklin',\n",
       " 'None',\n",
       " 'Jax',\n",
       " 'None',\n",
       " 'Zoey',\n",
       " 'Cassie',\n",
       " 'Koda',\n",
       " 'Bruno',\n",
       " 'None',\n",
       " 'Ted',\n",
       " 'Stuart',\n",
       " 'Oliver',\n",
       " 'Jim',\n",
       " 'Zeke',\n",
       " 'Ralphus',\n",
       " 'Canela',\n",
       " 'Gerald',\n",
       " 'Jeffrey',\n",
       " 'such',\n",
       " 'Canela',\n",
       " 'None',\n",
       " 'None',\n",
       " 'Maya',\n",
       " 'Mingus',\n",
       " 'Derek',\n",
       " 'Roscoe',\n",
       " 'None',\n",
       " 'Waffles',\n",
       " 'None',\n",
       " 'Jimbo',\n",
       " 'Maisey',\n",
       " 'None',\n",
       " 'Lilly',\n",
       " 'None',\n",
       " 'Earl',\n",
       " 'Lola',\n",
       " 'Kevin',\n",
       " 'None',\n",
       " 'None',\n",
       " 'Yogi',\n",
       " 'Noah',\n",
       " 'Bella',\n",
       " 'Grizzwald',\n",
       " 'None',\n",
       " 'Rusty',\n",
       " 'Gus',\n",
       " 'Stanley',\n",
       " 'Alfy',\n",
       " 'Koko',\n",
       " 'Rey',\n",
       " 'Gary',\n",
       " 'None',\n",
       " 'a',\n",
       " 'Elliot',\n",
       " 'Louis',\n",
       " 'None',\n",
       " 'Bella',\n",
       " 'Jesse',\n",
       " 'None',\n",
       " 'Romeo',\n",
       " 'None',\n",
       " 'Bailey',\n",
       " 'Duddles',\n",
       " 'Jack',\n",
       " 'Emmy',\n",
       " 'Steven',\n",
       " 'Beau',\n",
       " 'Snoopy',\n",
       " 'None',\n",
       " 'Shadow',\n",
       " 'Terrance',\n",
       " 'Shadow',\n",
       " 'Emmy',\n",
       " 'Aja',\n",
       " 'None',\n",
       " 'Penny',\n",
       " 'Dante',\n",
       " 'Nelly',\n",
       " 'Ginger',\n",
       " 'None',\n",
       " 'Benedict',\n",
       " 'Venti',\n",
       " 'Goose',\n",
       " 'Nugget',\n",
       " 'None',\n",
       " 'None',\n",
       " 'Cash',\n",
       " 'Coco',\n",
       " 'Jed',\n",
       " 'None',\n",
       " 'Sebastian',\n",
       " 'Walter',\n",
       " 'None',\n",
       " 'Sierra',\n",
       " 'Sierra',\n",
       " 'None',\n",
       " 'None',\n",
       " 'None',\n",
       " 'Monkey',\n",
       " 'None',\n",
       " 'Harry',\n",
       " 'Kody',\n",
       " 'Lassie',\n",
       " 'Rover',\n",
       " 'Napolean',\n",
       " 'Dawn',\n",
       " 'None',\n",
       " 'Boomer',\n",
       " 'None',\n",
       " 'None',\n",
       " 'Cody',\n",
       " 'Zoey',\n",
       " 'Rumble',\n",
       " 'Clifford',\n",
       " 'quite',\n",
       " 'Dewey',\n",
       " 'Stanley',\n",
       " 'Scout',\n",
       " 'Gizmo',\n",
       " 'Walter',\n",
       " 'Cooper',\n",
       " 'None',\n",
       " 'Cooper',\n",
       " 'None',\n",
       " 'Harold',\n",
       " 'Shikha',\n",
       " 'None',\n",
       " 'None',\n",
       " 'Jamesy',\n",
       " 'None',\n",
       " 'Lili',\n",
       " 'Jamesy',\n",
       " 'Coco',\n",
       " 'None',\n",
       " 'Boomer',\n",
       " 'Sammy',\n",
       " 'Nelly',\n",
       " 'None',\n",
       " 'Meatball',\n",
       " 'Paisley',\n",
       " 'Albus',\n",
       " 'Neptune',\n",
       " 'Quinn',\n",
       " 'Belle',\n",
       " 'None',\n",
       " 'None',\n",
       " 'Quinn',\n",
       " 'Zooey',\n",
       " 'Dave',\n",
       " 'Jersey',\n",
       " 'None',\n",
       " 'None',\n",
       " 'Hobbes',\n",
       " 'None',\n",
       " 'Burt',\n",
       " 'Lorenzo',\n",
       " 'None',\n",
       " 'Lorenzo',\n",
       " 'Carl',\n",
       " 'Jordy',\n",
       " 'None',\n",
       " 'None',\n",
       " 'Milky',\n",
       " 'Trooper',\n",
       " 'None',\n",
       " 'quite',\n",
       " 'None',\n",
       " 'Winston',\n",
       " 'None',\n",
       " 'Sophie',\n",
       " 'Wyatt',\n",
       " 'Rosie',\n",
       " 'Thor',\n",
       " 'None',\n",
       " 'Oscar',\n",
       " 'None',\n",
       " 'None',\n",
       " 'Zeke',\n",
       " 'Luna',\n",
       " 'Callie',\n",
       " 'None',\n",
       " 'None',\n",
       " 'None',\n",
       " 'Cermet',\n",
       " 'None',\n",
       " 'None',\n",
       " 'None',\n",
       " 'None',\n",
       " 'None',\n",
       " 'quite',\n",
       " 'George',\n",
       " 'None',\n",
       " 'Marlee',\n",
       " 'Arya',\n",
       " 'Einstein',\n",
       " 'None',\n",
       " 'None',\n",
       " 'Alice',\n",
       " 'None',\n",
       " 'Rumpole',\n",
       " 'None',\n",
       " 'Benny',\n",
       " 'Aspen',\n",
       " 'Jarod',\n",
       " 'Wiggles',\n",
       " 'General',\n",
       " 'Sailor',\n",
       " 'Astrid',\n",
       " 'None',\n",
       " 'None',\n",
       " 'Iggy',\n",
       " 'Snoop',\n",
       " 'Kyle',\n",
       " 'Leo',\n",
       " 'None',\n",
       " 'Riley',\n",
       " 'Boomer',\n",
       " 'None',\n",
       " 'Gidget',\n",
       " 'Noosh',\n",
       " 'None',\n",
       " 'Kevin',\n",
       " 'None',\n",
       " 'Odin',\n",
       " 'None',\n",
       " 'Jerry',\n",
       " 'Charlie',\n",
       " 'None',\n",
       " 'Georgie',\n",
       " 'Rontu',\n",
       " 'None',\n",
       " 'Cannon',\n",
       " 'Furzey',\n",
       " 'Daisy',\n",
       " 'None',\n",
       " 'Tuck',\n",
       " 'Barney',\n",
       " 'None',\n",
       " 'Vixen',\n",
       " 'None',\n",
       " 'Jarvis',\n",
       " 'None',\n",
       " 'None',\n",
       " 'None',\n",
       " 'Mimosa',\n",
       " 'Pickles',\n",
       " 'Bungalo',\n",
       " 'None',\n",
       " 'Brady',\n",
       " 'Luna',\n",
       " 'Charlie',\n",
       " 'Margo',\n",
       " 'None',\n",
       " 'Sadie',\n",
       " 'Hank',\n",
       " 'Tycho',\n",
       " 'Stephan',\n",
       " 'Charlie',\n",
       " 'Indie',\n",
       " 'Winnie',\n",
       " 'George',\n",
       " 'Bentley',\n",
       " 'Ken',\n",
       " 'Penny',\n",
       " 'None',\n",
       " 'None',\n",
       " 'Max',\n",
       " 'Dawn',\n",
       " 'Maddie',\n",
       " 'Pipsy',\n",
       " 'None',\n",
       " 'None',\n",
       " 'Maddie',\n",
       " 'None',\n",
       " 'Monty',\n",
       " 'Sojourner',\n",
       " 'Winston',\n",
       " 'None',\n",
       " 'Odie',\n",
       " 'None',\n",
       " 'Arlo',\n",
       " 'None',\n",
       " 'Riley',\n",
       " 'Walter',\n",
       " 'Stanley',\n",
       " 'Sunny',\n",
       " 'None',\n",
       " 'None',\n",
       " 'Daisy',\n",
       " 'None',\n",
       " 'Waffles',\n",
       " 'Vincent',\n",
       " 'Lucy',\n",
       " 'Clark',\n",
       " 'None',\n",
       " 'Mookie',\n",
       " 'Meera',\n",
       " 'Oliver',\n",
       " 'None',\n",
       " 'Buddy',\n",
       " 'Ava',\n",
       " 'Lucy',\n",
       " 'None',\n",
       " 'Rory',\n",
       " 'Eli',\n",
       " 'Lola',\n",
       " 'None',\n",
       " 'Ash',\n",
       " 'Lola',\n",
       " 'None',\n",
       " 'None',\n",
       " 'None',\n",
       " 'Tucker',\n",
       " 'Tobi',\n",
       " 'None',\n",
       " 'Leo',\n",
       " 'Chester',\n",
       " 'Wilson',\n",
       " 'Sunshine',\n",
       " 'None',\n",
       " 'Lipton',\n",
       " 'Bentley',\n",
       " 'Charlie',\n",
       " 'Gabby',\n",
       " 'Bronte',\n",
       " 'Poppy',\n",
       " 'Gidget',\n",
       " 'Rhino',\n",
       " 'None',\n",
       " 'Willow',\n",
       " 'None',\n",
       " 'not',\n",
       " 'Orion',\n",
       " 'Eevee',\n",
       " 'Charlie',\n",
       " 'Smiley',\n",
       " 'Logan',\n",
       " 'Moreton',\n",
       " 'None',\n",
       " 'Klein',\n",
       " 'Miguel',\n",
       " 'Emanuel',\n",
       " 'None',\n",
       " 'Kuyu',\n",
       " 'Daisy',\n",
       " 'None',\n",
       " 'Dutch',\n",
       " 'Pete',\n",
       " 'None',\n",
       " 'Scooter',\n",
       " 'Tucker',\n",
       " 'Reggie',\n",
       " 'Lilly',\n",
       " 'Kyro',\n",
       " 'Samson',\n",
       " 'Loki',\n",
       " 'Mia',\n",
       " 'Leo',\n",
       " 'None',\n",
       " 'Astrid',\n",
       " 'Malcolm',\n",
       " 'Dexter',\n",
       " 'Gus',\n",
       " 'Alfie',\n",
       " 'Fiona',\n",
       " 'one',\n",
       " 'Mutt',\n",
       " 'Bear',\n",
       " 'Doobert',\n",
       " 'Beebop',\n",
       " 'Alexander',\n",
       " 'None',\n",
       " 'Sailer',\n",
       " 'Brutus',\n",
       " 'Kona',\n",
       " 'Boots',\n",
       " 'Tucker',\n",
       " 'Ralphie',\n",
       " 'Phil',\n",
       " 'Charlie',\n",
       " 'Loki',\n",
       " 'Cupid',\n",
       " 'None',\n",
       " 'None',\n",
       " 'Pawnd',\n",
       " 'Pilot',\n",
       " 'None',\n",
       " 'None',\n",
       " 'Ike',\n",
       " 'Mo',\n",
       " 'Toby',\n",
       " 'None',\n",
       " 'Sweet',\n",
       " 'Pablo',\n",
       " 'Pablo',\n",
       " 'Bailey',\n",
       " 'Scooter',\n",
       " 'Wilson',\n",
       " 'None',\n",
       " 'Nala',\n",
       " 'None',\n",
       " 'Cash',\n",
       " 'Balto',\n",
       " 'Winston',\n",
       " 'Crawford',\n",
       " 'None',\n",
       " 'Wyatt',\n",
       " 'None',\n",
       " 'Albus',\n",
       " 'None',\n",
       " 'Hobbes',\n",
       " 'Paisley',\n",
       " 'None',\n",
       " 'Paisley',\n",
       " 'Gabe',\n",
       " 'None',\n",
       " 'Mattie',\n",
       " 'Jimison',\n",
       " 'Hercules',\n",
       " 'Duchess',\n",
       " 'Harlso',\n",
       " 'Sampson',\n",
       " 'Sundance',\n",
       " 'None',\n",
       " 'Luca',\n",
       " 'None',\n",
       " 'Flash',\n",
       " 'Finn',\n",
       " 'Sunny',\n",
       " 'None',\n",
       " 'None',\n",
       " 'Peaches',\n",
       " 'None',\n",
       " 'None',\n",
       " 'Oliver',\n",
       " 'Oliver',\n",
       " 'None',\n",
       " 'Howie',\n",
       " 'Jazzy',\n",
       " 'Anna',\n",
       " 'None',\n",
       " 'Finn',\n",
       " 'Bo',\n",
       " 'Sunny',\n",
       " 'Sunny',\n",
       " 'Bo',\n",
       " 'Seamus',\n",
       " 'Wafer',\n",
       " 'Bear',\n",
       " 'Chelsea',\n",
       " 'Tom',\n",
       " 'Moose',\n",
       " 'Florence',\n",
       " 'Autumn',\n",
       " 'None',\n",
       " 'Buddy',\n",
       " 'Dido',\n",
       " 'Eugene',\n",
       " 'Herschel',\n",
       " 'Ken',\n",
       " 'Strudel',\n",
       " 'None',\n",
       " 'Tebow',\n",
       " 'None',\n",
       " 'Chloe',\n",
       " 'Betty',\n",
       " 'Timber',\n",
       " 'Binky',\n",
       " 'Moose',\n",
       " 'Dudley',\n",
       " 'Comet',\n",
       " 'Jack',\n",
       " 'Larry',\n",
       " 'Jack',\n",
       " 'None',\n",
       " 'Levi',\n",
       " 'Akumi',\n",
       " 'Titan',\n",
       " 'None',\n",
       " 'Cooper',\n",
       " 'Olivia',\n",
       " 'Beau',\n",
       " 'Alf',\n",
       " 'Oshie',\n",
       " 'Bruce',\n",
       " 'Chubbs',\n",
       " 'Gary',\n",
       " 'Sky',\n",
       " 'Atlas',\n",
       " 'None',\n",
       " 'None',\n",
       " 'Eleanor',\n",
       " 'Layla',\n",
       " 'None',\n",
       " 'None',\n",
       " 'None',\n",
       " 'Toby',\n",
       " 'Rocky',\n",
       " 'Baron',\n",
       " 'Tyr',\n",
       " 'Bauer',\n",
       " 'Swagger',\n",
       " 'Sammy',\n",
       " 'Brandi',\n",
       " 'None',\n",
       " 'Mary',\n",
       " 'Moe',\n",
       " 'Ted',\n",
       " 'Halo',\n",
       " 'None',\n",
       " 'Augie',\n",
       " 'Craig',\n",
       " 'Sam',\n",
       " 'Hunter',\n",
       " 'Pavlov',\n",
       " 'Phil',\n",
       " 'Gus',\n",
       " 'None',\n",
       " 'Maximus',\n",
       " 'None',\n",
       " 'Kyro',\n",
       " 'Wallace',\n",
       " 'Ito',\n",
       " 'None',\n",
       " 'Koda',\n",
       " 'Seamus',\n",
       " 'Milo',\n",
       " 'None',\n",
       " 'Cooper',\n",
       " 'Ollie',\n",
       " 'Stephan',\n",
       " 'Cali',\n",
       " 'Lennon',\n",
       " 'None',\n",
       " 'None',\n",
       " 'None',\n",
       " 'Waffles',\n",
       " 'Dave',\n",
       " 'incredibly',\n",
       " 'Penny',\n",
       " 'Major',\n",
       " 'Duke',\n",
       " 'Reginald',\n",
       " 'Zeke',\n",
       " 'Sansa',\n",
       " 'Shooter',\n",
       " 'Django',\n",
       " 'None',\n",
       " 'Rusty',\n",
       " 'Bo',\n",
       " 'Diogi',\n",
       " 'None',\n",
       " 'None',\n",
       " 'Sonny',\n",
       " 'Philbert',\n",
       " 'Winston',\n",
       " 'Marley',\n",
       " 'None',\n",
       " 'Bailey',\n",
       " 'Winnie',\n",
       " 'Severus',\n",
       " 'None',\n",
       " 'None',\n",
       " 'Loki',\n",
       " 'None',\n",
       " 'Ronnie',\n",
       " 'None',\n",
       " 'Wallace',\n",
       " 'None',\n",
       " 'Milo',\n",
       " 'Anakin',\n",
       " 'Bones',\n",
       " 'None',\n",
       " 'None',\n",
       " 'Mauve',\n",
       " 'Chef',\n",
       " 'None',\n",
       " 'Sampson',\n",
       " 'Doc',\n",
       " 'Bo',\n",
       " 'Peaches',\n",
       " 'None',\n",
       " 'Tucker',\n",
       " 'Sobe',\n",
       " 'Longfellow',\n",
       " 'None',\n",
       " 'Jeffrey',\n",
       " 'Mister',\n",
       " 'Iroh',\n",
       " 'Shadow',\n",
       " 'Baloo',\n",
       " 'None',\n",
       " 'Stubert',\n",
       " 'None',\n",
       " 'Jack',\n",
       " 'None',\n",
       " 'None',\n",
       " 'Lola',\n",
       " 'Paull',\n",
       " 'None',\n",
       " 'Timison',\n",
       " 'None',\n",
       " 'Davey',\n",
       " 'Cooper',\n",
       " 'None',\n",
       " 'Cassie',\n",
       " 'Pancake',\n",
       " 'None',\n",
       " 'Tyrone',\n",
       " 'Tyr',\n",
       " 'Romeo',\n",
       " 'None',\n",
       " 'None',\n",
       " 'Snicku',\n",
       " 'Ruby',\n",
       " 'Ruby',\n",
       " 'None',\n",
       " 'None',\n",
       " 'Yogi',\n",
       " 'Daisy',\n",
       " 'None',\n",
       " 'Brody',\n",
       " 'Bailey',\n",
       " 'Rizzy',\n",
       " 'Mack',\n",
       " 'Butter',\n",
       " 'Nimbus',\n",
       " 'Laika',\n",
       " 'Maximus',\n",
       " 'Clark',\n",
       " 'None',\n",
       " 'Dobby',\n",
       " 'Fiona',\n",
       " 'Moreton',\n",
       " 'Dave',\n",
       " 'None',\n",
       " 'Tucker',\n",
       " 'Juno',\n",
       " 'Maude',\n",
       " 'Lily',\n",
       " 'Newt',\n",
       " 'Benji',\n",
       " 'Nida',\n",
       " 'None',\n",
       " 'Robin',\n",
       " 'a',\n",
       " 'Bailey',\n",
       " 'Monster',\n",
       " 'BeBe',\n",
       " 'Remus',\n",
       " 'None',\n",
       " 'None',\n",
       " 'Maddie',\n",
       " 'None',\n",
       " 'None',\n",
       " 'Levi',\n",
       " 'Mabel',\n",
       " 'Alfie',\n",
       " 'Misty',\n",
       " 'Betty',\n",
       " 'Happy',\n",
       " 'Mosby',\n",
       " 'Duke',\n",
       " 'Maggie',\n",
       " 'Bruce',\n",
       " 'Leela',\n",
       " 'Happy',\n",
       " 'Buddy',\n",
       " 'Ralphy',\n",
       " 'Eli',\n",
       " 'Brownie',\n",
       " 'Rizzy',\n",
       " 'None',\n",
       " 'Meyer',\n",
       " 'Stella',\n",
       " 'Bo',\n",
       " 'Lucy',\n",
       " 'Butter',\n",
       " 'mad',\n",
       " 'Dexter',\n",
       " 'None',\n",
       " 'Leo',\n",
       " 'Bo',\n",
       " 'None',\n",
       " 'Frank',\n",
       " 'Tonks',\n",
       " 'Moose',\n",
       " 'Lincoln',\n",
       " 'Carl',\n",
       " 'Rory',\n",
       " 'Oakley',\n",
       " 'Logan',\n",
       " 'None',\n",
       " 'Dale',\n",
       " 'Rizzo',\n",
       " 'Arnie',\n",
       " 'Mattie',\n",
       " 'None',\n",
       " 'Scout',\n",
       " 'Lucy',\n",
       " 'Rusty',\n",
       " 'Pinot',\n",
       " 'Dallas',\n",
       " 'None',\n",
       " 'Doc',\n",
       " 'Hero',\n",
       " 'Rusty',\n",
       " 'Frankie',\n",
       " 'Stormy',\n",
       " 'Reginald',\n",
       " 'Balto',\n",
       " 'Riley',\n",
       " 'Mairi',\n",
       " 'Loomis',\n",
       " 'Finn',\n",
       " 'Godi',\n",
       " 'Kenny',\n",
       " 'Dave',\n",
       " 'Earl',\n",
       " 'Cali',\n",
       " 'Deacon',\n",
       " 'Penny',\n",
       " 'Timmy',\n",
       " 'Sampson',\n",
       " 'Harper',\n",
       " 'Chipson',\n",
       " 'None',\n",
       " 'Combo',\n",
       " 'None',\n",
       " 'None',\n",
       " 'Oakley',\n",
       " 'None',\n",
       " 'None',\n",
       " 'Dash',\n",
       " 'Koda',\n",
       " 'Hercules',\n",
       " 'None',\n",
       " 'Bell',\n",
       " 'None',\n",
       " 'Bear',\n",
       " 'None',\n",
       " 'Hank',\n",
       " 'None',\n",
       " 'Scout',\n",
       " 'None',\n",
       " 'Hurley',\n",
       " 'Reggie',\n",
       " 'None',\n",
       " 'Jay',\n",
       " 'None',\n",
       " 'None',\n",
       " 'Mya',\n",
       " 'Strider',\n",
       " 'Penny',\n",
       " 'None',\n",
       " 'an',\n",
       " 'Nala',\n",
       " 'Stanley',\n",
       " 'None',\n",
       " 'Sophie',\n",
       " 'Gerald',\n",
       " 'Wesley',\n",
       " 'None',\n",
       " 'Arnie',\n",
       " 'Derek',\n",
       " 'Jeffrey',\n",
       " 'None',\n",
       " 'Solomon',\n",
       " 'Huck',\n",
       " 'very',\n",
       " 'None',\n",
       " 'O',\n",
       " 'Sampson',\n",
       " 'None',\n",
       " 'None',\n",
       " 'Blue',\n",
       " 'Anakin',\n",
       " 'None',\n",
       " 'Finley',\n",
       " 'Maximus',\n",
       " 'None',\n",
       " 'Tucker',\n",
       " 'Finley',\n",
       " 'Sprinkles',\n",
       " 'None',\n",
       " 'Winnie',\n",
       " 'Heinrich',\n",
       " 'Loki',\n",
       " 'Shakespeare',\n",
       " 'Chelsea',\n",
       " 'Fizz',\n",
       " 'Bungalo',\n",
       " 'Chip',\n",
       " 'Grey',\n",
       " 'None',\n",
       " 'Roosevelt',\n",
       " 'Gromit',\n",
       " 'a',\n",
       " 'Willem',\n",
       " 'None',\n",
       " 'Jack',\n",
       " 'Finn',\n",
       " 'Penny',\n",
       " 'None',\n",
       " 'Davey',\n",
       " 'Dakota',\n",
       " 'Fizz',\n",
       " 'Frankie',\n",
       " 'Dixie',\n",
       " 'Charlie',\n",
       " 'None',\n",
       " 'None',\n",
       " 'Winston',\n",
       " 'Sebastian',\n",
       " 'None',\n",
       " 'very',\n",
       " 'Al',\n",
       " 'Jackson',\n",
       " 'just',\n",
       " 'Carbon',\n",
       " 'Klein',\n",
       " 'Titan',\n",
       " 'None',\n",
       " 'DonDon',\n",
       " 'Kirby',\n",
       " 'None',\n",
       " 'Jesse',\n",
       " 'Lou',\n",
       " 'Oakley',\n",
       " 'Nollie',\n",
       " 'Chevy',\n",
       " 'Gerald',\n",
       " 'Tito',\n",
       " 'Philbert',\n",
       " 'Louie',\n",
       " 'None',\n",
       " 'Rupert',\n",
       " 'None',\n",
       " 'Rufus',\n",
       " 'None',\n",
       " 'Brudge',\n",
       " 'Shadoe',\n",
       " 'Oscar',\n",
       " 'Colby',\n",
       " 'Juno',\n",
       " 'Angel',\n",
       " 'Brat',\n",
       " 'Tove',\n",
       " 'my',\n",
       " 'Louie',\n",
       " 'Gromit',\n",
       " 'Aubie',\n",
       " 'Kota',\n",
       " 'None',\n",
       " 'Alfie',\n",
       " 'Clark',\n",
       " 'Eve',\n",
       " 'Belle',\n",
       " 'Leela',\n",
       " 'Glenn',\n",
       " 'Buddy',\n",
       " 'Scout',\n",
       " 'None',\n",
       " 'Shelby',\n",
       " 'None',\n",
       " 'None',\n",
       " 'None',\n",
       " 'Sephie',\n",
       " 'None',\n",
       " 'Bruce',\n",
       " 'Bonaparte',\n",
       " 'Albert',\n",
       " 'Bo',\n",
       " 'Wishes',\n",
       " 'Rose',\n",
       " 'Theo',\n",
       " 'Atlas',\n",
       " 'None',\n",
       " 'Rocco',\n",
       " 'Fido',\n",
       " 'Sadie',\n",
       " 'None',\n",
       " 'None',\n",
       " 'None',\n",
       " 'Kirby',\n",
       " 'Maggie',\n",
       " 'None',\n",
       " 'Emma',\n",
       " 'Oakley',\n",
       " 'None',\n",
       " 'Luna',\n",
       " 'None',\n",
       " 'Toby',\n",
       " 'Spencer',\n",
       " 'Lilli',\n",
       " 'None',\n",
       " 'Boston',\n",
       " 'Brandonald',\n",
       " 'None',\n",
       " 'Odie',\n",
       " 'Corey',\n",
       " 'None',\n",
       " 'None',\n",
       " 'Leonard',\n",
       " 'Chompsky',\n",
       " 'Beckham',\n",
       " 'Cooper',\n",
       " 'None',\n",
       " 'None',\n",
       " 'None',\n",
       " 'None',\n",
       " 'Devón',\n",
       " 'Oliver',\n",
       " 'Jax',\n",
       " 'Gert',\n",
       " 'None',\n",
       " 'None',\n",
       " 'None',\n",
       " 'None',\n",
       " 'None',\n",
       " 'one',\n",
       " 'Watson',\n",
       " 'Rubio',\n",
       " 'Winnie',\n",
       " 'Keith',\n",
       " 'Milo',\n",
       " 'Dex',\n",
       " 'None',\n",
       " 'Charlie',\n",
       " 'None',\n",
       " 'None',\n",
       " 'Scout',\n",
       " 'Hank',\n",
       " 'Carly',\n",
       " 'Ace',\n",
       " 'None',\n",
       " 'Tayzie',\n",
       " 'Carl',\n",
       " 'Grizzie',\n",
       " 'None',\n",
       " 'None',\n",
       " 'None',\n",
       " 'None',\n",
       " 'None',\n",
       " 'None',\n",
       " 'None',\n",
       " 'Brody',\n",
       " 'Lola',\n",
       " 'Ruby',\n",
       " 'Tucker',\n",
       " 'Fred',\n",
       " 'Toby',\n",
       " 'None',\n",
       " 'Max',\n",
       " 'None',\n",
       " 'Gilbert',\n",
       " 'None',\n",
       " 'Cooper',\n",
       " 'Milo',\n",
       " 'Meyer',\n",
       " 'Malcolm',\n",
       " 'Arnie',\n",
       " 'Zoe',\n",
       " 'None',\n",
       " 'None',\n",
       " 'Stewie',\n",
       " 'Calvin',\n",
       " 'Lilah',\n",
       " 'Spanky',\n",
       " 'None',\n",
       " 'Jameson',\n",
       " 'Beau',\n",
       " 'Jax',\n",
       " 'Piper',\n",
       " 'Bo',\n",
       " 'Atticus',\n",
       " 'Lucy',\n",
       " 'Finn',\n",
       " 'None',\n",
       " 'George',\n",
       " 'Blu',\n",
       " 'Boomer',\n",
       " 'Winston',\n",
       " 'Dietrich',\n",
       " 'not',\n",
       " 'Divine',\n",
       " 'None',\n",
       " 'Tripp',\n",
       " 'his',\n",
       " 'one',\n",
       " 'Cora',\n",
       " 'None',\n",
       " 'None',\n",
       " 'Duke',\n",
       " 'None',\n",
       " 'None',\n",
       " ...]"
      ]
     },
     "execution_count": 39,
     "metadata": {},
     "output_type": "execute_result"
    }
   ],
   "source": [
    "# check the list of dog names to view the innappropriate names \n",
    "list(dog_archive.name)"
   ]
  },
  {
   "cell_type": "markdown",
   "metadata": {},
   "source": [
    "4 different dogs (doggo\tfloofer\tpupper\tpuppo), lets check for each "
   ]
  },
  {
   "cell_type": "code",
   "execution_count": 40,
   "metadata": {},
   "outputs": [
    {
     "data": {
      "text/plain": [
       "None     2259\n",
       "doggo      97\n",
       "Name: doggo, dtype: int64"
      ]
     },
     "execution_count": 40,
     "metadata": {},
     "output_type": "execute_result"
    }
   ],
   "source": [
    "# Doggo\n",
    "dog_archive.doggo.value_counts()"
   ]
  },
  {
   "cell_type": "code",
   "execution_count": 41,
   "metadata": {},
   "outputs": [
    {
     "data": {
      "text/plain": [
       "None       2346\n",
       "floofer      10\n",
       "Name: floofer, dtype: int64"
      ]
     },
     "execution_count": 41,
     "metadata": {},
     "output_type": "execute_result"
    }
   ],
   "source": [
    "# floofer\n",
    "dog_archive.floofer.value_counts()"
   ]
  },
  {
   "cell_type": "code",
   "execution_count": 42,
   "metadata": {},
   "outputs": [
    {
     "data": {
      "text/plain": [
       "None      2099\n",
       "pupper     257\n",
       "Name: pupper, dtype: int64"
      ]
     },
     "execution_count": 42,
     "metadata": {},
     "output_type": "execute_result"
    }
   ],
   "source": [
    "# pupper\n",
    "dog_archive.pupper.value_counts()"
   ]
  },
  {
   "cell_type": "code",
   "execution_count": 43,
   "metadata": {},
   "outputs": [
    {
     "data": {
      "text/plain": [
       "None     2326\n",
       "puppo      30\n",
       "Name: puppo, dtype: int64"
      ]
     },
     "execution_count": 43,
     "metadata": {},
     "output_type": "execute_result"
    }
   ],
   "source": [
    "# puppo\n",
    "dog_archive.puppo.value_counts()"
   ]
  },
  {
   "cell_type": "code",
   "execution_count": 44,
   "metadata": {},
   "outputs": [
    {
     "data": {
      "text/plain": [
       "(1, 17)"
      ]
     },
     "execution_count": 44,
     "metadata": {},
     "output_type": "execute_result"
    }
   ],
   "source": [
    "# doggo and floofer dogs\n",
    "dog_archive[(dog_archive['doggo'] == 'doggo') & (dog_archive.floofer == 'floofer')].shape"
   ]
  },
  {
   "cell_type": "code",
   "execution_count": 45,
   "metadata": {},
   "outputs": [
    {
     "data": {
      "text/plain": [
       "(12, 17)"
      ]
     },
     "execution_count": 45,
     "metadata": {},
     "output_type": "execute_result"
    }
   ],
   "source": [
    "# doggo and pupper dogs\n",
    "dog_archive[(dog_archive['doggo'] == 'doggo') & (dog_archive.pupper == 'pupper')].shape"
   ]
  },
  {
   "cell_type": "code",
   "execution_count": 46,
   "metadata": {},
   "outputs": [
    {
     "data": {
      "text/html": [
       "<div>\n",
       "<style scoped>\n",
       "    .dataframe tbody tr th:only-of-type {\n",
       "        vertical-align: middle;\n",
       "    }\n",
       "\n",
       "    .dataframe tbody tr th {\n",
       "        vertical-align: top;\n",
       "    }\n",
       "\n",
       "    .dataframe thead th {\n",
       "        text-align: right;\n",
       "    }\n",
       "</style>\n",
       "<table border=\"1\" class=\"dataframe\">\n",
       "  <thead>\n",
       "    <tr style=\"text-align: right;\">\n",
       "      <th></th>\n",
       "      <th>tweet_id</th>\n",
       "      <th>in_reply_to_status_id</th>\n",
       "      <th>in_reply_to_user_id</th>\n",
       "      <th>timestamp</th>\n",
       "      <th>source</th>\n",
       "      <th>text</th>\n",
       "      <th>retweeted_status_id</th>\n",
       "      <th>retweeted_status_user_id</th>\n",
       "      <th>retweeted_status_timestamp</th>\n",
       "      <th>expanded_urls</th>\n",
       "      <th>rating_numerator</th>\n",
       "      <th>rating_denominator</th>\n",
       "      <th>name</th>\n",
       "      <th>doggo</th>\n",
       "      <th>floofer</th>\n",
       "      <th>pupper</th>\n",
       "      <th>puppo</th>\n",
       "    </tr>\n",
       "  </thead>\n",
       "  <tbody>\n",
       "    <tr>\n",
       "      <th>902</th>\n",
       "      <td>758467244762497024</td>\n",
       "      <td>NaN</td>\n",
       "      <td>NaN</td>\n",
       "      <td>2016-07-28 01:00:57 +0000</td>\n",
       "      <td>&lt;a href=\"http://twitter.com/download/iphone\" r...</td>\n",
       "      <td>Why does this never happen at my front door......</td>\n",
       "      <td>NaN</td>\n",
       "      <td>NaN</td>\n",
       "      <td>NaN</td>\n",
       "      <td>https://twitter.com/dog_rates/status/758467244...</td>\n",
       "      <td>165</td>\n",
       "      <td>150</td>\n",
       "      <td>None</td>\n",
       "      <td>None</td>\n",
       "      <td>None</td>\n",
       "      <td>None</td>\n",
       "      <td>None</td>\n",
       "    </tr>\n",
       "  </tbody>\n",
       "</table>\n",
       "</div>"
      ],
      "text/plain": [
       "               tweet_id  in_reply_to_status_id  in_reply_to_user_id  \\\n",
       "902  758467244762497024                    NaN                  NaN   \n",
       "\n",
       "                     timestamp  \\\n",
       "902  2016-07-28 01:00:57 +0000   \n",
       "\n",
       "                                                source  \\\n",
       "902  <a href=\"http://twitter.com/download/iphone\" r...   \n",
       "\n",
       "                                                  text  retweeted_status_id  \\\n",
       "902  Why does this never happen at my front door......                  NaN   \n",
       "\n",
       "     retweeted_status_user_id retweeted_status_timestamp  \\\n",
       "902                       NaN                        NaN   \n",
       "\n",
       "                                         expanded_urls  rating_numerator  \\\n",
       "902  https://twitter.com/dog_rates/status/758467244...               165   \n",
       "\n",
       "     rating_denominator  name doggo floofer pupper puppo  \n",
       "902                 150  None  None    None   None  None  "
      ]
     },
     "execution_count": 46,
     "metadata": {},
     "output_type": "execute_result"
    }
   ],
   "source": [
    "dog_archive[dog_archive.rating_denominator == 150]"
   ]
  },
  {
   "cell_type": "code",
   "execution_count": 47,
   "metadata": {},
   "outputs": [
    {
     "data": {
      "text/html": [
       "<div>\n",
       "<style scoped>\n",
       "    .dataframe tbody tr th:only-of-type {\n",
       "        vertical-align: middle;\n",
       "    }\n",
       "\n",
       "    .dataframe tbody tr th {\n",
       "        vertical-align: top;\n",
       "    }\n",
       "\n",
       "    .dataframe thead th {\n",
       "        text-align: right;\n",
       "    }\n",
       "</style>\n",
       "<table border=\"1\" class=\"dataframe\">\n",
       "  <thead>\n",
       "    <tr style=\"text-align: right;\">\n",
       "      <th></th>\n",
       "      <th>tweet_id</th>\n",
       "      <th>in_reply_to_status_id</th>\n",
       "      <th>in_reply_to_user_id</th>\n",
       "      <th>timestamp</th>\n",
       "      <th>source</th>\n",
       "      <th>text</th>\n",
       "      <th>retweeted_status_id</th>\n",
       "      <th>retweeted_status_user_id</th>\n",
       "      <th>retweeted_status_timestamp</th>\n",
       "      <th>expanded_urls</th>\n",
       "      <th>rating_numerator</th>\n",
       "      <th>rating_denominator</th>\n",
       "      <th>name</th>\n",
       "      <th>doggo</th>\n",
       "      <th>floofer</th>\n",
       "      <th>pupper</th>\n",
       "      <th>puppo</th>\n",
       "    </tr>\n",
       "  </thead>\n",
       "  <tbody>\n",
       "    <tr>\n",
       "      <th>1120</th>\n",
       "      <td>731156023742988288</td>\n",
       "      <td>NaN</td>\n",
       "      <td>NaN</td>\n",
       "      <td>2016-05-13 16:15:54 +0000</td>\n",
       "      <td>&lt;a href=\"http://twitter.com/download/iphone\" r...</td>\n",
       "      <td>Say hello to this unbelievably well behaved sq...</td>\n",
       "      <td>NaN</td>\n",
       "      <td>NaN</td>\n",
       "      <td>NaN</td>\n",
       "      <td>https://twitter.com/dog_rates/status/731156023...</td>\n",
       "      <td>204</td>\n",
       "      <td>170</td>\n",
       "      <td>this</td>\n",
       "      <td>None</td>\n",
       "      <td>None</td>\n",
       "      <td>None</td>\n",
       "      <td>None</td>\n",
       "    </tr>\n",
       "  </tbody>\n",
       "</table>\n",
       "</div>"
      ],
      "text/plain": [
       "                tweet_id  in_reply_to_status_id  in_reply_to_user_id  \\\n",
       "1120  731156023742988288                    NaN                  NaN   \n",
       "\n",
       "                      timestamp  \\\n",
       "1120  2016-05-13 16:15:54 +0000   \n",
       "\n",
       "                                                 source  \\\n",
       "1120  <a href=\"http://twitter.com/download/iphone\" r...   \n",
       "\n",
       "                                                   text  retweeted_status_id  \\\n",
       "1120  Say hello to this unbelievably well behaved sq...                  NaN   \n",
       "\n",
       "      retweeted_status_user_id retweeted_status_timestamp  \\\n",
       "1120                       NaN                        NaN   \n",
       "\n",
       "                                          expanded_urls  rating_numerator  \\\n",
       "1120  https://twitter.com/dog_rates/status/731156023...               204   \n",
       "\n",
       "      rating_denominator  name doggo floofer pupper puppo  \n",
       "1120                 170  this  None    None   None  None  "
      ]
     },
     "execution_count": 47,
     "metadata": {},
     "output_type": "execute_result"
    }
   ],
   "source": [
    "dog_archive[dog_archive.rating_denominator == 170]"
   ]
  },
  {
   "cell_type": "code",
   "execution_count": 48,
   "metadata": {},
   "outputs": [
    {
     "data": {
      "text/plain": [
       "(1, 17)"
      ]
     },
     "execution_count": 48,
     "metadata": {},
     "output_type": "execute_result"
    }
   ],
   "source": [
    "# doggo and puppo dogs\n",
    "dog_archive[(dog_archive['doggo'] == 'doggo') & (dog_archive.puppo == 'puppo')].shape"
   ]
  },
  {
   "cell_type": "code",
   "execution_count": 49,
   "metadata": {},
   "outputs": [
    {
     "data": {
      "text/plain": [
       "(0, 17)"
      ]
     },
     "execution_count": 49,
     "metadata": {},
     "output_type": "execute_result"
    }
   ],
   "source": [
    "# floofer and pupper dogs\n",
    "dog_archive[(dog_archive['floofer'] == 'floofer') & (dog_archive.pupper == 'pupper')].shape"
   ]
  },
  {
   "cell_type": "code",
   "execution_count": 50,
   "metadata": {},
   "outputs": [
    {
     "data": {
      "text/plain": [
       "(0, 17)"
      ]
     },
     "execution_count": 50,
     "metadata": {},
     "output_type": "execute_result"
    }
   ],
   "source": [
    "# floofer and puppo dogs\n",
    "dog_archive[(dog_archive['floofer'] == 'floofer') & (dog_archive.puppo == 'puppo')].shape"
   ]
  },
  {
   "cell_type": "code",
   "execution_count": 51,
   "metadata": {},
   "outputs": [
    {
     "data": {
      "text/plain": [
       "(0, 17)"
      ]
     },
     "execution_count": 51,
     "metadata": {},
     "output_type": "execute_result"
    }
   ],
   "source": [
    "# pupper and puppo dogs\n",
    "dog_archive[(dog_archive['pupper'] == 'pupper') & (dog_archive.puppo == 'puppo')].shape"
   ]
  },
  {
   "cell_type": "markdown",
   "metadata": {},
   "source": [
    "## 2b. Assessing `The Tweet Image Predictions`"
   ]
  },
  {
   "cell_type": "code",
   "execution_count": 52,
   "metadata": {},
   "outputs": [
    {
     "data": {
      "text/html": [
       "<div>\n",
       "<style scoped>\n",
       "    .dataframe tbody tr th:only-of-type {\n",
       "        vertical-align: middle;\n",
       "    }\n",
       "\n",
       "    .dataframe tbody tr th {\n",
       "        vertical-align: top;\n",
       "    }\n",
       "\n",
       "    .dataframe thead th {\n",
       "        text-align: right;\n",
       "    }\n",
       "</style>\n",
       "<table border=\"1\" class=\"dataframe\">\n",
       "  <thead>\n",
       "    <tr style=\"text-align: right;\">\n",
       "      <th></th>\n",
       "      <th>tweet_id</th>\n",
       "      <th>jpg_url</th>\n",
       "      <th>img_num</th>\n",
       "      <th>p1</th>\n",
       "      <th>p1_conf</th>\n",
       "      <th>p1_dog</th>\n",
       "      <th>p2</th>\n",
       "      <th>p2_conf</th>\n",
       "      <th>p2_dog</th>\n",
       "      <th>p3</th>\n",
       "      <th>p3_conf</th>\n",
       "      <th>p3_dog</th>\n",
       "    </tr>\n",
       "  </thead>\n",
       "  <tbody>\n",
       "    <tr>\n",
       "      <th>0</th>\n",
       "      <td>666020888022790149</td>\n",
       "      <td>https://pbs.twimg.com/media/CT4udn0WwAA0aMy.jpg</td>\n",
       "      <td>1</td>\n",
       "      <td>Welsh_springer_spaniel</td>\n",
       "      <td>0.465074</td>\n",
       "      <td>True</td>\n",
       "      <td>collie</td>\n",
       "      <td>0.156665</td>\n",
       "      <td>True</td>\n",
       "      <td>Shetland_sheepdog</td>\n",
       "      <td>0.061428</td>\n",
       "      <td>True</td>\n",
       "    </tr>\n",
       "    <tr>\n",
       "      <th>1</th>\n",
       "      <td>666029285002620928</td>\n",
       "      <td>https://pbs.twimg.com/media/CT42GRgUYAA5iDo.jpg</td>\n",
       "      <td>1</td>\n",
       "      <td>redbone</td>\n",
       "      <td>0.506826</td>\n",
       "      <td>True</td>\n",
       "      <td>miniature_pinscher</td>\n",
       "      <td>0.074192</td>\n",
       "      <td>True</td>\n",
       "      <td>Rhodesian_ridgeback</td>\n",
       "      <td>0.072010</td>\n",
       "      <td>True</td>\n",
       "    </tr>\n",
       "    <tr>\n",
       "      <th>2</th>\n",
       "      <td>666033412701032449</td>\n",
       "      <td>https://pbs.twimg.com/media/CT4521TWwAEvMyu.jpg</td>\n",
       "      <td>1</td>\n",
       "      <td>German_shepherd</td>\n",
       "      <td>0.596461</td>\n",
       "      <td>True</td>\n",
       "      <td>malinois</td>\n",
       "      <td>0.138584</td>\n",
       "      <td>True</td>\n",
       "      <td>bloodhound</td>\n",
       "      <td>0.116197</td>\n",
       "      <td>True</td>\n",
       "    </tr>\n",
       "    <tr>\n",
       "      <th>3</th>\n",
       "      <td>666044226329800704</td>\n",
       "      <td>https://pbs.twimg.com/media/CT5Dr8HUEAA-lEu.jpg</td>\n",
       "      <td>1</td>\n",
       "      <td>Rhodesian_ridgeback</td>\n",
       "      <td>0.408143</td>\n",
       "      <td>True</td>\n",
       "      <td>redbone</td>\n",
       "      <td>0.360687</td>\n",
       "      <td>True</td>\n",
       "      <td>miniature_pinscher</td>\n",
       "      <td>0.222752</td>\n",
       "      <td>True</td>\n",
       "    </tr>\n",
       "    <tr>\n",
       "      <th>4</th>\n",
       "      <td>666049248165822465</td>\n",
       "      <td>https://pbs.twimg.com/media/CT5IQmsXIAAKY4A.jpg</td>\n",
       "      <td>1</td>\n",
       "      <td>miniature_pinscher</td>\n",
       "      <td>0.560311</td>\n",
       "      <td>True</td>\n",
       "      <td>Rottweiler</td>\n",
       "      <td>0.243682</td>\n",
       "      <td>True</td>\n",
       "      <td>Doberman</td>\n",
       "      <td>0.154629</td>\n",
       "      <td>True</td>\n",
       "    </tr>\n",
       "    <tr>\n",
       "      <th>...</th>\n",
       "      <td>...</td>\n",
       "      <td>...</td>\n",
       "      <td>...</td>\n",
       "      <td>...</td>\n",
       "      <td>...</td>\n",
       "      <td>...</td>\n",
       "      <td>...</td>\n",
       "      <td>...</td>\n",
       "      <td>...</td>\n",
       "      <td>...</td>\n",
       "      <td>...</td>\n",
       "      <td>...</td>\n",
       "    </tr>\n",
       "    <tr>\n",
       "      <th>2070</th>\n",
       "      <td>891327558926688256</td>\n",
       "      <td>https://pbs.twimg.com/media/DF6hr6BUMAAzZgT.jpg</td>\n",
       "      <td>2</td>\n",
       "      <td>basset</td>\n",
       "      <td>0.555712</td>\n",
       "      <td>True</td>\n",
       "      <td>English_springer</td>\n",
       "      <td>0.225770</td>\n",
       "      <td>True</td>\n",
       "      <td>German_short-haired_pointer</td>\n",
       "      <td>0.175219</td>\n",
       "      <td>True</td>\n",
       "    </tr>\n",
       "    <tr>\n",
       "      <th>2071</th>\n",
       "      <td>891689557279858688</td>\n",
       "      <td>https://pbs.twimg.com/media/DF_q7IAWsAEuuN8.jpg</td>\n",
       "      <td>1</td>\n",
       "      <td>paper_towel</td>\n",
       "      <td>0.170278</td>\n",
       "      <td>False</td>\n",
       "      <td>Labrador_retriever</td>\n",
       "      <td>0.168086</td>\n",
       "      <td>True</td>\n",
       "      <td>spatula</td>\n",
       "      <td>0.040836</td>\n",
       "      <td>False</td>\n",
       "    </tr>\n",
       "    <tr>\n",
       "      <th>2072</th>\n",
       "      <td>891815181378084864</td>\n",
       "      <td>https://pbs.twimg.com/media/DGBdLU1WsAANxJ9.jpg</td>\n",
       "      <td>1</td>\n",
       "      <td>Chihuahua</td>\n",
       "      <td>0.716012</td>\n",
       "      <td>True</td>\n",
       "      <td>malamute</td>\n",
       "      <td>0.078253</td>\n",
       "      <td>True</td>\n",
       "      <td>kelpie</td>\n",
       "      <td>0.031379</td>\n",
       "      <td>True</td>\n",
       "    </tr>\n",
       "    <tr>\n",
       "      <th>2073</th>\n",
       "      <td>892177421306343426</td>\n",
       "      <td>https://pbs.twimg.com/media/DGGmoV4XsAAUL6n.jpg</td>\n",
       "      <td>1</td>\n",
       "      <td>Chihuahua</td>\n",
       "      <td>0.323581</td>\n",
       "      <td>True</td>\n",
       "      <td>Pekinese</td>\n",
       "      <td>0.090647</td>\n",
       "      <td>True</td>\n",
       "      <td>papillon</td>\n",
       "      <td>0.068957</td>\n",
       "      <td>True</td>\n",
       "    </tr>\n",
       "    <tr>\n",
       "      <th>2074</th>\n",
       "      <td>892420643555336193</td>\n",
       "      <td>https://pbs.twimg.com/media/DGKD1-bXoAAIAUK.jpg</td>\n",
       "      <td>1</td>\n",
       "      <td>orange</td>\n",
       "      <td>0.097049</td>\n",
       "      <td>False</td>\n",
       "      <td>bagel</td>\n",
       "      <td>0.085851</td>\n",
       "      <td>False</td>\n",
       "      <td>banana</td>\n",
       "      <td>0.076110</td>\n",
       "      <td>False</td>\n",
       "    </tr>\n",
       "  </tbody>\n",
       "</table>\n",
       "<p>2075 rows × 12 columns</p>\n",
       "</div>"
      ],
      "text/plain": [
       "                tweet_id                                          jpg_url  \\\n",
       "0     666020888022790149  https://pbs.twimg.com/media/CT4udn0WwAA0aMy.jpg   \n",
       "1     666029285002620928  https://pbs.twimg.com/media/CT42GRgUYAA5iDo.jpg   \n",
       "2     666033412701032449  https://pbs.twimg.com/media/CT4521TWwAEvMyu.jpg   \n",
       "3     666044226329800704  https://pbs.twimg.com/media/CT5Dr8HUEAA-lEu.jpg   \n",
       "4     666049248165822465  https://pbs.twimg.com/media/CT5IQmsXIAAKY4A.jpg   \n",
       "...                  ...                                              ...   \n",
       "2070  891327558926688256  https://pbs.twimg.com/media/DF6hr6BUMAAzZgT.jpg   \n",
       "2071  891689557279858688  https://pbs.twimg.com/media/DF_q7IAWsAEuuN8.jpg   \n",
       "2072  891815181378084864  https://pbs.twimg.com/media/DGBdLU1WsAANxJ9.jpg   \n",
       "2073  892177421306343426  https://pbs.twimg.com/media/DGGmoV4XsAAUL6n.jpg   \n",
       "2074  892420643555336193  https://pbs.twimg.com/media/DGKD1-bXoAAIAUK.jpg   \n",
       "\n",
       "      img_num                      p1   p1_conf  p1_dog                  p2  \\\n",
       "0           1  Welsh_springer_spaniel  0.465074    True              collie   \n",
       "1           1                 redbone  0.506826    True  miniature_pinscher   \n",
       "2           1         German_shepherd  0.596461    True            malinois   \n",
       "3           1     Rhodesian_ridgeback  0.408143    True             redbone   \n",
       "4           1      miniature_pinscher  0.560311    True          Rottweiler   \n",
       "...       ...                     ...       ...     ...                 ...   \n",
       "2070        2                  basset  0.555712    True    English_springer   \n",
       "2071        1             paper_towel  0.170278   False  Labrador_retriever   \n",
       "2072        1               Chihuahua  0.716012    True            malamute   \n",
       "2073        1               Chihuahua  0.323581    True            Pekinese   \n",
       "2074        1                  orange  0.097049   False               bagel   \n",
       "\n",
       "       p2_conf  p2_dog                           p3   p3_conf  p3_dog  \n",
       "0     0.156665    True            Shetland_sheepdog  0.061428    True  \n",
       "1     0.074192    True          Rhodesian_ridgeback  0.072010    True  \n",
       "2     0.138584    True                   bloodhound  0.116197    True  \n",
       "3     0.360687    True           miniature_pinscher  0.222752    True  \n",
       "4     0.243682    True                     Doberman  0.154629    True  \n",
       "...        ...     ...                          ...       ...     ...  \n",
       "2070  0.225770    True  German_short-haired_pointer  0.175219    True  \n",
       "2071  0.168086    True                      spatula  0.040836   False  \n",
       "2072  0.078253    True                       kelpie  0.031379    True  \n",
       "2073  0.090647    True                     papillon  0.068957    True  \n",
       "2074  0.085851   False                       banana  0.076110   False  \n",
       "\n",
       "[2075 rows x 12 columns]"
      ]
     },
     "execution_count": 52,
     "metadata": {},
     "output_type": "execute_result"
    }
   ],
   "source": [
    "image_df"
   ]
  },
  {
   "cell_type": "code",
   "execution_count": 53,
   "metadata": {},
   "outputs": [
    {
     "name": "stdout",
     "output_type": "stream",
     "text": [
      "<class 'pandas.core.frame.DataFrame'>\n",
      "RangeIndex: 2075 entries, 0 to 2074\n",
      "Data columns (total 12 columns):\n",
      " #   Column    Non-Null Count  Dtype  \n",
      "---  ------    --------------  -----  \n",
      " 0   tweet_id  2075 non-null   int64  \n",
      " 1   jpg_url   2075 non-null   object \n",
      " 2   img_num   2075 non-null   int64  \n",
      " 3   p1        2075 non-null   object \n",
      " 4   p1_conf   2075 non-null   float64\n",
      " 5   p1_dog    2075 non-null   bool   \n",
      " 6   p2        2075 non-null   object \n",
      " 7   p2_conf   2075 non-null   float64\n",
      " 8   p2_dog    2075 non-null   bool   \n",
      " 9   p3        2075 non-null   object \n",
      " 10  p3_conf   2075 non-null   float64\n",
      " 11  p3_dog    2075 non-null   bool   \n",
      "dtypes: bool(3), float64(3), int64(2), object(4)\n",
      "memory usage: 152.1+ KB\n"
     ]
    }
   ],
   "source": [
    "image_df.info()"
   ]
  },
  {
   "cell_type": "code",
   "execution_count": 54,
   "metadata": {},
   "outputs": [
    {
     "data": {
      "text/plain": [
       "tweet_id    0\n",
       "jpg_url     0\n",
       "img_num     0\n",
       "p1          0\n",
       "p1_conf     0\n",
       "p1_dog      0\n",
       "p2          0\n",
       "p2_conf     0\n",
       "p2_dog      0\n",
       "p3          0\n",
       "p3_conf     0\n",
       "p3_dog      0\n",
       "dtype: int64"
      ]
     },
     "execution_count": 54,
     "metadata": {},
     "output_type": "execute_result"
    }
   ],
   "source": [
    "# Check fo rmissing value\n",
    "image_df.isna().sum()"
   ]
  },
  {
   "cell_type": "code",
   "execution_count": 55,
   "metadata": {},
   "outputs": [
    {
     "data": {
      "text/plain": [
       "0"
      ]
     },
     "execution_count": 55,
     "metadata": {},
     "output_type": "execute_result"
    }
   ],
   "source": [
    "# check for duplicates\n",
    "sum(image_df.duplicated())"
   ]
  },
  {
   "cell_type": "code",
   "execution_count": 56,
   "metadata": {},
   "outputs": [
    {
     "data": {
      "text/plain": [
       "golden_retriever      150\n",
       "Labrador_retriever    100\n",
       "Pembroke               89\n",
       "Chihuahua              83\n",
       "pug                    57\n",
       "                     ... \n",
       "pillow                  1\n",
       "carousel                1\n",
       "bald_eagle              1\n",
       "lorikeet                1\n",
       "orange                  1\n",
       "Name: p1, Length: 378, dtype: int64"
      ]
     },
     "execution_count": 56,
     "metadata": {},
     "output_type": "execute_result"
    }
   ],
   "source": [
    "# value counts for P1\n",
    "image_df.p1.value_counts()"
   ]
  },
  {
   "cell_type": "code",
   "execution_count": 57,
   "metadata": {},
   "outputs": [
    {
     "data": {
      "text/plain": [
       "Labrador_retriever    104\n",
       "golden_retriever       92\n",
       "Cardigan               73\n",
       "Chihuahua              44\n",
       "Pomeranian             42\n",
       "                     ... \n",
       "medicine_chest          1\n",
       "quail                   1\n",
       "horse_cart              1\n",
       "waffle_iron             1\n",
       "bagel                   1\n",
       "Name: p2, Length: 405, dtype: int64"
      ]
     },
     "execution_count": 57,
     "metadata": {},
     "output_type": "execute_result"
    }
   ],
   "source": [
    "# value counts for P2\n",
    "image_df.p2.value_counts()"
   ]
  },
  {
   "cell_type": "code",
   "execution_count": 58,
   "metadata": {},
   "outputs": [
    {
     "data": {
      "text/plain": [
       "Labrador_retriever    79\n",
       "Chihuahua             58\n",
       "golden_retriever      48\n",
       "Eskimo_dog            38\n",
       "kelpie                35\n",
       "                      ..\n",
       "ox                     1\n",
       "assault_rifle          1\n",
       "axolotl                1\n",
       "pot                    1\n",
       "banana                 1\n",
       "Name: p3, Length: 408, dtype: int64"
      ]
     },
     "execution_count": 58,
     "metadata": {},
     "output_type": "execute_result"
    }
   ],
   "source": [
    "# value counts for P3\n",
    "image_df.p3.value_counts()"
   ]
  },
  {
   "cell_type": "code",
   "execution_count": 59,
   "metadata": {},
   "outputs": [
    {
     "data": {
      "text/plain": [
       "True     1532\n",
       "False     543\n",
       "Name: p1_dog, dtype: int64"
      ]
     },
     "execution_count": 59,
     "metadata": {},
     "output_type": "execute_result"
    }
   ],
   "source": [
    "# value counts P1 dog\n",
    "image_df.p1_dog.value_counts()"
   ]
  },
  {
   "cell_type": "code",
   "execution_count": 60,
   "metadata": {},
   "outputs": [
    {
     "data": {
      "text/plain": [
       "True     1553\n",
       "False     522\n",
       "Name: p2_dog, dtype: int64"
      ]
     },
     "execution_count": 60,
     "metadata": {},
     "output_type": "execute_result"
    }
   ],
   "source": [
    "# value counts P2 dog\n",
    "image_df.p2_dog.value_counts()"
   ]
  },
  {
   "cell_type": "code",
   "execution_count": 61,
   "metadata": {},
   "outputs": [
    {
     "data": {
      "text/plain": [
       "True     1499\n",
       "False     576\n",
       "Name: p3_dog, dtype: int64"
      ]
     },
     "execution_count": 61,
     "metadata": {},
     "output_type": "execute_result"
    }
   ],
   "source": [
    "# value counts P3 dog\n",
    "image_df.p3_dog.value_counts()"
   ]
  },
  {
   "cell_type": "code",
   "execution_count": 62,
   "metadata": {},
   "outputs": [
    {
     "data": {
      "text/plain": [
       "1    1780\n",
       "2     198\n",
       "3      66\n",
       "4      31\n",
       "Name: img_num, dtype: int64"
      ]
     },
     "execution_count": 62,
     "metadata": {},
     "output_type": "execute_result"
    }
   ],
   "source": [
    "# check for the image number\n",
    "image_df.img_num.value_counts()"
   ]
  },
  {
   "cell_type": "markdown",
   "metadata": {},
   "source": [
    "## 3a. Assessing `The Tweet API Data`"
   ]
  },
  {
   "cell_type": "code",
   "execution_count": 63,
   "metadata": {},
   "outputs": [
    {
     "data": {
      "text/html": [
       "<div>\n",
       "<style scoped>\n",
       "    .dataframe tbody tr th:only-of-type {\n",
       "        vertical-align: middle;\n",
       "    }\n",
       "\n",
       "    .dataframe tbody tr th {\n",
       "        vertical-align: top;\n",
       "    }\n",
       "\n",
       "    .dataframe thead th {\n",
       "        text-align: right;\n",
       "    }\n",
       "</style>\n",
       "<table border=\"1\" class=\"dataframe\">\n",
       "  <thead>\n",
       "    <tr style=\"text-align: right;\">\n",
       "      <th></th>\n",
       "      <th>tweet_id</th>\n",
       "      <th>favorite_count</th>\n",
       "      <th>retweet_count</th>\n",
       "      <th>created_at</th>\n",
       "      <th>full_text</th>\n",
       "    </tr>\n",
       "  </thead>\n",
       "  <tbody>\n",
       "    <tr>\n",
       "      <th>0</th>\n",
       "      <td>892420643555336193</td>\n",
       "      <td>33771</td>\n",
       "      <td>6996</td>\n",
       "      <td>2017-08-01 16:23:56+00:00</td>\n",
       "      <td>This is Phineas. He's a mystical boy. Only eve...</td>\n",
       "    </tr>\n",
       "    <tr>\n",
       "      <th>1</th>\n",
       "      <td>892177421306343426</td>\n",
       "      <td>29294</td>\n",
       "      <td>5296</td>\n",
       "      <td>2017-08-01 00:17:27+00:00</td>\n",
       "      <td>This is Tilly. She's just checking pup on you....</td>\n",
       "    </tr>\n",
       "    <tr>\n",
       "      <th>2</th>\n",
       "      <td>891815181378084864</td>\n",
       "      <td>22028</td>\n",
       "      <td>3476</td>\n",
       "      <td>2017-07-31 00:18:03+00:00</td>\n",
       "      <td>This is Archie. He is a rare Norwegian Pouncin...</td>\n",
       "    </tr>\n",
       "    <tr>\n",
       "      <th>3</th>\n",
       "      <td>891689557279858688</td>\n",
       "      <td>36863</td>\n",
       "      <td>7210</td>\n",
       "      <td>2017-07-30 15:58:51+00:00</td>\n",
       "      <td>This is Darla. She commenced a snooze mid meal...</td>\n",
       "    </tr>\n",
       "    <tr>\n",
       "      <th>4</th>\n",
       "      <td>891327558926688256</td>\n",
       "      <td>35248</td>\n",
       "      <td>7750</td>\n",
       "      <td>2017-07-29 16:00:24+00:00</td>\n",
       "      <td>This is Franklin. He would like you to stop ca...</td>\n",
       "    </tr>\n",
       "    <tr>\n",
       "      <th>...</th>\n",
       "      <td>...</td>\n",
       "      <td>...</td>\n",
       "      <td>...</td>\n",
       "      <td>...</td>\n",
       "      <td>...</td>\n",
       "    </tr>\n",
       "    <tr>\n",
       "      <th>1940</th>\n",
       "      <td>666049248165822465</td>\n",
       "      <td>89</td>\n",
       "      <td>37</td>\n",
       "      <td>2015-11-16 00:24:50+00:00</td>\n",
       "      <td>Here we have a 1949 1st generation vulpix. Enj...</td>\n",
       "    </tr>\n",
       "    <tr>\n",
       "      <th>1941</th>\n",
       "      <td>666044226329800704</td>\n",
       "      <td>246</td>\n",
       "      <td>115</td>\n",
       "      <td>2015-11-16 00:04:52+00:00</td>\n",
       "      <td>This is a purebred Piers Morgan. Loves to Netf...</td>\n",
       "    </tr>\n",
       "    <tr>\n",
       "      <th>1942</th>\n",
       "      <td>666033412701032449</td>\n",
       "      <td>100</td>\n",
       "      <td>36</td>\n",
       "      <td>2015-11-15 23:21:54+00:00</td>\n",
       "      <td>Here is a very happy pup. Big fan of well-main...</td>\n",
       "    </tr>\n",
       "    <tr>\n",
       "      <th>1943</th>\n",
       "      <td>666029285002620928</td>\n",
       "      <td>112</td>\n",
       "      <td>39</td>\n",
       "      <td>2015-11-15 23:05:30+00:00</td>\n",
       "      <td>This is a western brown Mitsubishi terrier. Up...</td>\n",
       "    </tr>\n",
       "    <tr>\n",
       "      <th>1944</th>\n",
       "      <td>666020888022790149</td>\n",
       "      <td>2288</td>\n",
       "      <td>422</td>\n",
       "      <td>2015-11-15 22:32:08+00:00</td>\n",
       "      <td>Here we have a Japanese Irish Setter. Lost eye...</td>\n",
       "    </tr>\n",
       "  </tbody>\n",
       "</table>\n",
       "<p>1945 rows × 5 columns</p>\n",
       "</div>"
      ],
      "text/plain": [
       "                tweet_id  favorite_count  retweet_count  \\\n",
       "0     892420643555336193           33771           6996   \n",
       "1     892177421306343426           29294           5296   \n",
       "2     891815181378084864           22028           3476   \n",
       "3     891689557279858688           36863           7210   \n",
       "4     891327558926688256           35248           7750   \n",
       "...                  ...             ...            ...   \n",
       "1940  666049248165822465              89             37   \n",
       "1941  666044226329800704             246            115   \n",
       "1942  666033412701032449             100             36   \n",
       "1943  666029285002620928             112             39   \n",
       "1944  666020888022790149            2288            422   \n",
       "\n",
       "                    created_at  \\\n",
       "0    2017-08-01 16:23:56+00:00   \n",
       "1    2017-08-01 00:17:27+00:00   \n",
       "2    2017-07-31 00:18:03+00:00   \n",
       "3    2017-07-30 15:58:51+00:00   \n",
       "4    2017-07-29 16:00:24+00:00   \n",
       "...                        ...   \n",
       "1940 2015-11-16 00:24:50+00:00   \n",
       "1941 2015-11-16 00:04:52+00:00   \n",
       "1942 2015-11-15 23:21:54+00:00   \n",
       "1943 2015-11-15 23:05:30+00:00   \n",
       "1944 2015-11-15 22:32:08+00:00   \n",
       "\n",
       "                                              full_text  \n",
       "0     This is Phineas. He's a mystical boy. Only eve...  \n",
       "1     This is Tilly. She's just checking pup on you....  \n",
       "2     This is Archie. He is a rare Norwegian Pouncin...  \n",
       "3     This is Darla. She commenced a snooze mid meal...  \n",
       "4     This is Franklin. He would like you to stop ca...  \n",
       "...                                                 ...  \n",
       "1940  Here we have a 1949 1st generation vulpix. Enj...  \n",
       "1941  This is a purebred Piers Morgan. Loves to Netf...  \n",
       "1942  Here is a very happy pup. Big fan of well-main...  \n",
       "1943  This is a western brown Mitsubishi terrier. Up...  \n",
       "1944  Here we have a Japanese Irish Setter. Lost eye...  \n",
       "\n",
       "[1945 rows x 5 columns]"
      ]
     },
     "execution_count": 63,
     "metadata": {},
     "output_type": "execute_result"
    }
   ],
   "source": [
    "tweet_api"
   ]
  },
  {
   "cell_type": "code",
   "execution_count": 64,
   "metadata": {},
   "outputs": [
    {
     "name": "stdout",
     "output_type": "stream",
     "text": [
      "<class 'pandas.core.frame.DataFrame'>\n",
      "RangeIndex: 1945 entries, 0 to 1944\n",
      "Data columns (total 5 columns):\n",
      " #   Column          Non-Null Count  Dtype              \n",
      "---  ------          --------------  -----              \n",
      " 0   tweet_id        1945 non-null   int64              \n",
      " 1   favorite_count  1945 non-null   int64              \n",
      " 2   retweet_count   1945 non-null   int64              \n",
      " 3   created_at      1945 non-null   datetime64[ns, UTC]\n",
      " 4   full_text       1945 non-null   object             \n",
      "dtypes: datetime64[ns, UTC](1), int64(3), object(1)\n",
      "memory usage: 76.1+ KB\n"
     ]
    }
   ],
   "source": [
    "tweet_api.info()"
   ]
  },
  {
   "cell_type": "markdown",
   "metadata": {},
   "source": [
    " __________________________________________________________________________"
   ]
  },
  {
   "cell_type": "markdown",
   "metadata": {},
   "source": [
    "<h1>Quality Issues</h1>"
   ]
  },
  {
   "cell_type": "markdown",
   "metadata": {},
   "source": [
    "### Twitter Archive Data\n",
    "\n",
    "<ol>\n",
    "    <li>Retweets columns are present.</li>\n",
    "    <li><code>tweet_id</code> is an integer.</li>\n",
    "    <li>Dog stages columns <code>doggo</code>, <code>floofer</code>, <code>pupper</code>,and <code>puppo</code> contains <b>None</b>, instead of <b>NaN</b>s.</li>\n",
    "    <li>Dog name also containes <b>None</b> instead of <b>NaN</b>s.</li>\n",
    "    <li><code>timestamp</code> is object datatype.</li>\n",
    "    <li>Extract the text from <code>source</code> column</li>\n",
    "</ol>"
   ]
  },
  {
   "cell_type": "markdown",
   "metadata": {},
   "source": [
    "### Image Predictions Data"
   ]
  },
  {
   "cell_type": "markdown",
   "metadata": {},
   "source": [
    "<ol>\n",
    "    <li><code>p1</code>, <code>p2</code> and <code>p3</code> contains some entries that are lower cased and some contains underscore.</li>\n",
    "</ol>"
   ]
  },
  {
   "cell_type": "markdown",
   "metadata": {},
   "source": [
    "### Twitter API Data"
   ]
  },
  {
   "cell_type": "markdown",
   "metadata": {},
   "source": [
    "<ol>\n",
    "    <li><code>tweet_id</code> is an integer instead of string.</li>\n",
    "</ol>"
   ]
  },
  {
   "cell_type": "markdown",
   "metadata": {},
   "source": [
    "<h1>Tidiness Issues</h1>"
   ]
  },
  {
   "cell_type": "markdown",
   "metadata": {},
   "source": [
    "<ol>\n",
    "    <li>4 different dog stages (doggo, floofer, pupper, puppo) that can just be in a column.</li>\n",
    "    <li>The 3 dataframes sould be merged into one.</li>\n",
    "</ol>"
   ]
  },
  {
   "cell_type": "markdown",
   "metadata": {},
   "source": [
    "<a id='cleaning'></a>\n",
    "\n",
    "# 3. Cleaning the Data"
   ]
  },
  {
   "cell_type": "code",
   "execution_count": 65,
   "metadata": {},
   "outputs": [],
   "source": [
    "# Copy the dataframes\n",
    "dog_archive_clean = dog_archive.copy()\n",
    "image_df_clean = image_df.copy()\n",
    "twitter_api_clean = tweet_api.copy()"
   ]
  },
  {
   "cell_type": "markdown",
   "metadata": {},
   "source": [
    "### Define:\n",
    "\n",
    "Delete retweets from the dataset\n",
    "\n",
    "### Code"
   ]
  },
  {
   "cell_type": "code",
   "execution_count": 66,
   "metadata": {},
   "outputs": [],
   "source": [
    "# Delete retweets\n",
    "\n",
    "dog_archive_clean = dog_archive_clean[pd.isnull(dog_archive_clean.retweeted_status_id)]"
   ]
  },
  {
   "cell_type": "markdown",
   "metadata": {},
   "source": [
    "### Test"
   ]
  },
  {
   "cell_type": "code",
   "execution_count": 67,
   "metadata": {},
   "outputs": [
    {
     "data": {
      "text/plain": [
       "(2175, 17)"
      ]
     },
     "execution_count": 67,
     "metadata": {},
     "output_type": "execute_result"
    }
   ],
   "source": [
    "dog_archive_clean.shape"
   ]
  },
  {
   "cell_type": "code",
   "execution_count": 68,
   "metadata": {},
   "outputs": [
    {
     "name": "stdout",
     "output_type": "stream",
     "text": [
      "<class 'pandas.core.frame.DataFrame'>\n",
      "Int64Index: 2175 entries, 0 to 2355\n",
      "Data columns (total 17 columns):\n",
      " #   Column                      Non-Null Count  Dtype  \n",
      "---  ------                      --------------  -----  \n",
      " 0   tweet_id                    2175 non-null   int64  \n",
      " 1   in_reply_to_status_id       78 non-null     float64\n",
      " 2   in_reply_to_user_id         78 non-null     float64\n",
      " 3   timestamp                   2175 non-null   object \n",
      " 4   source                      2175 non-null   object \n",
      " 5   text                        2175 non-null   object \n",
      " 6   retweeted_status_id         0 non-null      float64\n",
      " 7   retweeted_status_user_id    0 non-null      float64\n",
      " 8   retweeted_status_timestamp  0 non-null      object \n",
      " 9   expanded_urls               2117 non-null   object \n",
      " 10  rating_numerator            2175 non-null   int64  \n",
      " 11  rating_denominator          2175 non-null   int64  \n",
      " 12  name                        2175 non-null   object \n",
      " 13  doggo                       2175 non-null   object \n",
      " 14  floofer                     2175 non-null   object \n",
      " 15  pupper                      2175 non-null   object \n",
      " 16  puppo                       2175 non-null   object \n",
      "dtypes: float64(4), int64(3), object(10)\n",
      "memory usage: 305.9+ KB\n"
     ]
    }
   ],
   "source": [
    "dog_archive_clean.info()"
   ]
  },
  {
   "cell_type": "markdown",
   "metadata": {},
   "source": [
    "### Define:\n",
    "\n",
    "Delete the following colunms; `in_reply_to_user_id`, `in_reply_to_status_id`, `timestamp`, `text`, `retweeted_status_id`, `retweeted_status_user_id`, `retweeted_status_timestamp`."
   ]
  },
  {
   "cell_type": "code",
   "execution_count": 69,
   "metadata": {},
   "outputs": [
    {
     "name": "stderr",
     "output_type": "stream",
     "text": [
      "<ipython-input-69-729d1dea62ab>:8: FutureWarning: In a future version of pandas all arguments of DataFrame.drop except for the argument 'labels' will be keyword-only.\n",
      "  dog_archive_clean = dog_archive_clean.drop(drop_columns, 1)\n"
     ]
    }
   ],
   "source": [
    "# create a list of the columns to be deleted\n",
    "\n",
    "drop_columns = ['in_reply_to_user_id', 'in_reply_to_status_id', \n",
    "           'timestamp', 'text', \n",
    "           'retweeted_status_id', 'retweeted_status_user_id', \n",
    "           'retweeted_status_timestamp']\n",
    "\n",
    "dog_archive_clean = dog_archive_clean.drop(drop_columns, 1)"
   ]
  },
  {
   "cell_type": "markdown",
   "metadata": {},
   "source": [
    "### Test"
   ]
  },
  {
   "cell_type": "code",
   "execution_count": 70,
   "metadata": {},
   "outputs": [
    {
     "name": "stdout",
     "output_type": "stream",
     "text": [
      "<class 'pandas.core.frame.DataFrame'>\n",
      "Int64Index: 2175 entries, 0 to 2355\n",
      "Data columns (total 10 columns):\n",
      " #   Column              Non-Null Count  Dtype \n",
      "---  ------              --------------  ----- \n",
      " 0   tweet_id            2175 non-null   int64 \n",
      " 1   source              2175 non-null   object\n",
      " 2   expanded_urls       2117 non-null   object\n",
      " 3   rating_numerator    2175 non-null   int64 \n",
      " 4   rating_denominator  2175 non-null   int64 \n",
      " 5   name                2175 non-null   object\n",
      " 6   doggo               2175 non-null   object\n",
      " 7   floofer             2175 non-null   object\n",
      " 8   pupper              2175 non-null   object\n",
      " 9   puppo               2175 non-null   object\n",
      "dtypes: int64(3), object(7)\n",
      "memory usage: 186.9+ KB\n"
     ]
    }
   ],
   "source": [
    "dog_archive_clean.info()"
   ]
  },
  {
   "cell_type": "markdown",
   "metadata": {},
   "source": [
    "### Define:\n",
    "\n",
    "Create new columns (date and time) from `created_at`\n",
    "\n",
    "### Code"
   ]
  },
  {
   "cell_type": "code",
   "execution_count": 71,
   "metadata": {},
   "outputs": [],
   "source": [
    "# Create new columns `date` and `time` based on `created_at`\n",
    "\n",
    "twitter_api_clean['date'] = twitter_api_clean['created_at'].dt.date\n",
    "twitter_api_clean['time'] = twitter_api_clean['created_at'].dt.time"
   ]
  },
  {
   "cell_type": "markdown",
   "metadata": {},
   "source": [
    "### Test"
   ]
  },
  {
   "cell_type": "code",
   "execution_count": 72,
   "metadata": {},
   "outputs": [
    {
     "name": "stdout",
     "output_type": "stream",
     "text": [
      "<class 'pandas.core.frame.DataFrame'>\n",
      "RangeIndex: 1945 entries, 0 to 1944\n",
      "Data columns (total 7 columns):\n",
      " #   Column          Non-Null Count  Dtype              \n",
      "---  ------          --------------  -----              \n",
      " 0   tweet_id        1945 non-null   int64              \n",
      " 1   favorite_count  1945 non-null   int64              \n",
      " 2   retweet_count   1945 non-null   int64              \n",
      " 3   created_at      1945 non-null   datetime64[ns, UTC]\n",
      " 4   full_text       1945 non-null   object             \n",
      " 5   date            1945 non-null   object             \n",
      " 6   time            1945 non-null   object             \n",
      "dtypes: datetime64[ns, UTC](1), int64(3), object(3)\n",
      "memory usage: 106.5+ KB\n"
     ]
    }
   ],
   "source": [
    "twitter_api_clean.info()"
   ]
  },
  {
   "cell_type": "code",
   "execution_count": 73,
   "metadata": {},
   "outputs": [
    {
     "data": {
      "text/html": [
       "<div>\n",
       "<style scoped>\n",
       "    .dataframe tbody tr th:only-of-type {\n",
       "        vertical-align: middle;\n",
       "    }\n",
       "\n",
       "    .dataframe tbody tr th {\n",
       "        vertical-align: top;\n",
       "    }\n",
       "\n",
       "    .dataframe thead th {\n",
       "        text-align: right;\n",
       "    }\n",
       "</style>\n",
       "<table border=\"1\" class=\"dataframe\">\n",
       "  <thead>\n",
       "    <tr style=\"text-align: right;\">\n",
       "      <th></th>\n",
       "      <th>created_at</th>\n",
       "      <th>date</th>\n",
       "      <th>time</th>\n",
       "    </tr>\n",
       "  </thead>\n",
       "  <tbody>\n",
       "    <tr>\n",
       "      <th>0</th>\n",
       "      <td>2017-08-01 16:23:56+00:00</td>\n",
       "      <td>2017-08-01</td>\n",
       "      <td>16:23:56</td>\n",
       "    </tr>\n",
       "    <tr>\n",
       "      <th>1</th>\n",
       "      <td>2017-08-01 00:17:27+00:00</td>\n",
       "      <td>2017-08-01</td>\n",
       "      <td>00:17:27</td>\n",
       "    </tr>\n",
       "    <tr>\n",
       "      <th>2</th>\n",
       "      <td>2017-07-31 00:18:03+00:00</td>\n",
       "      <td>2017-07-31</td>\n",
       "      <td>00:18:03</td>\n",
       "    </tr>\n",
       "    <tr>\n",
       "      <th>3</th>\n",
       "      <td>2017-07-30 15:58:51+00:00</td>\n",
       "      <td>2017-07-30</td>\n",
       "      <td>15:58:51</td>\n",
       "    </tr>\n",
       "    <tr>\n",
       "      <th>4</th>\n",
       "      <td>2017-07-29 16:00:24+00:00</td>\n",
       "      <td>2017-07-29</td>\n",
       "      <td>16:00:24</td>\n",
       "    </tr>\n",
       "    <tr>\n",
       "      <th>...</th>\n",
       "      <td>...</td>\n",
       "      <td>...</td>\n",
       "      <td>...</td>\n",
       "    </tr>\n",
       "    <tr>\n",
       "      <th>1940</th>\n",
       "      <td>2015-11-16 00:24:50+00:00</td>\n",
       "      <td>2015-11-16</td>\n",
       "      <td>00:24:50</td>\n",
       "    </tr>\n",
       "    <tr>\n",
       "      <th>1941</th>\n",
       "      <td>2015-11-16 00:04:52+00:00</td>\n",
       "      <td>2015-11-16</td>\n",
       "      <td>00:04:52</td>\n",
       "    </tr>\n",
       "    <tr>\n",
       "      <th>1942</th>\n",
       "      <td>2015-11-15 23:21:54+00:00</td>\n",
       "      <td>2015-11-15</td>\n",
       "      <td>23:21:54</td>\n",
       "    </tr>\n",
       "    <tr>\n",
       "      <th>1943</th>\n",
       "      <td>2015-11-15 23:05:30+00:00</td>\n",
       "      <td>2015-11-15</td>\n",
       "      <td>23:05:30</td>\n",
       "    </tr>\n",
       "    <tr>\n",
       "      <th>1944</th>\n",
       "      <td>2015-11-15 22:32:08+00:00</td>\n",
       "      <td>2015-11-15</td>\n",
       "      <td>22:32:08</td>\n",
       "    </tr>\n",
       "  </tbody>\n",
       "</table>\n",
       "<p>1945 rows × 3 columns</p>\n",
       "</div>"
      ],
      "text/plain": [
       "                    created_at        date      time\n",
       "0    2017-08-01 16:23:56+00:00  2017-08-01  16:23:56\n",
       "1    2017-08-01 00:17:27+00:00  2017-08-01  00:17:27\n",
       "2    2017-07-31 00:18:03+00:00  2017-07-31  00:18:03\n",
       "3    2017-07-30 15:58:51+00:00  2017-07-30  15:58:51\n",
       "4    2017-07-29 16:00:24+00:00  2017-07-29  16:00:24\n",
       "...                        ...         ...       ...\n",
       "1940 2015-11-16 00:24:50+00:00  2015-11-16  00:24:50\n",
       "1941 2015-11-16 00:04:52+00:00  2015-11-16  00:04:52\n",
       "1942 2015-11-15 23:21:54+00:00  2015-11-15  23:21:54\n",
       "1943 2015-11-15 23:05:30+00:00  2015-11-15  23:05:30\n",
       "1944 2015-11-15 22:32:08+00:00  2015-11-15  22:32:08\n",
       "\n",
       "[1945 rows x 3 columns]"
      ]
     },
     "execution_count": 73,
     "metadata": {},
     "output_type": "execute_result"
    }
   ],
   "source": [
    "twitter_api_clean[['created_at', 'date', 'time']]"
   ]
  },
  {
   "cell_type": "markdown",
   "metadata": {},
   "source": [
    "### Define:\n",
    "\n",
    "Create a new column to be dog_stages for the following columns; `doggo`, `floofer`, `pupper`, `puppo`\n",
    "\n",
    "### Code"
   ]
  },
  {
   "cell_type": "code",
   "execution_count": 74,
   "metadata": {},
   "outputs": [],
   "source": [
    "# select the columns to melt and to remain\n",
    "columns_to_melt = ['doggo', 'floofer', 'pupper', 'puppo']\n",
    "col_left = [x for x in dog_archive_clean.columns.tolist() if x not in columns_to_melt]\n",
    "\n",
    "# melt to a colunms\n",
    "dog_archive_clean = pd.melt(dog_archive_clean, id_vars=col_left,\n",
    "                          var_name='stages', value_name='dog_stages')"
   ]
  },
  {
   "cell_type": "code",
   "execution_count": 75,
   "metadata": {},
   "outputs": [
    {
     "name": "stderr",
     "output_type": "stream",
     "text": [
      "<ipython-input-75-e1b5ba2f242f>:2: FutureWarning: In a future version of pandas all arguments of DataFrame.drop except for the argument 'labels' will be keyword-only.\n",
      "  dog_archive_clean.drop('stages', 1, inplace=True)\n"
     ]
    }
   ],
   "source": [
    "# drop stages column\n",
    "dog_archive_clean.drop('stages', 1, inplace=True)"
   ]
  },
  {
   "cell_type": "markdown",
   "metadata": {},
   "source": [
    "### Test"
   ]
  },
  {
   "cell_type": "code",
   "execution_count": 76,
   "metadata": {},
   "outputs": [
    {
     "data": {
      "text/html": [
       "<div>\n",
       "<style scoped>\n",
       "    .dataframe tbody tr th:only-of-type {\n",
       "        vertical-align: middle;\n",
       "    }\n",
       "\n",
       "    .dataframe tbody tr th {\n",
       "        vertical-align: top;\n",
       "    }\n",
       "\n",
       "    .dataframe thead th {\n",
       "        text-align: right;\n",
       "    }\n",
       "</style>\n",
       "<table border=\"1\" class=\"dataframe\">\n",
       "  <thead>\n",
       "    <tr style=\"text-align: right;\">\n",
       "      <th></th>\n",
       "      <th>tweet_id</th>\n",
       "      <th>source</th>\n",
       "      <th>expanded_urls</th>\n",
       "      <th>rating_numerator</th>\n",
       "      <th>rating_denominator</th>\n",
       "      <th>name</th>\n",
       "      <th>dog_stages</th>\n",
       "    </tr>\n",
       "  </thead>\n",
       "  <tbody>\n",
       "    <tr>\n",
       "      <th>0</th>\n",
       "      <td>892420643555336193</td>\n",
       "      <td>&lt;a href=\"http://twitter.com/download/iphone\" r...</td>\n",
       "      <td>https://twitter.com/dog_rates/status/892420643...</td>\n",
       "      <td>13</td>\n",
       "      <td>10</td>\n",
       "      <td>Phineas</td>\n",
       "      <td>None</td>\n",
       "    </tr>\n",
       "    <tr>\n",
       "      <th>1</th>\n",
       "      <td>892177421306343426</td>\n",
       "      <td>&lt;a href=\"http://twitter.com/download/iphone\" r...</td>\n",
       "      <td>https://twitter.com/dog_rates/status/892177421...</td>\n",
       "      <td>13</td>\n",
       "      <td>10</td>\n",
       "      <td>Tilly</td>\n",
       "      <td>None</td>\n",
       "    </tr>\n",
       "    <tr>\n",
       "      <th>2</th>\n",
       "      <td>891815181378084864</td>\n",
       "      <td>&lt;a href=\"http://twitter.com/download/iphone\" r...</td>\n",
       "      <td>https://twitter.com/dog_rates/status/891815181...</td>\n",
       "      <td>12</td>\n",
       "      <td>10</td>\n",
       "      <td>Archie</td>\n",
       "      <td>None</td>\n",
       "    </tr>\n",
       "    <tr>\n",
       "      <th>3</th>\n",
       "      <td>891689557279858688</td>\n",
       "      <td>&lt;a href=\"http://twitter.com/download/iphone\" r...</td>\n",
       "      <td>https://twitter.com/dog_rates/status/891689557...</td>\n",
       "      <td>13</td>\n",
       "      <td>10</td>\n",
       "      <td>Darla</td>\n",
       "      <td>None</td>\n",
       "    </tr>\n",
       "    <tr>\n",
       "      <th>4</th>\n",
       "      <td>891327558926688256</td>\n",
       "      <td>&lt;a href=\"http://twitter.com/download/iphone\" r...</td>\n",
       "      <td>https://twitter.com/dog_rates/status/891327558...</td>\n",
       "      <td>12</td>\n",
       "      <td>10</td>\n",
       "      <td>Franklin</td>\n",
       "      <td>None</td>\n",
       "    </tr>\n",
       "    <tr>\n",
       "      <th>...</th>\n",
       "      <td>...</td>\n",
       "      <td>...</td>\n",
       "      <td>...</td>\n",
       "      <td>...</td>\n",
       "      <td>...</td>\n",
       "      <td>...</td>\n",
       "      <td>...</td>\n",
       "    </tr>\n",
       "    <tr>\n",
       "      <th>8695</th>\n",
       "      <td>666049248165822465</td>\n",
       "      <td>&lt;a href=\"http://twitter.com/download/iphone\" r...</td>\n",
       "      <td>https://twitter.com/dog_rates/status/666049248...</td>\n",
       "      <td>5</td>\n",
       "      <td>10</td>\n",
       "      <td>None</td>\n",
       "      <td>None</td>\n",
       "    </tr>\n",
       "    <tr>\n",
       "      <th>8696</th>\n",
       "      <td>666044226329800704</td>\n",
       "      <td>&lt;a href=\"http://twitter.com/download/iphone\" r...</td>\n",
       "      <td>https://twitter.com/dog_rates/status/666044226...</td>\n",
       "      <td>6</td>\n",
       "      <td>10</td>\n",
       "      <td>a</td>\n",
       "      <td>None</td>\n",
       "    </tr>\n",
       "    <tr>\n",
       "      <th>8697</th>\n",
       "      <td>666033412701032449</td>\n",
       "      <td>&lt;a href=\"http://twitter.com/download/iphone\" r...</td>\n",
       "      <td>https://twitter.com/dog_rates/status/666033412...</td>\n",
       "      <td>9</td>\n",
       "      <td>10</td>\n",
       "      <td>a</td>\n",
       "      <td>None</td>\n",
       "    </tr>\n",
       "    <tr>\n",
       "      <th>8698</th>\n",
       "      <td>666029285002620928</td>\n",
       "      <td>&lt;a href=\"http://twitter.com/download/iphone\" r...</td>\n",
       "      <td>https://twitter.com/dog_rates/status/666029285...</td>\n",
       "      <td>7</td>\n",
       "      <td>10</td>\n",
       "      <td>a</td>\n",
       "      <td>None</td>\n",
       "    </tr>\n",
       "    <tr>\n",
       "      <th>8699</th>\n",
       "      <td>666020888022790149</td>\n",
       "      <td>&lt;a href=\"http://twitter.com/download/iphone\" r...</td>\n",
       "      <td>https://twitter.com/dog_rates/status/666020888...</td>\n",
       "      <td>8</td>\n",
       "      <td>10</td>\n",
       "      <td>None</td>\n",
       "      <td>None</td>\n",
       "    </tr>\n",
       "  </tbody>\n",
       "</table>\n",
       "<p>8700 rows × 7 columns</p>\n",
       "</div>"
      ],
      "text/plain": [
       "                tweet_id                                             source  \\\n",
       "0     892420643555336193  <a href=\"http://twitter.com/download/iphone\" r...   \n",
       "1     892177421306343426  <a href=\"http://twitter.com/download/iphone\" r...   \n",
       "2     891815181378084864  <a href=\"http://twitter.com/download/iphone\" r...   \n",
       "3     891689557279858688  <a href=\"http://twitter.com/download/iphone\" r...   \n",
       "4     891327558926688256  <a href=\"http://twitter.com/download/iphone\" r...   \n",
       "...                  ...                                                ...   \n",
       "8695  666049248165822465  <a href=\"http://twitter.com/download/iphone\" r...   \n",
       "8696  666044226329800704  <a href=\"http://twitter.com/download/iphone\" r...   \n",
       "8697  666033412701032449  <a href=\"http://twitter.com/download/iphone\" r...   \n",
       "8698  666029285002620928  <a href=\"http://twitter.com/download/iphone\" r...   \n",
       "8699  666020888022790149  <a href=\"http://twitter.com/download/iphone\" r...   \n",
       "\n",
       "                                          expanded_urls  rating_numerator  \\\n",
       "0     https://twitter.com/dog_rates/status/892420643...                13   \n",
       "1     https://twitter.com/dog_rates/status/892177421...                13   \n",
       "2     https://twitter.com/dog_rates/status/891815181...                12   \n",
       "3     https://twitter.com/dog_rates/status/891689557...                13   \n",
       "4     https://twitter.com/dog_rates/status/891327558...                12   \n",
       "...                                                 ...               ...   \n",
       "8695  https://twitter.com/dog_rates/status/666049248...                 5   \n",
       "8696  https://twitter.com/dog_rates/status/666044226...                 6   \n",
       "8697  https://twitter.com/dog_rates/status/666033412...                 9   \n",
       "8698  https://twitter.com/dog_rates/status/666029285...                 7   \n",
       "8699  https://twitter.com/dog_rates/status/666020888...                 8   \n",
       "\n",
       "      rating_denominator      name dog_stages  \n",
       "0                     10   Phineas       None  \n",
       "1                     10     Tilly       None  \n",
       "2                     10    Archie       None  \n",
       "3                     10     Darla       None  \n",
       "4                     10  Franklin       None  \n",
       "...                  ...       ...        ...  \n",
       "8695                  10      None       None  \n",
       "8696                  10         a       None  \n",
       "8697                  10         a       None  \n",
       "8698                  10         a       None  \n",
       "8699                  10      None       None  \n",
       "\n",
       "[8700 rows x 7 columns]"
      ]
     },
     "execution_count": 76,
     "metadata": {},
     "output_type": "execute_result"
    }
   ],
   "source": [
    "dog_archive_clean"
   ]
  },
  {
   "cell_type": "code",
   "execution_count": 77,
   "metadata": {},
   "outputs": [
    {
     "name": "stdout",
     "output_type": "stream",
     "text": [
      "<class 'pandas.core.frame.DataFrame'>\n",
      "RangeIndex: 8700 entries, 0 to 8699\n",
      "Data columns (total 7 columns):\n",
      " #   Column              Non-Null Count  Dtype \n",
      "---  ------              --------------  ----- \n",
      " 0   tweet_id            8700 non-null   int64 \n",
      " 1   source              8700 non-null   object\n",
      " 2   expanded_urls       8468 non-null   object\n",
      " 3   rating_numerator    8700 non-null   int64 \n",
      " 4   rating_denominator  8700 non-null   int64 \n",
      " 5   name                8700 non-null   object\n",
      " 6   dog_stages          8700 non-null   object\n",
      "dtypes: int64(3), object(4)\n",
      "memory usage: 475.9+ KB\n"
     ]
    }
   ],
   "source": [
    "dog_archive_clean.info()"
   ]
  },
  {
   "cell_type": "markdown",
   "metadata": {},
   "source": [
    "### Define\n",
    "\n",
    "Replace the **None**s to **Nan**s in the new `dog_stages` column that has just been created above\n",
    "\n",
    "### Code"
   ]
  },
  {
   "cell_type": "code",
   "execution_count": 78,
   "metadata": {},
   "outputs": [],
   "source": [
    "# Replace none with nans\n",
    "dog_archive_clean.dog_stages = dog_archive_clean['dog_stages'].replace('None', np.nan)\n",
    "\n",
    "# change the dog stages to categorical types\n",
    "dog_archive_clean['dog_stages'] = dog_archive_clean.dog_stages.astype('category')"
   ]
  },
  {
   "cell_type": "markdown",
   "metadata": {},
   "source": [
    "### Test"
   ]
  },
  {
   "cell_type": "code",
   "execution_count": 79,
   "metadata": {},
   "outputs": [
    {
     "data": {
      "text/plain": [
       "pupper     234\n",
       "doggo       87\n",
       "puppo       25\n",
       "floofer     10\n",
       "Name: dog_stages, dtype: int64"
      ]
     },
     "execution_count": 79,
     "metadata": {},
     "output_type": "execute_result"
    }
   ],
   "source": [
    "dog_archive_clean.dog_stages.value_counts()"
   ]
  },
  {
   "cell_type": "markdown",
   "metadata": {},
   "source": [
    "### Define:\n",
    "\n",
    "Replace the underscore in `p1`, `p2`, `p3` with a space and capitalize them\n",
    "\n",
    "### Code"
   ]
  },
  {
   "cell_type": "code",
   "execution_count": 80,
   "metadata": {},
   "outputs": [],
   "source": [
    "# replace underscore with space\n",
    "image_df_clean['p1'] = image_df_clean.p1.str.replace('_', ' ')\n",
    "image_df_clean['p2'] = image_df_clean.p2.str.replace('_', ' ')\n",
    "image_df_clean['p3'] = image_df_clean.p3.str.replace('_', ' ')\n",
    "\n",
    "# capitalize p1, p2, p3\n",
    "image_df_clean['p1'] = image_df_clean.p1.str.title()\n",
    "image_df_clean['p2'] = image_df_clean.p2.str.title()\n",
    "image_df_clean['p3'] = image_df_clean.p3.str.title()"
   ]
  },
  {
   "cell_type": "markdown",
   "metadata": {},
   "source": [
    "### Test"
   ]
  },
  {
   "cell_type": "code",
   "execution_count": 81,
   "metadata": {},
   "outputs": [
    {
     "data": {
      "text/html": [
       "<div>\n",
       "<style scoped>\n",
       "    .dataframe tbody tr th:only-of-type {\n",
       "        vertical-align: middle;\n",
       "    }\n",
       "\n",
       "    .dataframe tbody tr th {\n",
       "        vertical-align: top;\n",
       "    }\n",
       "\n",
       "    .dataframe thead th {\n",
       "        text-align: right;\n",
       "    }\n",
       "</style>\n",
       "<table border=\"1\" class=\"dataframe\">\n",
       "  <thead>\n",
       "    <tr style=\"text-align: right;\">\n",
       "      <th></th>\n",
       "      <th>p1</th>\n",
       "      <th>p2</th>\n",
       "      <th>p3</th>\n",
       "    </tr>\n",
       "  </thead>\n",
       "  <tbody>\n",
       "    <tr>\n",
       "      <th>0</th>\n",
       "      <td>Welsh Springer Spaniel</td>\n",
       "      <td>Collie</td>\n",
       "      <td>Shetland Sheepdog</td>\n",
       "    </tr>\n",
       "    <tr>\n",
       "      <th>1</th>\n",
       "      <td>Redbone</td>\n",
       "      <td>Miniature Pinscher</td>\n",
       "      <td>Rhodesian Ridgeback</td>\n",
       "    </tr>\n",
       "    <tr>\n",
       "      <th>2</th>\n",
       "      <td>German Shepherd</td>\n",
       "      <td>Malinois</td>\n",
       "      <td>Bloodhound</td>\n",
       "    </tr>\n",
       "    <tr>\n",
       "      <th>3</th>\n",
       "      <td>Rhodesian Ridgeback</td>\n",
       "      <td>Redbone</td>\n",
       "      <td>Miniature Pinscher</td>\n",
       "    </tr>\n",
       "    <tr>\n",
       "      <th>4</th>\n",
       "      <td>Miniature Pinscher</td>\n",
       "      <td>Rottweiler</td>\n",
       "      <td>Doberman</td>\n",
       "    </tr>\n",
       "    <tr>\n",
       "      <th>...</th>\n",
       "      <td>...</td>\n",
       "      <td>...</td>\n",
       "      <td>...</td>\n",
       "    </tr>\n",
       "    <tr>\n",
       "      <th>2070</th>\n",
       "      <td>Basset</td>\n",
       "      <td>English Springer</td>\n",
       "      <td>German Short-Haired Pointer</td>\n",
       "    </tr>\n",
       "    <tr>\n",
       "      <th>2071</th>\n",
       "      <td>Paper Towel</td>\n",
       "      <td>Labrador Retriever</td>\n",
       "      <td>Spatula</td>\n",
       "    </tr>\n",
       "    <tr>\n",
       "      <th>2072</th>\n",
       "      <td>Chihuahua</td>\n",
       "      <td>Malamute</td>\n",
       "      <td>Kelpie</td>\n",
       "    </tr>\n",
       "    <tr>\n",
       "      <th>2073</th>\n",
       "      <td>Chihuahua</td>\n",
       "      <td>Pekinese</td>\n",
       "      <td>Papillon</td>\n",
       "    </tr>\n",
       "    <tr>\n",
       "      <th>2074</th>\n",
       "      <td>Orange</td>\n",
       "      <td>Bagel</td>\n",
       "      <td>Banana</td>\n",
       "    </tr>\n",
       "  </tbody>\n",
       "</table>\n",
       "<p>2075 rows × 3 columns</p>\n",
       "</div>"
      ],
      "text/plain": [
       "                          p1                  p2                           p3\n",
       "0     Welsh Springer Spaniel              Collie            Shetland Sheepdog\n",
       "1                    Redbone  Miniature Pinscher          Rhodesian Ridgeback\n",
       "2            German Shepherd            Malinois                   Bloodhound\n",
       "3        Rhodesian Ridgeback             Redbone           Miniature Pinscher\n",
       "4         Miniature Pinscher          Rottweiler                     Doberman\n",
       "...                      ...                 ...                          ...\n",
       "2070                  Basset    English Springer  German Short-Haired Pointer\n",
       "2071             Paper Towel  Labrador Retriever                      Spatula\n",
       "2072               Chihuahua            Malamute                       Kelpie\n",
       "2073               Chihuahua            Pekinese                     Papillon\n",
       "2074                  Orange               Bagel                       Banana\n",
       "\n",
       "[2075 rows x 3 columns]"
      ]
     },
     "execution_count": 81,
     "metadata": {},
     "output_type": "execute_result"
    }
   ],
   "source": [
    "image_df_clean[['p1', 'p2', 'p3']]"
   ]
  },
  {
   "cell_type": "markdown",
   "metadata": {},
   "source": [
    "### Define: \n",
    "\n",
    "Change the type of the `tweet_id` to string\n",
    "\n",
    "### Code"
   ]
  },
  {
   "cell_type": "code",
   "execution_count": 82,
   "metadata": {},
   "outputs": [],
   "source": [
    "# Make the tweet_id string (object)\n",
    "dog_archive_clean.tweet_id = dog_archive_clean['tweet_id'].astype(str)\n",
    "image_df_clean.tweet_id = image_df_clean['tweet_id'].astype(str)\n",
    "twitter_api_clean.tweet_id = twitter_api_clean['tweet_id'].astype(str)"
   ]
  },
  {
   "cell_type": "markdown",
   "metadata": {},
   "source": [
    "### Test"
   ]
  },
  {
   "cell_type": "code",
   "execution_count": 83,
   "metadata": {},
   "outputs": [
    {
     "data": {
      "text/plain": [
       "dtype('O')"
      ]
     },
     "execution_count": 83,
     "metadata": {},
     "output_type": "execute_result"
    }
   ],
   "source": [
    "dog_archive_clean.tweet_id.dtype"
   ]
  },
  {
   "cell_type": "code",
   "execution_count": 84,
   "metadata": {},
   "outputs": [
    {
     "data": {
      "text/plain": [
       "dtype('O')"
      ]
     },
     "execution_count": 84,
     "metadata": {},
     "output_type": "execute_result"
    }
   ],
   "source": [
    "image_df_clean.tweet_id.dtype"
   ]
  },
  {
   "cell_type": "code",
   "execution_count": 85,
   "metadata": {},
   "outputs": [
    {
     "data": {
      "text/plain": [
       "dtype('O')"
      ]
     },
     "execution_count": 85,
     "metadata": {},
     "output_type": "execute_result"
    }
   ],
   "source": [
    "twitter_api_clean.tweet_id.dtype"
   ]
  },
  {
   "cell_type": "markdown",
   "metadata": {},
   "source": [
    "### Define:\n",
    "\n",
    "Show the type of device used to tweet\n",
    "\n",
    "### Code"
   ]
  },
  {
   "cell_type": "code",
   "execution_count": 86,
   "metadata": {},
   "outputs": [
    {
     "data": {
      "text/plain": [
       "<a href=\"http://twitter.com/download/iphone\" rel=\"nofollow\">Twitter for iPhone</a>     8168\n",
       "<a href=\"http://vine.co\" rel=\"nofollow\">Vine - Make a Scene</a>                         364\n",
       "<a href=\"http://twitter.com\" rel=\"nofollow\">Twitter Web Client</a>                      124\n",
       "<a href=\"https://about.twitter.com/products/tweetdeck\" rel=\"nofollow\">TweetDeck</a>      44\n",
       "Name: source, dtype: int64"
      ]
     },
     "execution_count": 86,
     "metadata": {},
     "output_type": "execute_result"
    }
   ],
   "source": [
    "# show the type device\n",
    "\n",
    "dog_archive_clean['source'].value_counts()"
   ]
  },
  {
   "cell_type": "code",
   "execution_count": 87,
   "metadata": {},
   "outputs": [],
   "source": [
    "# use regular expreesion to extract the actual device type\n",
    "dog_archive_clean.source = dog_archive_clean.source.str.extract('(<a href=\"https?)(:\\/\\/)(.+)(\">)(.+)(<\\/a)', expand=True)[4]"
   ]
  },
  {
   "cell_type": "markdown",
   "metadata": {},
   "source": [
    "### Test"
   ]
  },
  {
   "cell_type": "code",
   "execution_count": 88,
   "metadata": {},
   "outputs": [
    {
     "data": {
      "text/plain": [
       "Twitter for iPhone     8168\n",
       "Vine - Make a Scene     364\n",
       "Twitter Web Client      124\n",
       "TweetDeck                44\n",
       "Name: source, dtype: int64"
      ]
     },
     "execution_count": 88,
     "metadata": {},
     "output_type": "execute_result"
    }
   ],
   "source": [
    "dog_archive_clean.source.value_counts()"
   ]
  },
  {
   "cell_type": "markdown",
   "metadata": {},
   "source": [
    "### Define:\n",
    "\n",
    "Change the source type to category\n",
    "\n",
    "### Code"
   ]
  },
  {
   "cell_type": "code",
   "execution_count": 89,
   "metadata": {},
   "outputs": [],
   "source": [
    "dog_archive_clean.source = dog_archive_clean['source'].astype('category')"
   ]
  },
  {
   "cell_type": "markdown",
   "metadata": {},
   "source": [
    "### Test"
   ]
  },
  {
   "cell_type": "code",
   "execution_count": 90,
   "metadata": {},
   "outputs": [
    {
     "data": {
      "text/plain": [
       "CategoricalDtype(categories=['TweetDeck', 'Twitter Web Client', 'Twitter for iPhone',\n",
       "                  'Vine - Make a Scene'],\n",
       ", ordered=False)"
      ]
     },
     "execution_count": 90,
     "metadata": {},
     "output_type": "execute_result"
    }
   ],
   "source": [
    "dog_archive_clean['source'].dtype"
   ]
  },
  {
   "cell_type": "markdown",
   "metadata": {},
   "source": [
    "### Define:\n",
    "\n",
    "Replace names of dog that are not proper from the `name` column to np.nan\n",
    "\n",
    "### Code"
   ]
  },
  {
   "cell_type": "code",
   "execution_count": 91,
   "metadata": {},
   "outputs": [
    {
     "name": "stdout",
     "output_type": "stream",
     "text": [
      "['such', 'a', 'quite', 'not', 'one', 'incredibly', 'very', 'my', 'his', 'an', 'actually', 'just', 'getting', 'mad', 'this', 'unacceptable', 'all', 'old', 'infuriating', 'the', 'by', 'officially', 'life', 'light', 'space']\n"
     ]
    }
   ],
   "source": [
    "# names that begins with lowercase letter\n",
    "cased_lower = []\n",
    "for row in dog_archive_clean['name']:\n",
    "    if row[0].islower() and row not in cased_lower:\n",
    "        cased_lower.append(row)\n",
    "print(cased_lower)"
   ]
  },
  {
   "cell_type": "code",
   "execution_count": 92,
   "metadata": {},
   "outputs": [],
   "source": [
    "# replace names starting with a lowercase letter with NaNs\n",
    "dog_archive_clean['name'] = dog_archive_clean['name'].replace(cased_lower, np.nan)"
   ]
  },
  {
   "cell_type": "markdown",
   "metadata": {},
   "source": [
    "### Test"
   ]
  },
  {
   "cell_type": "code",
   "execution_count": 93,
   "metadata": {},
   "outputs": [
    {
     "data": {
      "text/plain": [
       "False"
      ]
     },
     "execution_count": 93,
     "metadata": {},
     "output_type": "execute_result"
    }
   ],
   "source": [
    "cased_lower[18] in dog_archive_clean.name"
   ]
  },
  {
   "cell_type": "markdown",
   "metadata": {},
   "source": [
    "### Define:\n",
    "\n",
    "Replace the **None** in `name` with **Nan**\n",
    "\n",
    "### Code"
   ]
  },
  {
   "cell_type": "code",
   "execution_count": 94,
   "metadata": {},
   "outputs": [],
   "source": [
    "dog_archive_clean['name'].replace('None', np.nan, inplace = True)"
   ]
  },
  {
   "cell_type": "markdown",
   "metadata": {},
   "source": [
    "### Test"
   ]
  },
  {
   "cell_type": "code",
   "execution_count": 95,
   "metadata": {},
   "outputs": [
    {
     "name": "stdout",
     "output_type": "stream",
     "text": [
      "['Phineas', 'Tilly', 'Archie', 'Darla', 'Franklin', nan, 'Jax', nan, 'Zoey', 'Cassie', 'Koda', 'Bruno', nan, 'Ted', 'Stuart', 'Oliver', 'Jim', 'Zeke', 'Ralphus', 'Gerald', 'Jeffrey', nan, 'Canela', nan, nan, 'Maya', 'Mingus', 'Derek', 'Roscoe', nan, 'Waffles', 'Jimbo', 'Maisey', nan, nan, 'Earl', 'Lola', 'Kevin', nan, nan, 'Yogi', 'Noah', 'Bella', 'Grizzwald', nan, 'Rusty', 'Gus', 'Stanley', 'Alfy', 'Koko', 'Rey', 'Gary', nan, nan, 'Elliot', 'Louis', nan, 'Bella', 'Jesse', nan, 'Romeo', nan, 'Bailey', 'Duddles', 'Jack', 'Steven', 'Beau', 'Snoopy', nan, 'Shadow', 'Emmy', 'Aja', 'Penny', 'Dante', 'Nelly', 'Ginger', nan, 'Benedict', 'Venti', 'Goose', 'Nugget', nan, nan, 'Cash', 'Jed', nan, 'Sebastian', nan, 'Sierra', nan, nan, 'Monkey', nan, 'Harry', 'Kody', 'Lassie', 'Rover', 'Napolean', nan, 'Boomer', nan, nan, 'Cody', 'Zoey', 'Rumble', 'Clifford', 'Dewey', 'Stanley', 'Scout', 'Gizmo', 'Walter', nan, 'Cooper', nan, 'Harold', 'Shikha', nan, nan, 'Lili', 'Jamesy', 'Coco', 'Boomer', 'Sammy', 'Nelly', nan, 'Meatball', 'Paisley', 'Albus', 'Neptune', 'Belle', nan, nan, 'Quinn', 'Zooey', 'Dave', 'Jersey', nan, 'Hobbes', nan, 'Burt', 'Lorenzo', 'Carl', 'Jordy', nan, 'Milky', 'Trooper', nan, nan, nan, nan, 'Sophie', 'Wyatt', 'Rosie', 'Thor', nan, 'Oscar', nan, 'Zeke', 'Callie', nan, nan, 'Cermet', nan, nan, nan, nan, nan, nan, 'Marlee', 'Arya', 'Einstein', nan, nan, 'Alice', nan, 'Rumpole', 'Benny', 'Aspen', 'Jarod', 'Wiggles', 'General', 'Sailor', nan, 'Iggy', 'Snoop', 'Kyle', 'Leo', nan, 'Riley', 'Boomer', nan, 'Noosh', nan, 'Kevin', nan, 'Odin', nan, 'Jerry', 'Georgie', 'Rontu', nan, 'Cannon', 'Furzey', 'Daisy', nan, 'Tuck', 'Barney', nan, 'Vixen', nan, 'Jarvis', nan, nan, 'Mimosa', 'Pickles', nan, 'Brady', 'Luna', 'Charlie', 'Margo', nan, 'Sadie', 'Hank', 'Tycho', 'Charlie', 'Indie', 'Winnie', 'George', 'Bentley', 'Penny', nan, nan, 'Max', 'Dawn', nan, nan, 'Maddie', nan, 'Monty', 'Sojourner', 'Winston', 'Odie', nan, 'Arlo', 'Walter', 'Stanley', nan, nan, 'Daisy', nan, 'Waffles', 'Vincent', 'Lucy', 'Clark', 'Mookie', 'Meera', 'Oliver', 'Ava', 'Lucy', nan, 'Eli', 'Ash', 'Lola', nan, nan, nan, 'Tucker', 'Tobi', nan, 'Chester', 'Wilson', 'Sunshine', nan, 'Lipton', 'Bentley', 'Charlie', 'Bronte', 'Poppy', 'Gidget', 'Rhino', 'Willow', nan, nan, 'Orion', 'Eevee', 'Charlie', 'Smiley', nan, 'Miguel', 'Emanuel', nan, 'Kuyu', 'Daisy', nan, 'Dutch', 'Pete', nan, 'Scooter', 'Tucker', 'Reggie', 'Lilly', 'Samson', 'Mia', 'Leo', nan, 'Astrid', 'Malcolm', 'Dexter', 'Alfie', 'Fiona', nan, 'Mutt', 'Bear', 'Doobert', 'Beebop', 'Alexander', nan, 'Sailer', 'Brutus', 'Kona', 'Boots', 'Tucker', 'Ralphie', 'Charlie', 'Loki', 'Cupid', nan, 'Pawnd', 'Pilot', nan, nan, 'Ike', 'Mo', 'Toby', nan, 'Sweet', 'Pablo', 'Scooter', 'Wilson', nan, 'Nala', nan, 'Cash', 'Winston', 'Crawford', nan, 'Wyatt', 'Albus', nan, 'Hobbes', nan, 'Paisley', 'Gabe', nan, 'Jimison', 'Duchess', 'Harlso', 'Sundance', nan, 'Luca', nan, 'Flash', 'Sunny', nan, nan, nan, 'Oliver', nan, 'Howie', 'Jazzy', 'Anna', nan, 'Finn', 'Sunny', 'Bo', 'Wafer', 'Bear', 'Tom', 'Florence', 'Autumn', nan, 'Buddy', 'Dido', 'Eugene', 'Ken', 'Strudel', 'Tebow', nan, 'Chloe', 'Timber', 'Binky', 'Moose', 'Dudley', 'Comet', 'Jack', nan, 'Akumi', 'Titan', nan, 'Cooper', 'Olivia', 'Alf', 'Oshie', 'Chubbs', 'Gary', 'Sky', 'Atlas', nan, nan, 'Eleanor', 'Layla', nan, nan, nan, 'Toby', 'Rocky', 'Baron', 'Tyr', 'Bauer', 'Swagger', 'Brandi', nan, 'Mary', 'Moe', 'Ted', 'Halo', nan, 'Augie', 'Craig', 'Sam', 'Hunter', 'Pavlov', 'Phil', 'Gus', nan, nan, 'Kyro', 'Wallace', 'Ito', nan, 'Koda', 'Seamus', nan, 'Cooper', 'Ollie', 'Stephan', 'Lennon', nan, nan, 'Waffles', nan, 'Major', 'Duke', 'Zeke', 'Sansa', 'Shooter', 'Django', nan, 'Bo', 'Diogi', nan, 'Sonny', 'Winston', 'Marley', 'Bailey', 'Winnie', 'Severus', nan, 'Loki', 'Ronnie', nan, 'Wallace', nan, 'Milo', 'Bones', nan, 'Mauve', 'Chef', nan, 'Doc', 'Peaches', nan, 'Sobe', 'Longfellow', 'Jeffrey', 'Mister', 'Iroh', 'Shadow', 'Cooper', nan, 'Cassie', 'Pancake', nan, 'Tyr', 'Romeo', nan, 'Snicku', 'Ruby', nan, nan, 'Yogi', 'Daisy', nan, 'Brody', 'Bailey', 'Mack', 'Nimbus', 'Laika', 'Maximus', 'Clark', 'Dobby', 'Fiona', 'Moreton', 'Dave', nan, 'Tucker', 'Juno', 'Maude', 'Lily', 'Newt', 'Benji', 'Nida', nan, 'Robin', nan, 'Bailey', 'Monster', 'BeBe', 'Remus', nan, nan, 'Levi', 'Mabel', 'Misty', 'Betty', 'Mosby', 'Duke', 'Maggie', 'Bruce', 'Happy', 'Ralphy', 'Eli', 'Brownie', 'Rizzy', nan, 'Stella', 'Bo', 'Lucy', 'Butter', 'Dexter', nan, 'Leo', nan, 'Frank', 'Tonks', 'Moose', 'Lincoln', 'Rory', 'Logan', nan, 'Dale', 'Rizzo', 'Arnie', 'Mattie', nan, 'Lucy', 'Rusty', 'Pinot', 'Dallas', nan, 'Doc', 'Hero', 'Rusty', 'Frankie', 'Stormy', 'Reginald', 'Balto', 'Riley', 'Mairi', 'Loomis', 'Finn', 'Godi', 'Dave', 'Earl', 'Cali', 'Deacon', 'Penny', 'Timmy', 'Sampson', 'Chipson', nan, 'Combo', nan, nan, 'Oakley', nan, nan, 'Dash', 'Koda', 'Hercules', nan, 'Bear', nan, nan, 'Scout', nan, 'Reggie', nan, 'Jay', nan, 'Mya', 'Strider', 'Penny', nan, 'Nala', 'Stanley', nan, 'Sophie', 'Wesley', nan, 'Derek', 'Jeffrey', 'Solomon', 'Huck', nan, 'O', 'Sampson', nan, 'Blue', 'Anakin', nan, 'Finley', 'Maximus', 'Tucker', 'Finley', 'Sprinkles', nan, 'Winnie', 'Heinrich', 'Loki', 'Shakespeare', 'Chelsea', 'Bungalo', 'Chip', 'Grey', nan, 'Roosevelt', nan, 'Willem', nan, 'Jack', 'Finn', 'Penny', nan, 'Davey', 'Dakota', 'Fizz', 'Dixie', 'Charlie', nan, 'Winston', 'Sebastian', nan, 'Al', 'Jackson', 'Carbon', 'Klein', 'Titan', 'DonDon', 'Kirby', 'Jesse', 'Lou', 'Oakley', 'Chevy', 'Gerald', 'Tito', 'Philbert', 'Louie', nan, 'Rupert', 'Rufus', nan, 'Brudge', 'Shadoe', 'Oscar', 'Juno', 'Angel', 'Brat', 'Tove', nan, 'Louie', 'Gromit', 'Aubie', 'Kota', nan, 'Alfie', 'Clark', 'Belle', 'Leela', 'Glenn', 'Buddy', 'Scout', nan, 'Shelby', nan, nan, 'Sephie', 'Bruce', 'Bonaparte', 'Albert', 'Bo', 'Wishes', 'Rose', 'Theo', 'Atlas', nan, 'Rocco', 'Fido', 'Sadie', nan, nan, 'Kirby', 'Maggie', 'Emma', 'Oakley', nan, 'Luna', 'Toby', 'Spencer', 'Lilli', nan, 'Boston', 'Brandonald', nan, 'Odie', 'Corey', nan, nan, 'Leonard', 'Beckham', 'Cooper', nan, nan, nan, 'Devón', 'Oliver', 'Jax', 'Gert', nan, nan, nan, nan, nan, nan, 'Watson', 'Winnie', 'Keith', 'Milo', 'Dex', nan, 'Charlie', nan, nan, 'Scout', 'Hank', 'Ace', nan, 'Tayzie', 'Carl', 'Grizzie', nan, nan, nan, nan, nan, 'Brody', 'Lola', 'Ruby', 'Tucker', 'Fred', 'Toby', nan, 'Max', nan, 'Gilbert', nan, 'Cooper', 'Milo', 'Meyer', 'Malcolm', 'Arnie', 'Zoe', nan, nan, 'Stewie', 'Calvin', 'Lilah', 'Spanky', nan, 'Jameson', 'Beau', 'Jax', 'Piper', 'Bo', 'Atticus', 'Lucy', 'Finn', nan, 'George', 'Blu', 'Boomer', 'Winston', 'Dietrich', nan, 'Divine', nan, 'Tripp', nan, nan, 'Cora', nan, nan, 'Duke', nan, nan, nan, nan, nan, 'Huxley', nan, nan, 'Keurig', 'Bookstore', nan, nan, nan, 'Linus', 'Atticus', 'Clark', nan, nan, nan, nan, nan, 'Maddie', 'Abby', nan, 'Shiloh', nan, 'Gustav', 'Arlen', 'Gus', 'Percy', 'Lenox', nan, 'Sugar', 'Jeffrey', 'Oliver', 'Abby', 'Indie', 'Harvey', 'Blanket', nan, nan, 'Geno', nan, 'Stark', 'Harold', 'Bentley', 'Beya', 'Kilo', nan, 'Kayla', nan, 'Maxaroni', nan, 'Bell', 'Phil', 'Doug', 'Edmund', nan, 'Aqua', 'Tucker', 'Theodore', 'Ted', nan, 'Leo', nan, 'Chip', 'Baloo', nan, nan, 'Chase', nan, 'Nollie', 'Rorie', 'Simba', nan, 'Benji', nan, 'Kyle', nan, nan, 'Charles', nan, 'Bayley', nan, nan, 'Axel', 'Storkson', 'Remy', 'Bella', nan, nan, 'Lily', nan, 'Chadrick', nan, 'Rory', nan, nan, 'Maxaroni', nan, 'Dakota', nan, 'Kellogg', 'Buckley', 'Jax', nan, 'Livvie', nan, 'Terry', 'Moose', nan, 'Hermione', nan, 'Ralpher', 'Aldrick', nan, 'Kyle', 'Larry', 'Solomon', nan, nan, 'Rooney', 'Crystal', 'Ziva', 'Charles', 'Ollie', nan, 'Stefan', 'Pupcasso', nan, 'Puff', nan, 'Flurpson', 'Coleman', 'Wallace', 'Enchilada', 'Raymond', nan, 'Rueben', 'Cilantro', nan, nan, nan, nan, 'Karll', nan, 'Sprout', 'Blitz', 'Bloop', nan, 'Colby', 'Lillie', 'Lola', nan, 'Fred', nan, 'Ashleigh', 'Kreggory', 'Sarge', 'Luther', 'Sugar', 'Reginald', 'Ivar', 'Jangle', nan, 'Schnitzel', 'Panda', 'Oliver', 'Archie', 'Berkeley', nan, 'Ralphé', 'Derek', 'Charleson', 'Neptune', nan, 'Clyde', 'Harnold', 'Sid', 'Lucy', 'Pippa', 'Sadie', 'Otis', nan, 'Carper', nan, 'Bowie', nan, 'Alexanderson', 'Suki', 'Barclay', nan, nan, 'Skittle', 'Ebby', 'Flávio', 'Smokey', 'Link', 'Jennifur', nan, 'Ozzy', 'Bluebert', 'Stephanus', nan, 'Bubbles', nan, nan, 'Bentley', 'Toby', 'Zeus', 'Bertson', 'Oscar', 'Nico', 'Michelangelope', 'Siba', 'Calbert', nan, 'Curtis', 'Benedict', nan, 'Blitz', 'Travis', 'Thumas', nan, nan, 'Kanu', 'Doug', nan, 'Piper', nan, 'Lance', 'Opie', 'Stubert', nan, 'Sunny', 'Kane', nan, nan, 'Steven', 'Olive', 'Chester', 'Winston', 'Roosevelt', nan, nan, 'Gary', nan, nan, 'Chuckles', 'Milo', 'Staniel', 'Sora', nan, nan, 'Beemo', 'Oshie', 'Gunner', nan, nan, 'Lacy', 'Tater', nan, 'Watson', nan, nan, 'Olaf', 'Cecil', 'Vince', 'Karma', 'Billy', 'Walker', 'Penny', nan, 'Sammy', 'Rodney', 'Klevin', 'Lucy', nan, 'Malikai', 'Mister', 'Coco', 'Smokey', 'Bear', 'Bobble', nan, 'Oliver', 'River', 'Jebberson', nan, 'Cooper', 'Remington', nan, 'Farfle', nan, 'Rufus', 'Sadie', nan, nan, 'Jiminus', nan, 'Harper', 'Keurig', nan, 'Clarkus', nan, 'Finnegus', 'Cassie', 'Cupcake', 'Kathmandu', 'Tucker', 'Ellie', nan, 'Elliot', 'Katie', 'Shadow', nan, 'Oliver', nan, 'Koda', nan, nan, 'Kara', nan, 'Dexter', 'Layla', 'Adele', 'Lucy', 'Max', nan, nan, 'Zara', 'Cooper', 'Ambrose', 'Jimothy', 'Bode', 'Terrenth', 'Reese', nan, nan, nan, 'Chesterson', nan, nan, nan, 'Lucia', 'Bisquick', 'Ralphson', nan, 'Stanley', nan, nan, nan, 'Bella', 'Scooter', nan, nan, 'Charlie', 'Socks', nan, nan, nan, 'Chip', 'Luna', 'Lucy', 'Rambo', 'Sansa', nan, 'Rudy', nan, nan, nan, 'Fiji', 'Rilo', 'Bilbo', nan, 'Coopson', 'Yoda', 'Millie', nan, 'Chet', nan, 'Crouton', 'Daniel', nan, 'Vincent', 'Kaia', 'Murphy', 'Dotsy', nan, nan, 'Eazy', 'Coops', 'Thumas', 'Cooper', 'Nala', nan, 'Fillup', 'Dave', 'Archie', nan, nan, 'Miley', 'Calbert', nan, 'Charl', 'Reagan', nan, 'Yukon', nan, 'Oliver', 'CeCe', nan, 'Cuddles', 'Rusty', nan, 'Claude', 'Jessiga', 'Maximus', 'Franklin', 'Beau', 'Lily', nan, 'Doug', 'Cassie', 'Carter', nan, nan, nan, 'Ole', 'Pherb', 'Blipson', nan, 'Bentley', nan, 'Charlie', 'Oakley', 'Rosie', nan, nan, 'Misty', 'Reptar', 'Klevin', 'Trevith', nan, nan, nan, 'Berb', nan, nan, 'Wyatt', nan, 'Calvin', nan, 'Bob', 'Colin', nan, 'Lorenzo', nan, 'Brian', nan, 'Archie', 'Phil', nan, 'Oliviér', nan, 'Grady', nan, 'Lola', 'Chester', nan, 'Kobe', nan, nan, 'Freddery', nan, nan, 'Phil', nan, 'Lincoln', 'Sadie', 'Oscar', nan, 'Bodie', 'Dunkin', nan, 'Milo', nan, 'Wally', nan, 'Tupawc', nan, nan, 'Chester', 'Amber', 'Cody', nan, 'Herschel', nan, 'Edgar', nan, 'Teddy', 'Kingsley', 'Brockly', nan, nan, 'Richie', nan, 'Leo', 'Bailey', nan, 'Molly', nan, nan, nan, nan, nan, 'Buddy', 'Peaches', 'Vinscent', 'Cedrick', 'Hazel', nan, 'Lolo', 'Eriq', 'Phred', nan, 'Oddie', 'Maxwell', 'Geoff', nan, nan, 'Covach', nan, nan, 'Gizmo', 'Durg', 'Fynn', 'Luca', 'Ricky', 'Lucy', nan, nan, 'Carl', nan, 'Chipson', 'Herald', 'Lucky', 'Ferg', nan, 'Trip', nan, 'Clarence', nan, 'Hamrick', 'Brad', nan, 'Pubert', 'Frönq', nan, 'Louis', 'Derby', 'Lizzie', nan, 'Kilo', nan, 'Louis', nan, 'Trooper', 'Ember', 'Blakely', 'Opal', 'Marq', nan, 'Curtis', 'Kramer', 'Barry', 'Tyrone', nan, 'Gordon', 'Samson', 'Baxter', nan, nan, 'Jackson', nan, nan, nan, 'Mona', 'Olivia', 'Horace', nan, 'Crimson', 'Birf', nan, nan, 'Flávio', nan, nan, nan, 'Hammond', 'Lorelei', nan, 'Olive', nan, 'Marty', 'Brooks', 'Otis', nan, nan, nan, 'Rocky', nan, 'Petrick', 'Hubertson', 'Alfie', 'Gerbald', nan, 'Jerry', 'Oreo', 'Bruiser', nan, 'Perry', nan, nan, 'Theodore', nan, nan, 'Bobby', nan, 'Pippa', 'Jeph', 'Obi', nan, nan, nan, 'Tino', nan, 'Kulet', 'Sweets', nan, 'Lupe', 'Sadie', 'Tiger', 'Jiminy', nan, nan, 'Buddy', 'Sebastian', nan, 'Griffin', 'Banjo', nan, nan, 'Jack', nan, 'Brandy', 'Larry', nan, nan, 'Lulu', 'Darrel', nan, nan, 'Taco', nan, 'Joey', nan, nan, 'Patrick', 'Kreg', 'Brody', 'Todo', 'Jax', 'Samson', nan, 'Tess', nan, 'Ulysses', nan, 'Jimothy', 'Charlie', 'Bo', nan, 'Toffee', nan, 'Apollo', 'Carly', nan, 'Asher', 'Glacier', 'Chuck', nan, 'Sarge', 'Panda', 'Champ', nan, 'Aspen', nan, 'Ozzie', 'Alice', 'Sadie', 'Griswold', 'Cheesy', 'Ellie', nan, nan, 'Moofasa', 'Brody', 'Penny', 'Percy', nan, 'Hector', nan, 'CeCe', 'Toby', nan, nan, 'Goliath', 'Kawhi', 'Reggie', 'Ozzy', nan, nan, 'Emmie', 'Sammy', 'Penelope', 'Rocco', nan, 'Bruce', 'Willie', nan, 'Rinna', nan, 'Hunter', 'Mike', nan, nan, 'William', 'Dwight', 'Evy', 'Hurley', nan, 'Rubio', nan, 'Louis', nan, 'Chompsky', nan, 'Rascal', nan, 'Lola', nan, 'Linda', 'Tug', 'Mia', 'Wilson', 'Dash', 'Tango', nan, nan, 'Grizz', nan, 'Crystal', 'Jerome', nan, nan, 'Bella', 'Crumpet', nan, 'Rosie', nan, 'Jessifer', nan, 'Reese', 'Izzy', nan, nan, nan, 'Ralph', 'Sadie', nan, nan, nan, nan, 'Sandy', nan, nan, nan, 'Axel', nan, nan, 'Humphrey', 'Derek', 'Tassy', 'Juckson', nan, 'Chuq', nan, 'Cooper', nan, 'Tyrus', 'Karl', nan, nan, nan, nan, nan, 'Ash', nan, nan, 'Penny', nan, nan, nan, nan, 'Godzilla', nan, nan, 'Bubbles', 'Vinnie', nan, nan, 'Griffin', nan, nan, 'Duke', nan, 'Winston', 'Kenneth', 'Herm', nan, 'Bert', nan, 'Striker', nan, nan, nan, 'Donny', nan, nan, nan, nan, nan, 'Pepper', nan, nan, 'Bernie', 'Buddah', nan, 'Lenny', nan, nan, nan, 'Ellie', 'Sammy', nan, nan, 'Reggie', nan, nan, nan, nan, 'Daisy', nan, nan, nan, 'Arnold', nan, nan, nan, 'Coops', nan, 'Steven', 'Zuzu', 'Oliver', nan, nan, 'Moe', 'Mollie', 'Laela', nan, nan, 'Tedders', nan, nan, 'Maggie', nan, 'Superpup', nan, nan, nan, nan, 'Sophie', nan, nan, 'Rufio', 'Patrick', 'Jeb', 'Rodman', nan, nan, nan, nan, nan, 'Louis', nan, 'Bailey', 'Ava', 'Jonah', 'Lenny', 'Gary', 'Chesney', nan, 'Lennon', nan, 'Kenny', nan, 'Bob', 'Henry', 'Gus', 'Bobbay', nan, 'Mitch', 'Earl', 'Stanley', 'Lucy', nan, nan, 'Kaiya', 'Daisy', nan, 'Acro', 'Aiden', nan, nan, 'Obie', nan, nan, nan, nan, nan, nan, 'Riley', 'Raymond', 'Dot', nan, 'Pickles', nan, 'Larry', 'George', 'Shnuggles', 'Kendall', 'Albert', nan, 'Jeffri', 'Sandy', nan, nan, nan, 'Steve', 'Koda', nan, 'Bella', 'Gerald', nan, 'Django', 'Frankie', nan, 'Eve', 'Mac', nan, 'Dexter', 'Fletcher', 'Kenzie', 'Pumpkin', 'Schnozz', nan, nan, 'Chuckles', 'Chet', 'Gustaf', 'Terry', 'Jimison', 'Cheryl', nan, 'Oscar', 'Ed', 'Jerry', 'Leonidas', nan, 'Norman', 'Caryl', nan, 'Scott', 'Taz', nan, 'Darby', nan, 'Jackie', nan, 'Jazz', 'Buddy', 'Franq', 'Pippin', nan, 'Kreg', nan, 'Rolf', nan, 'Snickers', 'Ridley', nan, 'Cal', 'Opal', 'Bradley', 'Bubba', nan, nan, 'Tuco', 'Patch', 'Gizmo', 'Lola', 'Mojo', 'Batdog', 'Brad', 'Mia', 'Dylan', nan, nan, nan, 'Mark', nan, nan, 'Oscar', nan, nan, nan, 'Marley', nan, 'JD', 'Baxter', 'Reginald', nan, 'Jax', 'Alejandro', 'Scruffers', 'Hammond', 'Charlie', 'Pip', 'Julius', 'Malcolm', 'Penelope', nan, 'Tanner', nan, 'Lou', 'Lola', 'Sparky', nan, 'Herm', nan, 'Anthony', 'Holly', nan, nan, nan, nan, 'Clarence', nan, 'Phred', 'Toby', nan, nan, 'Colby', nan, 'Jett', 'Amy', nan, 'Remington', nan, 'Sage', 'Maggie', 'Andy', 'Mason', nan, 'Trigger', 'Antony', nan, 'Creg', nan, nan, 'Traviss', nan, 'Vincent', 'Gin', 'Jerry', 'Jeffrie', nan, 'Danny', 'Ester', 'Pluto', 'Bloo', 'Phineas', nan, 'Edd', nan, nan, nan, 'Paull', 'Koda', nan, 'Hank', 'Sam', 'Willy', nan, 'Herb', 'Damon', nan, 'Scooter', 'Peanut', 'Nigel', 'Larry', 'Daisy', nan, 'Butters', nan, nan, 'Sandra', 'Wally', nan, 'Fabio', 'Winston', 'Randall', 'Liam', 'Tommy', 'Ben', nan, nan, 'Raphael', 'Zoey', nan, 'Julio', 'Andru', nan, nan, 'Chester', 'Clarence', nan, 'Kloey', 'Louie', 'Shawwn', nan, 'Penny', nan, 'Skye', nan, 'Linda', 'Keith', 'Kollin', nan, 'Ronduh', 'Billl', 'Oliviér', 'Chip', nan, 'Saydee', 'Dug', 'Tessa', 'Sully', 'Kirk', nan, 'Ralf', 'Clarq', 'Jaspers', 'Samsom', nan, nan, 'Tucker', 'Terrance', nan, 'Harrison', 'Bernie', nan, 'Ruby', nan, 'Chaz', 'Jeremy', nan, 'Jaycob', nan, 'Herald', 'Lambeau', 'Ruffles', 'Amélie', 'Bobb', 'Banditt', nan, 'Kevon', 'Winifred', nan, nan, 'Hanz', nan, 'Churlie', 'Zeek', 'Timofy', 'Maks', 'Jomathan', 'Kallie', nan, nan, 'Marvin', nan, nan, 'Spark', 'Gòrdón', nan, 'Jo', nan, 'DayZ', nan, nan, nan, 'Rusty', 'Sophie', nan, 'Jareld', 'Bisquick', 'Torque', nan, nan, 'Ron', 'Skittles', nan, nan, nan, 'Alfie', nan, 'Jiminy', 'Otis', nan, 'Cleopatricia', 'Erik', 'Stu', 'Tedrick', nan, 'Shaggy', nan, nan, 'Filup', nan, nan, nan, nan, 'Calvin', 'Olive', nan, nan, 'George', 'Kial', nan, 'Frank', 'Naphaniel', nan, 'Dook', nan, 'Hall', 'Philippe', nan, nan, 'Reese', 'Cupcake', nan, nan, nan, 'Biden', 'Fwed', nan, 'Genevieve', 'Joshwa', nan, nan, 'Timison', nan, nan, 'Clarence', 'Kenneth', 'Churlie', 'Bradlay', 'Pipsy', nan, 'Gabe', 'Clybe', 'Dave', nan, nan, 'Keet', nan, 'Klevin', 'Carll', nan, nan, nan, nan, 'Jeph', 'Jockson', nan, nan, 'Josep', 'Lugan', nan, 'Christoper', nan, 'Jimothy', 'Kreggory', 'Scout', nan, nan, nan, nan, nan, 'Walter', nan, nan, nan, nan, nan, nan, nan, nan, nan, nan, nan, nan, nan, nan, nan, nan, nan, nan, nan, nan, nan, nan, nan, nan, nan, nan, nan, nan, nan, nan, 'Phineas', 'Tilly', 'Archie', 'Darla', 'Franklin', nan, 'Jax', nan, 'Zoey', 'Cassie', 'Koda', 'Bruno', nan, 'Ted', 'Stuart', 'Oliver', 'Jim', 'Zeke', 'Ralphus', 'Gerald', 'Jeffrey', nan, 'Canela', nan, nan, 'Maya', 'Mingus', 'Derek', 'Roscoe', nan, 'Waffles', 'Jimbo', 'Maisey', nan, nan, 'Earl', 'Lola', 'Kevin', nan, nan, 'Yogi', 'Noah', 'Bella', 'Grizzwald', nan, 'Rusty', 'Gus', 'Stanley', 'Alfy', 'Koko', 'Rey', 'Gary', nan, nan, 'Elliot', 'Louis', nan, 'Bella', 'Jesse', nan, 'Romeo', nan, 'Bailey', 'Duddles', 'Jack', 'Steven', 'Beau', 'Snoopy', nan, 'Shadow', 'Emmy', 'Aja', 'Penny', 'Dante', 'Nelly', 'Ginger', nan, 'Benedict', 'Venti', 'Goose', 'Nugget', nan, nan, 'Cash', 'Jed', nan, 'Sebastian', nan, 'Sierra', nan, nan, 'Monkey', nan, 'Harry', 'Kody', 'Lassie', 'Rover', 'Napolean', nan, 'Boomer', nan, nan, 'Cody', 'Zoey', 'Rumble', 'Clifford', 'Dewey', 'Stanley', 'Scout', 'Gizmo', 'Walter', nan, 'Cooper', nan, 'Harold', 'Shikha', nan, nan, 'Lili', 'Jamesy', 'Coco', 'Boomer', 'Sammy', 'Nelly', nan, 'Meatball', 'Paisley', 'Albus', 'Neptune', 'Belle', nan, nan, 'Quinn', 'Zooey', 'Dave', 'Jersey', nan, 'Hobbes', nan, 'Burt', 'Lorenzo', 'Carl', 'Jordy', nan, 'Milky', 'Trooper', nan, nan, nan, nan, 'Sophie', 'Wyatt', 'Rosie', 'Thor', nan, 'Oscar', nan, 'Zeke', 'Callie', nan, nan, 'Cermet', nan, nan, nan, nan, nan, nan, 'Marlee', 'Arya', 'Einstein', nan, nan, 'Alice', nan, 'Rumpole', 'Benny', 'Aspen', 'Jarod', 'Wiggles', 'General', 'Sailor', nan, 'Iggy', 'Snoop', 'Kyle', 'Leo', nan, 'Riley', 'Boomer', nan, 'Noosh', nan, 'Kevin', nan, 'Odin', nan, 'Jerry', 'Georgie', 'Rontu', nan, 'Cannon', 'Furzey', 'Daisy', nan, 'Tuck', 'Barney', nan, 'Vixen', nan, 'Jarvis', nan, nan, 'Mimosa', 'Pickles', nan, 'Brady', 'Luna', 'Charlie', 'Margo', nan, 'Sadie', 'Hank', 'Tycho', 'Charlie', 'Indie', 'Winnie', 'George', 'Bentley', 'Penny', nan, nan, 'Max', 'Dawn', nan, nan, 'Maddie', nan, 'Monty', 'Sojourner', 'Winston', 'Odie', nan, 'Arlo', 'Walter', 'Stanley', nan, nan, 'Daisy', nan, 'Waffles', 'Vincent', 'Lucy', 'Clark', 'Mookie', 'Meera', 'Oliver', 'Ava', 'Lucy', nan, 'Eli', 'Ash', 'Lola', nan, nan, nan, 'Tucker', 'Tobi', nan, 'Chester', 'Wilson', 'Sunshine', nan, 'Lipton', 'Bentley', 'Charlie', 'Bronte', 'Poppy', 'Gidget', 'Rhino', 'Willow', nan, nan, 'Orion', 'Eevee', 'Charlie', 'Smiley', nan, 'Miguel', 'Emanuel', nan, 'Kuyu', 'Daisy', nan, 'Dutch', 'Pete', nan, 'Scooter', 'Tucker', 'Reggie', 'Lilly', 'Samson', 'Mia', 'Leo', nan, 'Astrid', 'Malcolm', 'Dexter', 'Alfie', 'Fiona', nan, 'Mutt', 'Bear', 'Doobert', 'Beebop', 'Alexander', nan, 'Sailer', 'Brutus', 'Kona', 'Boots', 'Tucker', 'Ralphie', 'Charlie', 'Loki', 'Cupid', nan, 'Pawnd', 'Pilot', nan, nan, 'Ike', 'Mo', 'Toby', nan, 'Sweet', 'Pablo', 'Scooter', 'Wilson', nan, 'Nala', nan, 'Cash', 'Winston', 'Crawford', nan, 'Wyatt', 'Albus', nan, 'Hobbes', nan, 'Paisley', 'Gabe', nan, 'Jimison', 'Duchess', 'Harlso', 'Sundance', nan, 'Luca', nan, 'Flash', 'Sunny', nan, nan, nan, 'Oliver', nan, 'Howie', 'Jazzy', 'Anna', nan, 'Finn', 'Sunny', 'Bo', 'Wafer', 'Bear', 'Tom', 'Florence', 'Autumn', nan, 'Buddy', 'Dido', 'Eugene', 'Ken', 'Strudel', 'Tebow', nan, 'Chloe', 'Timber', 'Binky', 'Moose', 'Dudley', 'Comet', 'Jack', nan, 'Akumi', 'Titan', nan, 'Cooper', 'Olivia', 'Alf', 'Oshie', 'Chubbs', 'Gary', 'Sky', 'Atlas', nan, nan, 'Eleanor', 'Layla', nan, nan, nan, 'Toby', 'Rocky', 'Baron', 'Tyr', 'Bauer', 'Swagger', 'Brandi', nan, 'Mary', 'Moe', 'Ted', 'Halo', nan, 'Augie', 'Craig', 'Sam', 'Hunter', 'Pavlov', 'Phil', 'Gus', nan, nan, 'Kyro', 'Wallace', 'Ito', nan, 'Koda', 'Seamus', nan, 'Cooper', 'Ollie', 'Stephan', 'Lennon', nan, nan, 'Waffles', nan, 'Major', 'Duke', 'Zeke', 'Sansa', 'Shooter', 'Django', nan, 'Bo', 'Diogi', nan, 'Sonny', 'Winston', 'Marley', 'Bailey', 'Winnie', 'Severus', nan, 'Loki', 'Ronnie', nan, 'Wallace', nan, 'Milo', 'Bones', nan, 'Mauve', 'Chef', nan, 'Doc', 'Peaches', nan, 'Sobe', 'Longfellow', 'Jeffrey', 'Mister', 'Iroh', 'Shadow', 'Cooper', nan, 'Cassie', 'Pancake', nan, 'Tyr', 'Romeo', nan, 'Snicku', 'Ruby', nan, nan, 'Yogi', 'Daisy', nan, 'Brody', 'Bailey', 'Mack', 'Nimbus', 'Laika', 'Maximus', 'Clark', 'Dobby', 'Fiona', 'Moreton', 'Dave', nan, 'Tucker', 'Juno', 'Maude', 'Lily', 'Newt', 'Benji', 'Nida', nan, 'Robin', nan, 'Bailey', 'Monster', 'BeBe', 'Remus', nan, nan, 'Levi', 'Mabel', 'Misty', 'Betty', 'Mosby', 'Duke', 'Maggie', 'Bruce', 'Happy', 'Ralphy', 'Eli', 'Brownie', 'Rizzy', nan, 'Stella', 'Bo', 'Lucy', 'Butter', 'Dexter', nan, 'Leo', nan, 'Frank', 'Tonks', 'Moose', 'Lincoln', 'Rory', 'Logan', nan, 'Dale', 'Rizzo', 'Arnie', 'Mattie', nan, 'Lucy', 'Rusty', 'Pinot', 'Dallas', nan, 'Doc', 'Hero', 'Rusty', 'Frankie', 'Stormy', 'Reginald', 'Balto', 'Riley', 'Mairi', 'Loomis', 'Finn', 'Godi', 'Dave', 'Earl', 'Cali', 'Deacon', 'Penny', 'Timmy', 'Sampson', 'Chipson', nan, 'Combo', nan, nan, 'Oakley', nan, nan, 'Dash', 'Koda', 'Hercules', nan, 'Bear', nan, nan, 'Scout', nan, 'Reggie', nan, 'Jay', nan, 'Mya', 'Strider', 'Penny', nan, 'Nala', 'Stanley', nan, 'Sophie', 'Wesley', nan, 'Derek', 'Jeffrey', 'Solomon', 'Huck', nan, 'O', 'Sampson', nan, 'Blue', 'Anakin', nan, 'Finley', 'Maximus', 'Tucker', 'Finley', 'Sprinkles', nan, 'Winnie', 'Heinrich', 'Loki', 'Shakespeare', 'Chelsea', 'Bungalo', 'Chip', 'Grey', nan, 'Roosevelt', nan, 'Willem', nan, 'Jack', 'Finn', 'Penny', nan, 'Davey', 'Dakota', 'Fizz', 'Dixie', 'Charlie', nan, 'Winston', 'Sebastian', nan, 'Al', 'Jackson', 'Carbon', 'Klein', 'Titan', 'DonDon', 'Kirby', 'Jesse', 'Lou', 'Oakley', 'Chevy', 'Gerald', 'Tito', 'Philbert', 'Louie', nan, 'Rupert', 'Rufus', nan, 'Brudge', 'Shadoe', 'Oscar', 'Juno', 'Angel', 'Brat', 'Tove', nan, 'Louie', 'Gromit', 'Aubie', 'Kota', nan, 'Alfie', 'Clark', 'Belle', 'Leela', 'Glenn', 'Buddy', 'Scout', nan, 'Shelby', nan, nan, 'Sephie', 'Bruce', 'Bonaparte', 'Albert', 'Bo', 'Wishes', 'Rose', 'Theo', 'Atlas', nan, 'Rocco', 'Fido', 'Sadie', nan, nan, 'Kirby', 'Maggie', 'Emma', 'Oakley', nan, 'Luna', 'Toby', 'Spencer', 'Lilli', nan, 'Boston', 'Brandonald', nan, 'Odie', 'Corey', nan, nan, 'Leonard', 'Beckham', 'Cooper', nan, nan, nan, 'Devón', 'Oliver', 'Jax', 'Gert', nan, nan, nan, nan, nan, nan, 'Watson', 'Winnie', 'Keith', 'Milo', 'Dex', nan, 'Charlie', nan, nan, 'Scout', 'Hank', 'Ace', nan, 'Tayzie', 'Carl', 'Grizzie', nan, nan, nan, nan, nan, 'Brody', 'Lola', 'Ruby', 'Tucker', 'Fred', 'Toby', nan, 'Max', nan, 'Gilbert', nan, 'Cooper', 'Milo', 'Meyer', 'Malcolm', 'Arnie', 'Zoe', nan, nan, 'Stewie', 'Calvin', 'Lilah', 'Spanky', nan, 'Jameson', 'Beau', 'Jax', 'Piper', 'Bo', 'Atticus', 'Lucy', 'Finn', nan, 'George', 'Blu', 'Boomer', 'Winston', 'Dietrich', nan, 'Divine', nan, 'Tripp', nan, nan, 'Cora', nan, nan, 'Duke', nan, nan, nan, nan, nan, 'Huxley', nan, nan, 'Keurig', 'Bookstore', nan, nan, nan, 'Linus', 'Atticus', 'Clark', nan, nan, nan, nan, nan, 'Maddie', 'Abby', nan, 'Shiloh', nan, 'Gustav', 'Arlen', 'Gus', 'Percy', 'Lenox', nan, 'Sugar', 'Jeffrey', 'Oliver', 'Abby', 'Indie', 'Harvey', 'Blanket', nan, nan, 'Geno', nan, 'Stark', 'Harold', 'Bentley', 'Beya', 'Kilo', nan, 'Kayla', nan, 'Maxaroni', nan, 'Bell', 'Phil', 'Doug', 'Edmund', nan, 'Aqua', 'Tucker', 'Theodore', 'Ted', nan, 'Leo', nan, 'Chip', 'Baloo', nan, nan, 'Chase', nan, 'Nollie', 'Rorie', 'Simba', nan, 'Benji', nan, 'Kyle', nan, nan, 'Charles', nan, 'Bayley', nan, nan, 'Axel', 'Storkson', 'Remy', 'Bella', nan, nan, 'Lily', nan, 'Chadrick', nan, 'Rory', nan, nan, 'Maxaroni', nan, 'Dakota', nan, 'Kellogg', 'Buckley', 'Jax', nan, 'Livvie', nan, 'Terry', 'Moose', nan, 'Hermione', nan, 'Ralpher', 'Aldrick', nan, 'Kyle', 'Larry', 'Solomon', nan, nan, 'Rooney', 'Crystal', 'Ziva', 'Charles', 'Ollie', nan, 'Stefan', 'Pupcasso', nan, 'Puff', nan, 'Flurpson', 'Coleman', 'Wallace', 'Enchilada', 'Raymond', nan, 'Rueben', 'Cilantro', nan, nan, nan, nan, 'Karll', nan, 'Sprout', 'Blitz', 'Bloop', nan, 'Colby', 'Lillie', 'Lola', nan, 'Fred', nan, 'Ashleigh', 'Kreggory', 'Sarge', 'Luther', 'Sugar', 'Reginald', 'Ivar', 'Jangle', nan, 'Schnitzel', 'Panda', 'Oliver', 'Archie', 'Berkeley', nan, 'Ralphé', 'Derek', 'Charleson', 'Neptune', nan, 'Clyde', 'Harnold', 'Sid', 'Lucy', 'Pippa', 'Sadie', 'Otis', nan, 'Carper', nan, 'Bowie', nan, 'Alexanderson', 'Suki', 'Barclay', nan, nan, 'Skittle', 'Ebby', 'Flávio', 'Smokey', 'Link', 'Jennifur', nan, 'Ozzy', 'Bluebert', 'Stephanus', nan, 'Bubbles', nan, nan, 'Bentley', 'Toby', 'Zeus', 'Bertson', 'Oscar', 'Nico', 'Michelangelope', 'Siba', 'Calbert', nan, 'Curtis', 'Benedict', nan, 'Blitz', 'Travis', 'Thumas', nan, nan, 'Kanu', 'Doug', nan, 'Piper', nan, 'Lance', 'Opie', 'Stubert', nan, 'Sunny', 'Kane', nan, nan, 'Steven', 'Olive', 'Chester', 'Winston', 'Roosevelt', nan, nan, 'Gary', nan, nan, 'Chuckles', 'Milo', 'Staniel', 'Sora', nan, nan, 'Beemo', 'Oshie', 'Gunner', nan, nan, 'Lacy', 'Tater', nan, 'Watson', nan, nan, 'Olaf', 'Cecil', 'Vince', 'Karma', 'Billy', 'Walker', 'Penny', nan, 'Sammy', 'Rodney', 'Klevin', 'Lucy', nan, 'Malikai', 'Mister', 'Coco', 'Smokey', 'Bear', 'Bobble', nan, 'Oliver', 'River', 'Jebberson', nan, 'Cooper', 'Remington', nan, 'Farfle', nan, 'Rufus', 'Sadie', nan, nan, 'Jiminus', nan, 'Harper', 'Keurig', nan, 'Clarkus', nan, 'Finnegus', 'Cassie', 'Cupcake', 'Kathmandu', 'Tucker', 'Ellie', nan, 'Elliot', 'Katie', 'Shadow', nan, 'Oliver', nan, 'Koda', nan, nan, 'Kara', nan, 'Dexter', 'Layla', 'Adele', 'Lucy', 'Max', nan, nan, 'Zara', 'Cooper', 'Ambrose', 'Jimothy', 'Bode', 'Terrenth', 'Reese', nan, nan, nan, 'Chesterson', nan, nan, nan, 'Lucia', 'Bisquick', 'Ralphson', nan, 'Stanley', nan, nan, nan, 'Bella', 'Scooter', nan, nan, 'Charlie', 'Socks', nan, nan, nan, 'Chip', 'Luna', 'Lucy', 'Rambo', 'Sansa', nan, 'Rudy', nan, nan, nan, 'Fiji', 'Rilo', 'Bilbo', nan, 'Coopson', 'Yoda', 'Millie', nan, 'Chet', nan, 'Crouton', 'Daniel', nan, 'Vincent', 'Kaia', 'Murphy', 'Dotsy', nan, nan, 'Eazy', 'Coops', 'Thumas', 'Cooper', 'Nala', nan, 'Fillup', 'Dave', 'Archie', nan, nan, 'Miley', 'Calbert', nan, 'Charl', 'Reagan', nan, 'Yukon', nan, 'Oliver', 'CeCe', nan, 'Cuddles', 'Rusty', nan, 'Claude', 'Jessiga', 'Maximus', 'Franklin', 'Beau', 'Lily', nan, 'Doug', 'Cassie', 'Carter', nan, nan, nan, 'Ole', 'Pherb', 'Blipson', nan, 'Bentley', nan, 'Charlie', 'Oakley', 'Rosie', nan, nan, 'Misty', 'Reptar', 'Klevin', 'Trevith', nan, nan, nan, 'Berb', nan, nan, 'Wyatt', nan, 'Calvin', nan, 'Bob', 'Colin', nan, 'Lorenzo', nan, 'Brian', nan, 'Archie', 'Phil', nan, 'Oliviér', nan, 'Grady', nan, 'Lola', 'Chester', nan, 'Kobe', nan, nan, 'Freddery', nan, nan, 'Phil', nan, 'Lincoln', 'Sadie', 'Oscar', nan, 'Bodie', 'Dunkin', nan, 'Milo', nan, 'Wally', nan, 'Tupawc', nan, nan, 'Chester', 'Amber', 'Cody', nan, 'Herschel', nan, 'Edgar', nan, 'Teddy', 'Kingsley', 'Brockly', nan, nan, 'Richie', nan, 'Leo', 'Bailey', nan, 'Molly', nan, nan, nan, nan, nan, 'Buddy', 'Peaches', 'Vinscent', 'Cedrick', 'Hazel', nan, 'Lolo', 'Eriq', 'Phred', nan, 'Oddie', 'Maxwell', 'Geoff', nan, nan, 'Covach', nan, nan, 'Gizmo', 'Durg', 'Fynn', 'Luca', 'Ricky', 'Lucy', nan, nan, 'Carl', nan, 'Chipson', 'Herald', 'Lucky', 'Ferg', nan, 'Trip', nan, 'Clarence', nan, 'Hamrick', 'Brad', nan, 'Pubert', 'Frönq', nan, 'Louis', 'Derby', 'Lizzie', nan, 'Kilo', nan, 'Louis', nan, 'Trooper', 'Ember', 'Blakely', 'Opal', 'Marq', nan, 'Curtis', 'Kramer', 'Barry', 'Tyrone', nan, 'Gordon', 'Samson', 'Baxter', nan, nan, 'Jackson', nan, nan, nan, 'Mona', 'Olivia', 'Horace', nan, 'Crimson', 'Birf', nan, nan, 'Flávio', nan, nan, nan, 'Hammond', 'Lorelei', nan, 'Olive', nan, 'Marty', 'Brooks', 'Otis', nan, nan, nan, 'Rocky', nan, 'Petrick', 'Hubertson', 'Alfie', 'Gerbald', nan, 'Jerry', 'Oreo', 'Bruiser', nan, 'Perry', nan, nan, 'Theodore', nan, nan, 'Bobby', nan, 'Pippa', 'Jeph', 'Obi', nan, nan, nan, 'Tino', nan, 'Kulet', 'Sweets', nan, 'Lupe', 'Sadie', 'Tiger', 'Jiminy', nan, nan, 'Buddy', 'Sebastian', nan, 'Griffin', 'Banjo', nan, nan, 'Jack', nan, 'Brandy', 'Larry', nan, nan, 'Lulu', 'Darrel', nan, nan, 'Taco', nan, 'Joey', nan, nan, 'Patrick', 'Kreg', 'Brody', 'Todo', 'Jax', 'Samson', nan, 'Tess', nan, 'Ulysses', nan, 'Jimothy', 'Charlie', 'Bo', nan, 'Toffee', nan, 'Apollo', 'Carly', nan, 'Asher', 'Glacier', 'Chuck', nan, 'Sarge', 'Panda', 'Champ', nan, 'Aspen', nan, 'Ozzie', 'Alice', 'Sadie', 'Griswold', 'Cheesy', 'Ellie', nan, nan, 'Moofasa', 'Brody', 'Penny', 'Percy', nan, 'Hector', nan, 'CeCe', 'Toby', nan, nan, 'Goliath', 'Kawhi', 'Reggie', 'Ozzy', nan, nan, 'Emmie', 'Sammy', 'Penelope', 'Rocco', nan, 'Bruce', 'Willie', nan, 'Rinna', nan, 'Hunter', 'Mike', nan, nan, 'William', 'Dwight', 'Evy', 'Hurley', nan, 'Rubio', nan, 'Louis', nan, 'Chompsky', nan, 'Rascal', nan, 'Lola', nan, 'Linda', 'Tug', 'Mia', 'Wilson', 'Dash', 'Tango', nan, nan, 'Grizz', nan, 'Crystal', 'Jerome', nan, nan, 'Bella', 'Crumpet', nan, 'Rosie', nan, 'Jessifer', nan, 'Reese', 'Izzy', nan, nan, nan, 'Ralph', 'Sadie', nan, nan, nan, nan, 'Sandy', nan, nan, nan, 'Axel', nan, nan, 'Humphrey', 'Derek', 'Tassy', 'Juckson', nan, 'Chuq', nan, 'Cooper', nan, 'Tyrus', 'Karl', nan, nan, nan, nan, nan, 'Ash', nan, nan, 'Penny', nan, nan, nan, nan, 'Godzilla', nan, nan, 'Bubbles', 'Vinnie', nan, nan, 'Griffin', nan, nan, 'Duke', nan, 'Winston', 'Kenneth', 'Herm', nan, 'Bert', nan, 'Striker', nan, nan, nan, 'Donny', nan, nan, nan, nan, nan, 'Pepper', nan, nan, 'Bernie', 'Buddah', nan, 'Lenny', nan, nan, nan, 'Ellie', 'Sammy', nan, nan, 'Reggie', nan, nan, nan, nan, 'Daisy', nan, nan, nan, 'Arnold', nan, nan, nan, 'Coops', nan, 'Steven', 'Zuzu', 'Oliver', nan, nan, 'Moe', 'Mollie', 'Laela', nan, nan, 'Tedders', nan, nan, 'Maggie', nan, 'Superpup', nan, nan, nan, nan, 'Sophie', nan, nan, 'Rufio', 'Patrick', 'Jeb', 'Rodman', nan, nan, nan, nan, nan, 'Louis', nan, 'Bailey', 'Ava', 'Jonah', 'Lenny', 'Gary', 'Chesney', nan, 'Lennon', nan, 'Kenny', nan, 'Bob', 'Henry', 'Gus', 'Bobbay', nan, 'Mitch', 'Earl', 'Stanley', 'Lucy', nan, nan, 'Kaiya', 'Daisy', nan, 'Acro', 'Aiden', nan, nan, 'Obie', nan, nan, nan, nan, nan, nan, 'Riley', 'Raymond', 'Dot', nan, 'Pickles', nan, 'Larry', 'George', 'Shnuggles', 'Kendall', 'Albert', nan, 'Jeffri', 'Sandy', nan, nan, nan, 'Steve', 'Koda', nan, 'Bella', 'Gerald', nan, 'Django', 'Frankie', nan, 'Eve', 'Mac', nan, 'Dexter', 'Fletcher', 'Kenzie', 'Pumpkin', 'Schnozz', nan, nan, 'Chuckles', 'Chet', 'Gustaf', 'Terry', 'Jimison', 'Cheryl', nan, 'Oscar', 'Ed', 'Jerry', 'Leonidas', nan, 'Norman', 'Caryl', nan, 'Scott', 'Taz', nan, 'Darby', nan, 'Jackie', nan, 'Jazz', 'Buddy', 'Franq', 'Pippin', nan, 'Kreg', nan, 'Rolf', nan, 'Snickers', 'Ridley', nan, 'Cal', 'Opal', 'Bradley', 'Bubba', nan, nan, 'Tuco', 'Patch', 'Gizmo', 'Lola', 'Mojo', 'Batdog', 'Brad', 'Mia', 'Dylan', nan, nan, nan, 'Mark', nan, nan, 'Oscar', nan, nan, nan, 'Marley', nan, 'JD', 'Baxter', 'Reginald', nan, 'Jax', 'Alejandro', 'Scruffers', 'Hammond', 'Charlie', 'Pip', 'Julius', 'Malcolm', 'Penelope', nan, 'Tanner', nan, 'Lou', 'Lola', 'Sparky', nan, 'Herm', nan, 'Anthony', 'Holly', nan, nan, nan, nan, 'Clarence', nan, 'Phred', 'Toby', nan, nan, 'Colby', nan, 'Jett', 'Amy', nan, 'Remington', nan, 'Sage', 'Maggie', 'Andy', 'Mason', nan, 'Trigger', 'Antony', nan, 'Creg', nan, nan, 'Traviss', nan, 'Vincent', 'Gin', 'Jerry', 'Jeffrie', nan, 'Danny', 'Ester', 'Pluto', 'Bloo', 'Phineas', nan, 'Edd', nan, nan, nan, 'Paull', 'Koda', nan, 'Hank', 'Sam', 'Willy', nan, 'Herb', 'Damon', nan, 'Scooter', 'Peanut', 'Nigel', 'Larry', 'Daisy', nan, 'Butters', nan, nan, 'Sandra', 'Wally', nan, 'Fabio', 'Winston', 'Randall', 'Liam', 'Tommy', 'Ben', nan, nan, 'Raphael', 'Zoey', nan, 'Julio', 'Andru', nan, nan, 'Chester', 'Clarence', nan, 'Kloey', 'Louie', 'Shawwn', nan, 'Penny', nan, 'Skye', nan, 'Linda', 'Keith', 'Kollin', nan, 'Ronduh', 'Billl', 'Oliviér', 'Chip', nan, 'Saydee', 'Dug', 'Tessa', 'Sully', 'Kirk', nan, 'Ralf', 'Clarq', 'Jaspers', 'Samsom', nan, nan, 'Tucker', 'Terrance', nan, 'Harrison', 'Bernie', nan, 'Ruby', nan, 'Chaz', 'Jeremy', nan, 'Jaycob', nan, 'Herald', 'Lambeau', 'Ruffles', 'Amélie', 'Bobb', 'Banditt', nan, 'Kevon', 'Winifred', nan, nan, 'Hanz', nan, 'Churlie', 'Zeek', 'Timofy', 'Maks', 'Jomathan', 'Kallie', nan, nan, 'Marvin', nan, nan, 'Spark', 'Gòrdón', nan, 'Jo', nan, 'DayZ', nan, nan, nan, 'Rusty', 'Sophie', nan, 'Jareld', 'Bisquick', 'Torque', nan, nan, 'Ron', 'Skittles', nan, nan, nan, 'Alfie', nan, 'Jiminy', 'Otis', nan, 'Cleopatricia', 'Erik', 'Stu', 'Tedrick', nan, 'Shaggy', nan, nan, 'Filup', nan, nan, nan, nan, 'Calvin', 'Olive', nan, nan, 'George', 'Kial', nan, 'Frank', 'Naphaniel', nan, 'Dook', nan, 'Hall', 'Philippe', nan, nan, 'Reese', 'Cupcake', nan, nan, nan, 'Biden', 'Fwed', nan, 'Genevieve', 'Joshwa', nan, nan, 'Timison', nan, nan, 'Clarence', 'Kenneth', 'Churlie', 'Bradlay', 'Pipsy', nan, 'Gabe', 'Clybe', 'Dave', nan, nan, 'Keet', nan, 'Klevin', 'Carll', nan, nan, nan, nan, 'Jeph', 'Jockson', nan, nan, 'Josep', 'Lugan', nan, 'Christoper', nan, 'Jimothy', 'Kreggory', 'Scout', nan, nan, nan, nan, nan, 'Walter', nan, nan, nan, nan, nan, nan, nan, nan, nan, nan, nan, nan, nan, nan, nan, nan, nan, nan, nan, nan, nan, nan, nan, nan, nan, nan, nan, nan, nan, nan, 'Phineas', 'Tilly', 'Archie', 'Darla', 'Franklin', nan, 'Jax', nan, 'Zoey', 'Cassie', 'Koda', 'Bruno', nan, 'Ted', 'Stuart', 'Oliver', 'Jim', 'Zeke', 'Ralphus', 'Gerald', 'Jeffrey', nan, 'Canela', nan, nan, 'Maya', 'Mingus', 'Derek', 'Roscoe', nan, 'Waffles', 'Jimbo', 'Maisey', nan, nan, 'Earl', 'Lola', 'Kevin', nan, nan, 'Yogi', 'Noah', 'Bella', 'Grizzwald', nan, 'Rusty', 'Gus', 'Stanley', 'Alfy', 'Koko', 'Rey', 'Gary', nan, nan, 'Elliot', 'Louis', nan, 'Bella', 'Jesse', nan, 'Romeo', nan, 'Bailey', 'Duddles', 'Jack', 'Steven', 'Beau', 'Snoopy', nan, 'Shadow', 'Emmy', 'Aja', 'Penny', 'Dante', 'Nelly', 'Ginger', nan, 'Benedict', 'Venti', 'Goose', 'Nugget', nan, nan, 'Cash', 'Jed', nan, 'Sebastian', nan, 'Sierra', nan, nan, 'Monkey', nan, 'Harry', 'Kody', 'Lassie', 'Rover', 'Napolean', nan, 'Boomer', nan, nan, 'Cody', 'Zoey', 'Rumble', 'Clifford', 'Dewey', 'Stanley', 'Scout', 'Gizmo', 'Walter', nan, 'Cooper', nan, 'Harold', 'Shikha', nan, nan, 'Lili', 'Jamesy', 'Coco', 'Boomer', 'Sammy', 'Nelly', nan, 'Meatball', 'Paisley', 'Albus', 'Neptune', 'Belle', nan, nan, 'Quinn', 'Zooey', 'Dave', 'Jersey', nan, 'Hobbes', nan, 'Burt', 'Lorenzo', 'Carl', 'Jordy', nan, 'Milky', 'Trooper', nan, nan, nan, nan, 'Sophie', 'Wyatt', 'Rosie', 'Thor', nan, 'Oscar', nan, 'Zeke', 'Callie', nan, nan, 'Cermet', nan, nan, nan, nan, nan, nan, 'Marlee', 'Arya', 'Einstein', nan, nan, 'Alice', nan, 'Rumpole', 'Benny', 'Aspen', 'Jarod', 'Wiggles', 'General', 'Sailor', nan, 'Iggy', 'Snoop', 'Kyle', 'Leo', nan, 'Riley', 'Boomer', nan, 'Noosh', nan, 'Kevin', nan, 'Odin', nan, 'Jerry', 'Georgie', 'Rontu', nan, 'Cannon', 'Furzey', 'Daisy', nan, 'Tuck', 'Barney', nan, 'Vixen', nan, 'Jarvis', nan, nan, 'Mimosa', 'Pickles', nan, 'Brady', 'Luna', 'Charlie', 'Margo', nan, 'Sadie', 'Hank', 'Tycho', 'Charlie', 'Indie', 'Winnie', 'George', 'Bentley', 'Penny', nan, nan, 'Max', 'Dawn', nan, nan, 'Maddie', nan, 'Monty', 'Sojourner', 'Winston', 'Odie', nan, 'Arlo', 'Walter', 'Stanley', nan, nan, 'Daisy', nan, 'Waffles', 'Vincent', 'Lucy', 'Clark', 'Mookie', 'Meera', 'Oliver', 'Ava', 'Lucy', nan, 'Eli', 'Ash', 'Lola', nan, nan, nan, 'Tucker', 'Tobi', nan, 'Chester', 'Wilson', 'Sunshine', nan, 'Lipton', 'Bentley', 'Charlie', 'Bronte', 'Poppy', 'Gidget', 'Rhino', 'Willow', nan, nan, 'Orion', 'Eevee', 'Charlie', 'Smiley', nan, 'Miguel', 'Emanuel', nan, 'Kuyu', 'Daisy', nan, 'Dutch', 'Pete', nan, 'Scooter', 'Tucker', 'Reggie', 'Lilly', 'Samson', 'Mia', 'Leo', nan, 'Astrid', 'Malcolm', 'Dexter', 'Alfie', 'Fiona', nan, 'Mutt', 'Bear', 'Doobert', 'Beebop', 'Alexander', nan, 'Sailer', 'Brutus', 'Kona', 'Boots', 'Tucker', 'Ralphie', 'Charlie', 'Loki', 'Cupid', nan, 'Pawnd', 'Pilot', nan, nan, 'Ike', 'Mo', 'Toby', nan, 'Sweet', 'Pablo', 'Scooter', 'Wilson', nan, 'Nala', nan, 'Cash', 'Winston', 'Crawford', nan, 'Wyatt', 'Albus', nan, 'Hobbes', nan, 'Paisley', 'Gabe', nan, 'Jimison', 'Duchess', 'Harlso', 'Sundance', nan, 'Luca', nan, 'Flash', 'Sunny', nan, nan, nan, 'Oliver', nan, 'Howie', 'Jazzy', 'Anna', nan, 'Finn', 'Sunny', 'Bo', 'Wafer', 'Bear', 'Tom', 'Florence', 'Autumn', nan, 'Buddy', 'Dido', 'Eugene', 'Ken', 'Strudel', 'Tebow', nan, 'Chloe', 'Timber', 'Binky', 'Moose', 'Dudley', 'Comet', 'Jack', nan, 'Akumi', 'Titan', nan, 'Cooper', 'Olivia', 'Alf', 'Oshie', 'Chubbs', 'Gary', 'Sky', 'Atlas', nan, nan, 'Eleanor', 'Layla', nan, nan, nan, 'Toby', 'Rocky', 'Baron', 'Tyr', 'Bauer', 'Swagger', 'Brandi', nan, 'Mary', 'Moe', 'Ted', 'Halo', nan, 'Augie', 'Craig', 'Sam', 'Hunter', 'Pavlov', 'Phil', 'Gus', nan, nan, 'Kyro', 'Wallace', 'Ito', nan, 'Koda', 'Seamus', nan, 'Cooper', 'Ollie', 'Stephan', 'Lennon', nan, nan, 'Waffles', nan, 'Major', 'Duke', 'Zeke', 'Sansa', 'Shooter', 'Django', nan, 'Bo', 'Diogi', nan, 'Sonny', 'Winston', 'Marley', 'Bailey', 'Winnie', 'Severus', nan, 'Loki', 'Ronnie', nan, 'Wallace', nan, 'Milo', 'Bones', nan, 'Mauve', 'Chef', nan, 'Doc', 'Peaches', nan, 'Sobe', 'Longfellow', 'Jeffrey', 'Mister', 'Iroh', 'Shadow', 'Cooper', nan, 'Cassie', 'Pancake', nan, 'Tyr', 'Romeo', nan, 'Snicku', 'Ruby', nan, nan, 'Yogi', 'Daisy', nan, 'Brody', 'Bailey', 'Mack', 'Nimbus', 'Laika', 'Maximus', 'Clark', 'Dobby', 'Fiona', 'Moreton', 'Dave', nan, 'Tucker', 'Juno', 'Maude', 'Lily', 'Newt', 'Benji', 'Nida', nan, 'Robin', nan, 'Bailey', 'Monster', 'BeBe', 'Remus', nan, nan, 'Levi', 'Mabel', 'Misty', 'Betty', 'Mosby', 'Duke', 'Maggie', 'Bruce', 'Happy', 'Ralphy', 'Eli', 'Brownie', 'Rizzy', nan, 'Stella', 'Bo', 'Lucy', 'Butter', 'Dexter', nan, 'Leo', nan, 'Frank', 'Tonks', 'Moose', 'Lincoln', 'Rory', 'Logan', nan, 'Dale', 'Rizzo', 'Arnie', 'Mattie', nan, 'Lucy', 'Rusty', 'Pinot', 'Dallas', nan, 'Doc', 'Hero', 'Rusty', 'Frankie', 'Stormy', 'Reginald', 'Balto', 'Riley', 'Mairi', 'Loomis', 'Finn', 'Godi', 'Dave', 'Earl', 'Cali', 'Deacon', 'Penny', 'Timmy', 'Sampson', 'Chipson', nan, 'Combo', nan, nan, 'Oakley', nan, nan, 'Dash', 'Koda', 'Hercules', nan, 'Bear', nan, nan, 'Scout', nan, 'Reggie', nan, 'Jay', nan, 'Mya', 'Strider', 'Penny', nan, 'Nala', 'Stanley', nan, 'Sophie', 'Wesley', nan, 'Derek', 'Jeffrey', 'Solomon', 'Huck', nan, 'O', 'Sampson', nan, 'Blue', 'Anakin', nan, 'Finley', 'Maximus', 'Tucker', 'Finley', 'Sprinkles', nan, 'Winnie', 'Heinrich', 'Loki', 'Shakespeare', 'Chelsea', 'Bungalo', 'Chip', 'Grey', nan, 'Roosevelt', nan, 'Willem', nan, 'Jack', 'Finn', 'Penny', nan, 'Davey', 'Dakota', 'Fizz', 'Dixie', 'Charlie', nan, 'Winston', 'Sebastian', nan, 'Al', 'Jackson', 'Carbon', 'Klein', 'Titan', 'DonDon', 'Kirby', 'Jesse', 'Lou', 'Oakley', 'Chevy', 'Gerald', 'Tito', 'Philbert', 'Louie', nan, 'Rupert', 'Rufus', nan, 'Brudge', 'Shadoe', 'Oscar', 'Juno', 'Angel', 'Brat', 'Tove', nan, 'Louie', 'Gromit', 'Aubie', 'Kota', nan, 'Alfie', 'Clark', 'Belle', 'Leela', 'Glenn', 'Buddy', 'Scout', nan, 'Shelby', nan, nan, 'Sephie', 'Bruce', 'Bonaparte', 'Albert', 'Bo', 'Wishes', 'Rose', 'Theo', 'Atlas', nan, 'Rocco', 'Fido', 'Sadie', nan, nan, 'Kirby', 'Maggie', 'Emma', 'Oakley', nan, 'Luna', 'Toby', 'Spencer', 'Lilli', nan, 'Boston', 'Brandonald', nan, 'Odie', 'Corey', nan, nan, 'Leonard', 'Beckham', 'Cooper', nan, nan, nan, 'Devón', 'Oliver', 'Jax', 'Gert', nan, nan, nan, nan, nan, nan, 'Watson', 'Winnie', 'Keith', 'Milo', 'Dex', nan, 'Charlie', nan, nan, 'Scout', 'Hank', 'Ace', nan, 'Tayzie', 'Carl', 'Grizzie', nan, nan, nan, nan, nan, 'Brody', 'Lola', 'Ruby', 'Tucker', 'Fred', 'Toby', nan, 'Max', nan, 'Gilbert', nan, 'Cooper', 'Milo', 'Meyer', 'Malcolm', 'Arnie', 'Zoe', nan, nan, 'Stewie', 'Calvin', 'Lilah', 'Spanky', nan, 'Jameson', 'Beau', 'Jax', 'Piper', 'Bo', 'Atticus', 'Lucy', 'Finn', nan, 'George', 'Blu', 'Boomer', 'Winston', 'Dietrich', nan, 'Divine', nan, 'Tripp', nan, nan, 'Cora', nan, nan, 'Duke', nan, nan, nan, nan, nan, 'Huxley', nan, nan, 'Keurig', 'Bookstore', nan, nan, nan, 'Linus', 'Atticus', 'Clark', nan, nan, nan, nan, nan, 'Maddie', 'Abby', nan, 'Shiloh', nan, 'Gustav', 'Arlen', 'Gus', 'Percy', 'Lenox', nan, 'Sugar', 'Jeffrey', 'Oliver', 'Abby', 'Indie', 'Harvey', 'Blanket', nan, nan, 'Geno', nan, 'Stark', 'Harold', 'Bentley', 'Beya', 'Kilo', nan, 'Kayla', nan, 'Maxaroni', nan, 'Bell', 'Phil', 'Doug', 'Edmund', nan, 'Aqua', 'Tucker', 'Theodore', 'Ted', nan, 'Leo', nan, 'Chip', 'Baloo', nan, nan, 'Chase', nan, 'Nollie', 'Rorie', 'Simba', nan, 'Benji', nan, 'Kyle', nan, nan, 'Charles', nan, 'Bayley', nan, nan, 'Axel', 'Storkson', 'Remy', 'Bella', nan, nan, 'Lily', nan, 'Chadrick', nan, 'Rory', nan, nan, 'Maxaroni', nan, 'Dakota', nan, 'Kellogg', 'Buckley', 'Jax', nan, 'Livvie', nan, 'Terry', 'Moose', nan, 'Hermione', nan, 'Ralpher', 'Aldrick', nan, 'Kyle', 'Larry', 'Solomon', nan, nan, 'Rooney', 'Crystal', 'Ziva', 'Charles', 'Ollie', nan, 'Stefan', 'Pupcasso', nan, 'Puff', nan, 'Flurpson', 'Coleman', 'Wallace', 'Enchilada', 'Raymond', nan, 'Rueben', 'Cilantro', nan, nan, nan, nan, 'Karll', nan, 'Sprout', 'Blitz', 'Bloop', nan, 'Colby', 'Lillie', 'Lola', nan, 'Fred', nan, 'Ashleigh', 'Kreggory', 'Sarge', 'Luther', 'Sugar', 'Reginald', 'Ivar', 'Jangle', nan, 'Schnitzel', 'Panda', 'Oliver', 'Archie', 'Berkeley', nan, 'Ralphé', 'Derek', 'Charleson', 'Neptune', nan, 'Clyde', 'Harnold', 'Sid', 'Lucy', 'Pippa', 'Sadie', 'Otis', nan, 'Carper', nan, 'Bowie', nan, 'Alexanderson', 'Suki', 'Barclay', nan, nan, 'Skittle', 'Ebby', 'Flávio', 'Smokey', 'Link', 'Jennifur', nan, 'Ozzy', 'Bluebert', 'Stephanus', nan, 'Bubbles', nan, nan, 'Bentley', 'Toby', 'Zeus', 'Bertson', 'Oscar', 'Nico', 'Michelangelope', 'Siba', 'Calbert', nan, 'Curtis', 'Benedict', nan, 'Blitz', 'Travis', 'Thumas', nan, nan, 'Kanu', 'Doug', nan, 'Piper', nan, 'Lance', 'Opie', 'Stubert', nan, 'Sunny', 'Kane', nan, nan, 'Steven', 'Olive', 'Chester', 'Winston', 'Roosevelt', nan, nan, 'Gary', nan, nan, 'Chuckles', 'Milo', 'Staniel', 'Sora', nan, nan, 'Beemo', 'Oshie', 'Gunner', nan, nan, 'Lacy', 'Tater', nan, 'Watson', nan, nan, 'Olaf', 'Cecil', 'Vince', 'Karma', 'Billy', 'Walker', 'Penny', nan, 'Sammy', 'Rodney', 'Klevin', 'Lucy', nan, 'Malikai', 'Mister', 'Coco', 'Smokey', 'Bear', 'Bobble', nan, 'Oliver', 'River', 'Jebberson', nan, 'Cooper', 'Remington', nan, 'Farfle', nan, 'Rufus', 'Sadie', nan, nan, 'Jiminus', nan, 'Harper', 'Keurig', nan, 'Clarkus', nan, 'Finnegus', 'Cassie', 'Cupcake', 'Kathmandu', 'Tucker', 'Ellie', nan, 'Elliot', 'Katie', 'Shadow', nan, 'Oliver', nan, 'Koda', nan, nan, 'Kara', nan, 'Dexter', 'Layla', 'Adele', 'Lucy', 'Max', nan, nan, 'Zara', 'Cooper', 'Ambrose', 'Jimothy', 'Bode', 'Terrenth', 'Reese', nan, nan, nan, 'Chesterson', nan, nan, nan, 'Lucia', 'Bisquick', 'Ralphson', nan, 'Stanley', nan, nan, nan, 'Bella', 'Scooter', nan, nan, 'Charlie', 'Socks', nan, nan, nan, 'Chip', 'Luna', 'Lucy', 'Rambo', 'Sansa', nan, 'Rudy', nan, nan, nan, 'Fiji', 'Rilo', 'Bilbo', nan, 'Coopson', 'Yoda', 'Millie', nan, 'Chet', nan, 'Crouton', 'Daniel', nan, 'Vincent', 'Kaia', 'Murphy', 'Dotsy', nan, nan, 'Eazy', 'Coops', 'Thumas', 'Cooper', 'Nala', nan, 'Fillup', 'Dave', 'Archie', nan, nan, 'Miley', 'Calbert', nan, 'Charl', 'Reagan', nan, 'Yukon', nan, 'Oliver', 'CeCe', nan, 'Cuddles', 'Rusty', nan, 'Claude', 'Jessiga', 'Maximus', 'Franklin', 'Beau', 'Lily', nan, 'Doug', 'Cassie', 'Carter', nan, nan, nan, 'Ole', 'Pherb', 'Blipson', nan, 'Bentley', nan, 'Charlie', 'Oakley', 'Rosie', nan, nan, 'Misty', 'Reptar', 'Klevin', 'Trevith', nan, nan, nan, 'Berb', nan, nan, 'Wyatt', nan, 'Calvin', nan, 'Bob', 'Colin', nan, 'Lorenzo', nan, 'Brian', nan, 'Archie', 'Phil', nan, 'Oliviér', nan, 'Grady', nan, 'Lola', 'Chester', nan, 'Kobe', nan, nan, 'Freddery', nan, nan, 'Phil', nan, 'Lincoln', 'Sadie', 'Oscar', nan, 'Bodie', 'Dunkin', nan, 'Milo', nan, 'Wally', nan, 'Tupawc', nan, nan, 'Chester', 'Amber', 'Cody', nan, 'Herschel', nan, 'Edgar', nan, 'Teddy', 'Kingsley', 'Brockly', nan, nan, 'Richie', nan, 'Leo', 'Bailey', nan, 'Molly', nan, nan, nan, nan, nan, 'Buddy', 'Peaches', 'Vinscent', 'Cedrick', 'Hazel', nan, 'Lolo', 'Eriq', 'Phred', nan, 'Oddie', 'Maxwell', 'Geoff', nan, nan, 'Covach', nan, nan, 'Gizmo', 'Durg', 'Fynn', 'Luca', 'Ricky', 'Lucy', nan, nan, 'Carl', nan, 'Chipson', 'Herald', 'Lucky', 'Ferg', nan, 'Trip', nan, 'Clarence', nan, 'Hamrick', 'Brad', nan, 'Pubert', 'Frönq', nan, 'Louis', 'Derby', 'Lizzie', nan, 'Kilo', nan, 'Louis', nan, 'Trooper', 'Ember', 'Blakely', 'Opal', 'Marq', nan, 'Curtis', 'Kramer', 'Barry', 'Tyrone', nan, 'Gordon', 'Samson', 'Baxter', nan, nan, 'Jackson', nan, nan, nan, 'Mona', 'Olivia', 'Horace', nan, 'Crimson', 'Birf', nan, nan, 'Flávio', nan, nan, nan, 'Hammond', 'Lorelei', nan, 'Olive', nan, 'Marty', 'Brooks', 'Otis', nan, nan, nan, 'Rocky', nan, 'Petrick', 'Hubertson', 'Alfie', 'Gerbald', nan, 'Jerry', 'Oreo', 'Bruiser', nan, 'Perry', nan, nan, 'Theodore', nan, nan, 'Bobby', nan, 'Pippa', 'Jeph', 'Obi', nan, nan, nan, 'Tino', nan, 'Kulet', 'Sweets', nan, 'Lupe', 'Sadie', 'Tiger', 'Jiminy', nan, nan, 'Buddy', 'Sebastian', nan, 'Griffin', 'Banjo', nan, nan, 'Jack', nan, 'Brandy', 'Larry', nan, nan, 'Lulu', 'Darrel', nan, nan, 'Taco', nan, 'Joey', nan, nan, 'Patrick', 'Kreg', 'Brody', 'Todo', 'Jax', 'Samson', nan, 'Tess', nan, 'Ulysses', nan, 'Jimothy', 'Charlie', 'Bo', nan, 'Toffee', nan, 'Apollo', 'Carly', nan, 'Asher', 'Glacier', 'Chuck', nan, 'Sarge', 'Panda', 'Champ', nan, 'Aspen', nan, 'Ozzie', 'Alice', 'Sadie', 'Griswold', 'Cheesy', 'Ellie', nan, nan, 'Moofasa', 'Brody', 'Penny', 'Percy', nan, 'Hector', nan, 'CeCe', 'Toby', nan, nan, 'Goliath', 'Kawhi', 'Reggie', 'Ozzy', nan, nan, 'Emmie', 'Sammy', 'Penelope', 'Rocco', nan, 'Bruce', 'Willie', nan, 'Rinna', nan, 'Hunter', 'Mike', nan, nan, 'William', 'Dwight', 'Evy', 'Hurley', nan, 'Rubio', nan, 'Louis', nan, 'Chompsky', nan, 'Rascal', nan, 'Lola', nan, 'Linda', 'Tug', 'Mia', 'Wilson', 'Dash', 'Tango', nan, nan, 'Grizz', nan, 'Crystal', 'Jerome', nan, nan, 'Bella', 'Crumpet', nan, 'Rosie', nan, 'Jessifer', nan, 'Reese', 'Izzy', nan, nan, nan, 'Ralph', 'Sadie', nan, nan, nan, nan, 'Sandy', nan, nan, nan, 'Axel', nan, nan, 'Humphrey', 'Derek', 'Tassy', 'Juckson', nan, 'Chuq', nan, 'Cooper', nan, 'Tyrus', 'Karl', nan, nan, nan, nan, nan, 'Ash', nan, nan, 'Penny', nan, nan, nan, nan, 'Godzilla', nan, nan, 'Bubbles', 'Vinnie', nan, nan, 'Griffin', nan, nan, 'Duke', nan, 'Winston', 'Kenneth', 'Herm', nan, 'Bert', nan, 'Striker', nan, nan, nan, 'Donny', nan, nan, nan, nan, nan, 'Pepper', nan, nan, 'Bernie', 'Buddah', nan, 'Lenny', nan, nan, nan, 'Ellie', 'Sammy', nan, nan, 'Reggie', nan, nan, nan, nan, 'Daisy', nan, nan, nan, 'Arnold', nan, nan, nan, 'Coops', nan, 'Steven', 'Zuzu', 'Oliver', nan, nan, 'Moe', 'Mollie', 'Laela', nan, nan, 'Tedders', nan, nan, 'Maggie', nan, 'Superpup', nan, nan, nan, nan, 'Sophie', nan, nan, 'Rufio', 'Patrick', 'Jeb', 'Rodman', nan, nan, nan, nan, nan, 'Louis', nan, 'Bailey', 'Ava', 'Jonah', 'Lenny', 'Gary', 'Chesney', nan, 'Lennon', nan, 'Kenny', nan, 'Bob', 'Henry', 'Gus', 'Bobbay', nan, 'Mitch', 'Earl', 'Stanley', 'Lucy', nan, nan, 'Kaiya', 'Daisy', nan, 'Acro', 'Aiden', nan, nan, 'Obie', nan, nan, nan, nan, nan, nan, 'Riley', 'Raymond', 'Dot', nan, 'Pickles', nan, 'Larry', 'George', 'Shnuggles', 'Kendall', 'Albert', nan, 'Jeffri', 'Sandy', nan, nan, nan, 'Steve', 'Koda', nan, 'Bella', 'Gerald', nan, 'Django', 'Frankie', nan, 'Eve', 'Mac', nan, 'Dexter', 'Fletcher', 'Kenzie', 'Pumpkin', 'Schnozz', nan, nan, 'Chuckles', 'Chet', 'Gustaf', 'Terry', 'Jimison', 'Cheryl', nan, 'Oscar', 'Ed', 'Jerry', 'Leonidas', nan, 'Norman', 'Caryl', nan, 'Scott', 'Taz', nan, 'Darby', nan, 'Jackie', nan, 'Jazz', 'Buddy', 'Franq', 'Pippin', nan, 'Kreg', nan, 'Rolf', nan, 'Snickers', 'Ridley', nan, 'Cal', 'Opal', 'Bradley', 'Bubba', nan, nan, 'Tuco', 'Patch', 'Gizmo', 'Lola', 'Mojo', 'Batdog', 'Brad', 'Mia', 'Dylan', nan, nan, nan, 'Mark', nan, nan, 'Oscar', nan, nan, nan, 'Marley', nan, 'JD', 'Baxter', 'Reginald', nan, 'Jax', 'Alejandro', 'Scruffers', 'Hammond', 'Charlie', 'Pip', 'Julius', 'Malcolm', 'Penelope', nan, 'Tanner', nan, 'Lou', 'Lola', 'Sparky', nan, 'Herm', nan, 'Anthony', 'Holly', nan, nan, nan, nan, 'Clarence', nan, 'Phred', 'Toby', nan, nan, 'Colby', nan, 'Jett', 'Amy', nan, 'Remington', nan, 'Sage', 'Maggie', 'Andy', 'Mason', nan, 'Trigger', 'Antony', nan, 'Creg', nan, nan, 'Traviss', nan, 'Vincent', 'Gin', 'Jerry', 'Jeffrie', nan, 'Danny', 'Ester', 'Pluto', 'Bloo', 'Phineas', nan, 'Edd', nan, nan, nan, 'Paull', 'Koda', nan, 'Hank', 'Sam', 'Willy', nan, 'Herb', 'Damon', nan, 'Scooter', 'Peanut', 'Nigel', 'Larry', 'Daisy', nan, 'Butters', nan, nan, 'Sandra', 'Wally', nan, 'Fabio', 'Winston', 'Randall', 'Liam', 'Tommy', 'Ben', nan, nan, 'Raphael', 'Zoey', nan, 'Julio', 'Andru', nan, nan, 'Chester', 'Clarence', nan, 'Kloey', 'Louie', 'Shawwn', nan, 'Penny', nan, 'Skye', nan, 'Linda', 'Keith', 'Kollin', nan, 'Ronduh', 'Billl', 'Oliviér', 'Chip', nan, 'Saydee', 'Dug', 'Tessa', 'Sully', 'Kirk', nan, 'Ralf', 'Clarq', 'Jaspers', 'Samsom', nan, nan, 'Tucker', 'Terrance', nan, 'Harrison', 'Bernie', nan, 'Ruby', nan, 'Chaz', 'Jeremy', nan, 'Jaycob', nan, 'Herald', 'Lambeau', 'Ruffles', 'Amélie', 'Bobb', 'Banditt', nan, 'Kevon', 'Winifred', nan, nan, 'Hanz', nan, 'Churlie', 'Zeek', 'Timofy', 'Maks', 'Jomathan', 'Kallie', nan, nan, 'Marvin', nan, nan, 'Spark', 'Gòrdón', nan, 'Jo', nan, 'DayZ', nan, nan, nan, 'Rusty', 'Sophie', nan, 'Jareld', 'Bisquick', 'Torque', nan, nan, 'Ron', 'Skittles', nan, nan, nan, 'Alfie', nan, 'Jiminy', 'Otis', nan, 'Cleopatricia', 'Erik', 'Stu', 'Tedrick', nan, 'Shaggy', nan, nan, 'Filup', nan, nan, nan, nan, 'Calvin', 'Olive', nan, nan, 'George', 'Kial', nan, 'Frank', 'Naphaniel', nan, 'Dook', nan, 'Hall', 'Philippe', nan, nan, 'Reese', 'Cupcake', nan, nan, nan, 'Biden', 'Fwed', nan, 'Genevieve', 'Joshwa', nan, nan, 'Timison', nan, nan, 'Clarence', 'Kenneth', 'Churlie', 'Bradlay', 'Pipsy', nan, 'Gabe', 'Clybe', 'Dave', nan, nan, 'Keet', nan, 'Klevin', 'Carll', nan, nan, nan, nan, 'Jeph', 'Jockson', nan, nan, 'Josep', 'Lugan', nan, 'Christoper', nan, 'Jimothy', 'Kreggory', 'Scout', nan, nan, nan, nan, nan, 'Walter', nan, nan, nan, nan, nan, nan, nan, nan, nan, nan, nan, nan, nan, nan, nan, nan, nan, nan, nan, nan, nan, nan, nan, nan, nan, nan, nan, nan, nan, nan, 'Phineas', 'Tilly', 'Archie', 'Darla', 'Franklin', nan, 'Jax', nan, 'Zoey', 'Cassie', 'Koda', 'Bruno', nan, 'Ted', 'Stuart', 'Oliver', 'Jim', 'Zeke', 'Ralphus', 'Gerald', 'Jeffrey', nan, 'Canela', nan, nan, 'Maya', 'Mingus', 'Derek', 'Roscoe', nan, 'Waffles', 'Jimbo', 'Maisey', nan, nan, 'Earl', 'Lola', 'Kevin', nan, nan, 'Yogi', 'Noah', 'Bella', 'Grizzwald', nan, 'Rusty', 'Gus', 'Stanley', 'Alfy', 'Koko', 'Rey', 'Gary', nan, nan, 'Elliot', 'Louis', nan, 'Bella', 'Jesse', nan, 'Romeo', nan, 'Bailey', 'Duddles', 'Jack', 'Steven', 'Beau', 'Snoopy', nan, 'Shadow', 'Emmy', 'Aja', 'Penny', 'Dante', 'Nelly', 'Ginger', nan, 'Benedict', 'Venti', 'Goose', 'Nugget', nan, nan, 'Cash', 'Jed', nan, 'Sebastian', nan, 'Sierra', nan, nan, 'Monkey', nan, 'Harry', 'Kody', 'Lassie', 'Rover', 'Napolean', nan, 'Boomer', nan, nan, 'Cody', 'Zoey', 'Rumble', 'Clifford', 'Dewey', 'Stanley', 'Scout', 'Gizmo', 'Walter', nan, 'Cooper', nan, 'Harold', 'Shikha', nan, nan, 'Lili', 'Jamesy', 'Coco', 'Boomer', 'Sammy', 'Nelly', nan, 'Meatball', 'Paisley', 'Albus', 'Neptune', 'Belle', nan, nan, 'Quinn', 'Zooey', 'Dave', 'Jersey', nan, 'Hobbes', nan, 'Burt', 'Lorenzo', 'Carl', 'Jordy', nan, 'Milky', 'Trooper', nan, nan, nan, nan, 'Sophie', 'Wyatt', 'Rosie', 'Thor', nan, 'Oscar', nan, 'Zeke', 'Callie', nan, nan, 'Cermet', nan, nan, nan, nan, nan, nan, 'Marlee', 'Arya', 'Einstein', nan, nan, 'Alice', nan, 'Rumpole', 'Benny', 'Aspen', 'Jarod', 'Wiggles', 'General', 'Sailor', nan, 'Iggy', 'Snoop', 'Kyle', 'Leo', nan, 'Riley', 'Boomer', nan, 'Noosh', nan, 'Kevin', nan, 'Odin', nan, 'Jerry', 'Georgie', 'Rontu', nan, 'Cannon', 'Furzey', 'Daisy', nan, 'Tuck', 'Barney', nan, 'Vixen', nan, 'Jarvis', nan, nan, 'Mimosa', 'Pickles', nan, 'Brady', 'Luna', 'Charlie', 'Margo', nan, 'Sadie', 'Hank', 'Tycho', 'Charlie', 'Indie', 'Winnie', 'George', 'Bentley', 'Penny', nan, nan, 'Max', 'Dawn', nan, nan, 'Maddie', nan, 'Monty', 'Sojourner', 'Winston', 'Odie', nan, 'Arlo', 'Walter', 'Stanley', nan, nan, 'Daisy', nan, 'Waffles', 'Vincent', 'Lucy', 'Clark', 'Mookie', 'Meera', 'Oliver', 'Ava', 'Lucy', nan, 'Eli', 'Ash', 'Lola', nan, nan, nan, 'Tucker', 'Tobi', nan, 'Chester', 'Wilson', 'Sunshine', nan, 'Lipton', 'Bentley', 'Charlie', 'Bronte', 'Poppy', 'Gidget', 'Rhino', 'Willow', nan, nan, 'Orion', 'Eevee', 'Charlie', 'Smiley', nan, 'Miguel', 'Emanuel', nan, 'Kuyu', 'Daisy', nan, 'Dutch', 'Pete', nan, 'Scooter', 'Tucker', 'Reggie', 'Lilly', 'Samson', 'Mia', 'Leo', nan, 'Astrid', 'Malcolm', 'Dexter', 'Alfie', 'Fiona', nan, 'Mutt', 'Bear', 'Doobert', 'Beebop', 'Alexander', nan, 'Sailer', 'Brutus', 'Kona', 'Boots', 'Tucker', 'Ralphie', 'Charlie', 'Loki', 'Cupid', nan, 'Pawnd', 'Pilot', nan, nan, 'Ike', 'Mo', 'Toby', nan, 'Sweet', 'Pablo', 'Scooter', 'Wilson', nan, 'Nala', nan, 'Cash', 'Winston', 'Crawford', nan, 'Wyatt', 'Albus', nan, 'Hobbes', nan, 'Paisley', 'Gabe', nan, 'Jimison', 'Duchess', 'Harlso', 'Sundance', nan, 'Luca', nan, 'Flash', 'Sunny', nan, nan, nan, 'Oliver', nan, 'Howie', 'Jazzy', 'Anna', nan, 'Finn', 'Sunny', 'Bo', 'Wafer', 'Bear', 'Tom', 'Florence', 'Autumn', nan, 'Buddy', 'Dido', 'Eugene', 'Ken', 'Strudel', 'Tebow', nan, 'Chloe', 'Timber', 'Binky', 'Moose', 'Dudley', 'Comet', 'Jack', nan, 'Akumi', 'Titan', nan, 'Cooper', 'Olivia', 'Alf', 'Oshie', 'Chubbs', 'Gary', 'Sky', 'Atlas', nan, nan, 'Eleanor', 'Layla', nan, nan, nan, 'Toby', 'Rocky', 'Baron', 'Tyr', 'Bauer', 'Swagger', 'Brandi', nan, 'Mary', 'Moe', 'Ted', 'Halo', nan, 'Augie', 'Craig', 'Sam', 'Hunter', 'Pavlov', 'Phil', 'Gus', nan, nan, 'Kyro', 'Wallace', 'Ito', nan, 'Koda', 'Seamus', nan, 'Cooper', 'Ollie', 'Stephan', 'Lennon', nan, nan, 'Waffles', nan, 'Major', 'Duke', 'Zeke', 'Sansa', 'Shooter', 'Django', nan, 'Bo', 'Diogi', nan, 'Sonny', 'Winston', 'Marley', 'Bailey', 'Winnie', 'Severus', nan, 'Loki', 'Ronnie', nan, 'Wallace', nan, 'Milo', 'Bones', nan, 'Mauve', 'Chef', nan, 'Doc', 'Peaches', nan, 'Sobe', 'Longfellow', 'Jeffrey', 'Mister', 'Iroh', 'Shadow', 'Cooper', nan, 'Cassie', 'Pancake', nan, 'Tyr', 'Romeo', nan, 'Snicku', 'Ruby', nan, nan, 'Yogi', 'Daisy', nan, 'Brody', 'Bailey', 'Mack', 'Nimbus', 'Laika', 'Maximus', 'Clark', 'Dobby', 'Fiona', 'Moreton', 'Dave', nan, 'Tucker', 'Juno', 'Maude', 'Lily', 'Newt', 'Benji', 'Nida', nan, 'Robin', nan, 'Bailey', 'Monster', 'BeBe', 'Remus', nan, nan, 'Levi', 'Mabel', 'Misty', 'Betty', 'Mosby', 'Duke', 'Maggie', 'Bruce', 'Happy', 'Ralphy', 'Eli', 'Brownie', 'Rizzy', nan, 'Stella', 'Bo', 'Lucy', 'Butter', 'Dexter', nan, 'Leo', nan, 'Frank', 'Tonks', 'Moose', 'Lincoln', 'Rory', 'Logan', nan, 'Dale', 'Rizzo', 'Arnie', 'Mattie', nan, 'Lucy', 'Rusty', 'Pinot', 'Dallas', nan, 'Doc', 'Hero', 'Rusty', 'Frankie', 'Stormy', 'Reginald', 'Balto', 'Riley', 'Mairi', 'Loomis', 'Finn', 'Godi', 'Dave', 'Earl', 'Cali', 'Deacon', 'Penny', 'Timmy', 'Sampson', 'Chipson', nan, 'Combo', nan, nan, 'Oakley', nan, nan, 'Dash', 'Koda', 'Hercules', nan, 'Bear', nan, nan, 'Scout', nan, 'Reggie', nan, 'Jay', nan, 'Mya', 'Strider', 'Penny', nan, 'Nala', 'Stanley', nan, 'Sophie', 'Wesley', nan, 'Derek', 'Jeffrey', 'Solomon', 'Huck', nan, 'O', 'Sampson', nan, 'Blue', 'Anakin', nan, 'Finley', 'Maximus', 'Tucker', 'Finley', 'Sprinkles', nan, 'Winnie', 'Heinrich', 'Loki', 'Shakespeare', 'Chelsea', 'Bungalo', 'Chip', 'Grey', nan, 'Roosevelt', nan, 'Willem', nan, 'Jack', 'Finn', 'Penny', nan, 'Davey', 'Dakota', 'Fizz', 'Dixie', 'Charlie', nan, 'Winston', 'Sebastian', nan, 'Al', 'Jackson', 'Carbon', 'Klein', 'Titan', 'DonDon', 'Kirby', 'Jesse', 'Lou', 'Oakley', 'Chevy', 'Gerald', 'Tito', 'Philbert', 'Louie', nan, 'Rupert', 'Rufus', nan, 'Brudge', 'Shadoe', 'Oscar', 'Juno', 'Angel', 'Brat', 'Tove', nan, 'Louie', 'Gromit', 'Aubie', 'Kota', nan, 'Alfie', 'Clark', 'Belle', 'Leela', 'Glenn', 'Buddy', 'Scout', nan, 'Shelby', nan, nan, 'Sephie', 'Bruce', 'Bonaparte', 'Albert', 'Bo', 'Wishes', 'Rose', 'Theo', 'Atlas', nan, 'Rocco', 'Fido', 'Sadie', nan, nan, 'Kirby', 'Maggie', 'Emma', 'Oakley', nan, 'Luna', 'Toby', 'Spencer', 'Lilli', nan, 'Boston', 'Brandonald', nan, 'Odie', 'Corey', nan, nan, 'Leonard', 'Beckham', 'Cooper', nan, nan, nan, 'Devón', 'Oliver', 'Jax', 'Gert', nan, nan, nan, nan, nan, nan, 'Watson', 'Winnie', 'Keith', 'Milo', 'Dex', nan, 'Charlie', nan, nan, 'Scout', 'Hank', 'Ace', nan, 'Tayzie', 'Carl', 'Grizzie', nan, nan, nan, nan, nan, 'Brody', 'Lola', 'Ruby', 'Tucker', 'Fred', 'Toby', nan, 'Max', nan, 'Gilbert', nan, 'Cooper', 'Milo', 'Meyer', 'Malcolm', 'Arnie', 'Zoe', nan, nan, 'Stewie', 'Calvin', 'Lilah', 'Spanky', nan, 'Jameson', 'Beau', 'Jax', 'Piper', 'Bo', 'Atticus', 'Lucy', 'Finn', nan, 'George', 'Blu', 'Boomer', 'Winston', 'Dietrich', nan, 'Divine', nan, 'Tripp', nan, nan, 'Cora', nan, nan, 'Duke', nan, nan, nan, nan, nan, 'Huxley', nan, nan, 'Keurig', 'Bookstore', nan, nan, nan, 'Linus', 'Atticus', 'Clark', nan, nan, nan, nan, nan, 'Maddie', 'Abby', nan, 'Shiloh', nan, 'Gustav', 'Arlen', 'Gus', 'Percy', 'Lenox', nan, 'Sugar', 'Jeffrey', 'Oliver', 'Abby', 'Indie', 'Harvey', 'Blanket', nan, nan, 'Geno', nan, 'Stark', 'Harold', 'Bentley', 'Beya', 'Kilo', nan, 'Kayla', nan, 'Maxaroni', nan, 'Bell', 'Phil', 'Doug', 'Edmund', nan, 'Aqua', 'Tucker', 'Theodore', 'Ted', nan, 'Leo', nan, 'Chip', 'Baloo', nan, nan, 'Chase', nan, 'Nollie', 'Rorie', 'Simba', nan, 'Benji', nan, 'Kyle', nan, nan, 'Charles', nan, 'Bayley', nan, nan, 'Axel', 'Storkson', 'Remy', 'Bella', nan, nan, 'Lily', nan, 'Chadrick', nan, 'Rory', nan, nan, 'Maxaroni', nan, 'Dakota', nan, 'Kellogg', 'Buckley', 'Jax', nan, 'Livvie', nan, 'Terry', 'Moose', nan, 'Hermione', nan, 'Ralpher', 'Aldrick', nan, 'Kyle', 'Larry', 'Solomon', nan, nan, 'Rooney', 'Crystal', 'Ziva', 'Charles', 'Ollie', nan, 'Stefan', 'Pupcasso', nan, 'Puff', nan, 'Flurpson', 'Coleman', 'Wallace', 'Enchilada', 'Raymond', nan, 'Rueben', 'Cilantro', nan, nan, nan, nan, 'Karll', nan, 'Sprout', 'Blitz', 'Bloop', nan, 'Colby', 'Lillie', 'Lola', nan, 'Fred', nan, 'Ashleigh', 'Kreggory', 'Sarge', 'Luther', 'Sugar', 'Reginald', 'Ivar', 'Jangle', nan, 'Schnitzel', 'Panda', 'Oliver', 'Archie', 'Berkeley', nan, 'Ralphé', 'Derek', 'Charleson', 'Neptune', nan, 'Clyde', 'Harnold', 'Sid', 'Lucy', 'Pippa', 'Sadie', 'Otis', nan, 'Carper', nan, 'Bowie', nan, 'Alexanderson', 'Suki', 'Barclay', nan, nan, 'Skittle', 'Ebby', 'Flávio', 'Smokey', 'Link', 'Jennifur', nan, 'Ozzy', 'Bluebert', 'Stephanus', nan, 'Bubbles', nan, nan, 'Bentley', 'Toby', 'Zeus', 'Bertson', 'Oscar', 'Nico', 'Michelangelope', 'Siba', 'Calbert', nan, 'Curtis', 'Benedict', nan, 'Blitz', 'Travis', 'Thumas', nan, nan, 'Kanu', 'Doug', nan, 'Piper', nan, 'Lance', 'Opie', 'Stubert', nan, 'Sunny', 'Kane', nan, nan, 'Steven', 'Olive', 'Chester', 'Winston', 'Roosevelt', nan, nan, 'Gary', nan, nan, 'Chuckles', 'Milo', 'Staniel', 'Sora', nan, nan, 'Beemo', 'Oshie', 'Gunner', nan, nan, 'Lacy', 'Tater', nan, 'Watson', nan, nan, 'Olaf', 'Cecil', 'Vince', 'Karma', 'Billy', 'Walker', 'Penny', nan, 'Sammy', 'Rodney', 'Klevin', 'Lucy', nan, 'Malikai', 'Mister', 'Coco', 'Smokey', 'Bear', 'Bobble', nan, 'Oliver', 'River', 'Jebberson', nan, 'Cooper', 'Remington', nan, 'Farfle', nan, 'Rufus', 'Sadie', nan, nan, 'Jiminus', nan, 'Harper', 'Keurig', nan, 'Clarkus', nan, 'Finnegus', 'Cassie', 'Cupcake', 'Kathmandu', 'Tucker', 'Ellie', nan, 'Elliot', 'Katie', 'Shadow', nan, 'Oliver', nan, 'Koda', nan, nan, 'Kara', nan, 'Dexter', 'Layla', 'Adele', 'Lucy', 'Max', nan, nan, 'Zara', 'Cooper', 'Ambrose', 'Jimothy', 'Bode', 'Terrenth', 'Reese', nan, nan, nan, 'Chesterson', nan, nan, nan, 'Lucia', 'Bisquick', 'Ralphson', nan, 'Stanley', nan, nan, nan, 'Bella', 'Scooter', nan, nan, 'Charlie', 'Socks', nan, nan, nan, 'Chip', 'Luna', 'Lucy', 'Rambo', 'Sansa', nan, 'Rudy', nan, nan, nan, 'Fiji', 'Rilo', 'Bilbo', nan, 'Coopson', 'Yoda', 'Millie', nan, 'Chet', nan, 'Crouton', 'Daniel', nan, 'Vincent', 'Kaia', 'Murphy', 'Dotsy', nan, nan, 'Eazy', 'Coops', 'Thumas', 'Cooper', 'Nala', nan, 'Fillup', 'Dave', 'Archie', nan, nan, 'Miley', 'Calbert', nan, 'Charl', 'Reagan', nan, 'Yukon', nan, 'Oliver', 'CeCe', nan, 'Cuddles', 'Rusty', nan, 'Claude', 'Jessiga', 'Maximus', 'Franklin', 'Beau', 'Lily', nan, 'Doug', 'Cassie', 'Carter', nan, nan, nan, 'Ole', 'Pherb', 'Blipson', nan, 'Bentley', nan, 'Charlie', 'Oakley', 'Rosie', nan, nan, 'Misty', 'Reptar', 'Klevin', 'Trevith', nan, nan, nan, 'Berb', nan, nan, 'Wyatt', nan, 'Calvin', nan, 'Bob', 'Colin', nan, 'Lorenzo', nan, 'Brian', nan, 'Archie', 'Phil', nan, 'Oliviér', nan, 'Grady', nan, 'Lola', 'Chester', nan, 'Kobe', nan, nan, 'Freddery', nan, nan, 'Phil', nan, 'Lincoln', 'Sadie', 'Oscar', nan, 'Bodie', 'Dunkin', nan, 'Milo', nan, 'Wally', nan, 'Tupawc', nan, nan, 'Chester', 'Amber', 'Cody', nan, 'Herschel', nan, 'Edgar', nan, 'Teddy', 'Kingsley', 'Brockly', nan, nan, 'Richie', nan, 'Leo', 'Bailey', nan, 'Molly', nan, nan, nan, nan, nan, 'Buddy', 'Peaches', 'Vinscent', 'Cedrick', 'Hazel', nan, 'Lolo', 'Eriq', 'Phred', nan, 'Oddie', 'Maxwell', 'Geoff', nan, nan, 'Covach', nan, nan, 'Gizmo', 'Durg', 'Fynn', 'Luca', 'Ricky', 'Lucy', nan, nan, 'Carl', nan, 'Chipson', 'Herald', 'Lucky', 'Ferg', nan, 'Trip', nan, 'Clarence', nan, 'Hamrick', 'Brad', nan, 'Pubert', 'Frönq', nan, 'Louis', 'Derby', 'Lizzie', nan, 'Kilo', nan, 'Louis', nan, 'Trooper', 'Ember', 'Blakely', 'Opal', 'Marq', nan, 'Curtis', 'Kramer', 'Barry', 'Tyrone', nan, 'Gordon', 'Samson', 'Baxter', nan, nan, 'Jackson', nan, nan, nan, 'Mona', 'Olivia', 'Horace', nan, 'Crimson', 'Birf', nan, nan, 'Flávio', nan, nan, nan, 'Hammond', 'Lorelei', nan, 'Olive', nan, 'Marty', 'Brooks', 'Otis', nan, nan, nan, 'Rocky', nan, 'Petrick', 'Hubertson', 'Alfie', 'Gerbald', nan, 'Jerry', 'Oreo', 'Bruiser', nan, 'Perry', nan, nan, 'Theodore', nan, nan, 'Bobby', nan, 'Pippa', 'Jeph', 'Obi', nan, nan, nan, 'Tino', nan, 'Kulet', 'Sweets', nan, 'Lupe', 'Sadie', 'Tiger', 'Jiminy', nan, nan, 'Buddy', 'Sebastian', nan, 'Griffin', 'Banjo', nan, nan, 'Jack', nan, 'Brandy', 'Larry', nan, nan, 'Lulu', 'Darrel', nan, nan, 'Taco', nan, 'Joey', nan, nan, 'Patrick', 'Kreg', 'Brody', 'Todo', 'Jax', 'Samson', nan, 'Tess', nan, 'Ulysses', nan, 'Jimothy', 'Charlie', 'Bo', nan, 'Toffee', nan, 'Apollo', 'Carly', nan, 'Asher', 'Glacier', 'Chuck', nan, 'Sarge', 'Panda', 'Champ', nan, 'Aspen', nan, 'Ozzie', 'Alice', 'Sadie', 'Griswold', 'Cheesy', 'Ellie', nan, nan, 'Moofasa', 'Brody', 'Penny', 'Percy', nan, 'Hector', nan, 'CeCe', 'Toby', nan, nan, 'Goliath', 'Kawhi', 'Reggie', 'Ozzy', nan, nan, 'Emmie', 'Sammy', 'Penelope', 'Rocco', nan, 'Bruce', 'Willie', nan, 'Rinna', nan, 'Hunter', 'Mike', nan, nan, 'William', 'Dwight', 'Evy', 'Hurley', nan, 'Rubio', nan, 'Louis', nan, 'Chompsky', nan, 'Rascal', nan, 'Lola', nan, 'Linda', 'Tug', 'Mia', 'Wilson', 'Dash', 'Tango', nan, nan, 'Grizz', nan, 'Crystal', 'Jerome', nan, nan, 'Bella', 'Crumpet', nan, 'Rosie', nan, 'Jessifer', nan, 'Reese', 'Izzy', nan, nan, nan, 'Ralph', 'Sadie', nan, nan, nan, nan, 'Sandy', nan, nan, nan, 'Axel', nan, nan, 'Humphrey', 'Derek', 'Tassy', 'Juckson', nan, 'Chuq', nan, 'Cooper', nan, 'Tyrus', 'Karl', nan, nan, nan, nan, nan, 'Ash', nan, nan, 'Penny', nan, nan, nan, nan, 'Godzilla', nan, nan, 'Bubbles', 'Vinnie', nan, nan, 'Griffin', nan, nan, 'Duke', nan, 'Winston', 'Kenneth', 'Herm', nan, 'Bert', nan, 'Striker', nan, nan, nan, 'Donny', nan, nan, nan, nan, nan, 'Pepper', nan, nan, 'Bernie', 'Buddah', nan, 'Lenny', nan, nan, nan, 'Ellie', 'Sammy', nan, nan, 'Reggie', nan, nan, nan, nan, 'Daisy', nan, nan, nan, 'Arnold', nan, nan, nan, 'Coops', nan, 'Steven', 'Zuzu', 'Oliver', nan, nan, 'Moe', 'Mollie', 'Laela', nan, nan, 'Tedders', nan, nan, 'Maggie', nan, 'Superpup', nan, nan, nan, nan, 'Sophie', nan, nan, 'Rufio', 'Patrick', 'Jeb', 'Rodman', nan, nan, nan, nan, nan, 'Louis', nan, 'Bailey', 'Ava', 'Jonah', 'Lenny', 'Gary', 'Chesney', nan, 'Lennon', nan, 'Kenny', nan, 'Bob', 'Henry', 'Gus', 'Bobbay', nan, 'Mitch', 'Earl', 'Stanley', 'Lucy', nan, nan, 'Kaiya', 'Daisy', nan, 'Acro', 'Aiden', nan, nan, 'Obie', nan, nan, nan, nan, nan, nan, 'Riley', 'Raymond', 'Dot', nan, 'Pickles', nan, 'Larry', 'George', 'Shnuggles', 'Kendall', 'Albert', nan, 'Jeffri', 'Sandy', nan, nan, nan, 'Steve', 'Koda', nan, 'Bella', 'Gerald', nan, 'Django', 'Frankie', nan, 'Eve', 'Mac', nan, 'Dexter', 'Fletcher', 'Kenzie', 'Pumpkin', 'Schnozz', nan, nan, 'Chuckles', 'Chet', 'Gustaf', 'Terry', 'Jimison', 'Cheryl', nan, 'Oscar', 'Ed', 'Jerry', 'Leonidas', nan, 'Norman', 'Caryl', nan, 'Scott', 'Taz', nan, 'Darby', nan, 'Jackie', nan, 'Jazz', 'Buddy', 'Franq', 'Pippin', nan, 'Kreg', nan, 'Rolf', nan, 'Snickers', 'Ridley', nan, 'Cal', 'Opal', 'Bradley', 'Bubba', nan, nan, 'Tuco', 'Patch', 'Gizmo', 'Lola', 'Mojo', 'Batdog', 'Brad', 'Mia', 'Dylan', nan, nan, nan, 'Mark', nan, nan, 'Oscar', nan, nan, nan, 'Marley', nan, 'JD', 'Baxter', 'Reginald', nan, 'Jax', 'Alejandro', 'Scruffers', 'Hammond', 'Charlie', 'Pip', 'Julius', 'Malcolm', 'Penelope', nan, 'Tanner', nan, 'Lou', 'Lola', 'Sparky', nan, 'Herm', nan, 'Anthony', 'Holly', nan, nan, nan, nan, 'Clarence', nan, 'Phred', 'Toby', nan, nan, 'Colby', nan, 'Jett', 'Amy', nan, 'Remington', nan, 'Sage', 'Maggie', 'Andy', 'Mason', nan, 'Trigger', 'Antony', nan, 'Creg', nan, nan, 'Traviss', nan, 'Vincent', 'Gin', 'Jerry', 'Jeffrie', nan, 'Danny', 'Ester', 'Pluto', 'Bloo', 'Phineas', nan, 'Edd', nan, nan, nan, 'Paull', 'Koda', nan, 'Hank', 'Sam', 'Willy', nan, 'Herb', 'Damon', nan, 'Scooter', 'Peanut', 'Nigel', 'Larry', 'Daisy', nan, 'Butters', nan, nan, 'Sandra', 'Wally', nan, 'Fabio', 'Winston', 'Randall', 'Liam', 'Tommy', 'Ben', nan, nan, 'Raphael', 'Zoey', nan, 'Julio', 'Andru', nan, nan, 'Chester', 'Clarence', nan, 'Kloey', 'Louie', 'Shawwn', nan, 'Penny', nan, 'Skye', nan, 'Linda', 'Keith', 'Kollin', nan, 'Ronduh', 'Billl', 'Oliviér', 'Chip', nan, 'Saydee', 'Dug', 'Tessa', 'Sully', 'Kirk', nan, 'Ralf', 'Clarq', 'Jaspers', 'Samsom', nan, nan, 'Tucker', 'Terrance', nan, 'Harrison', 'Bernie', nan, 'Ruby', nan, 'Chaz', 'Jeremy', nan, 'Jaycob', nan, 'Herald', 'Lambeau', 'Ruffles', 'Amélie', 'Bobb', 'Banditt', nan, 'Kevon', 'Winifred', nan, nan, 'Hanz', nan, 'Churlie', 'Zeek', 'Timofy', 'Maks', 'Jomathan', 'Kallie', nan, nan, 'Marvin', nan, nan, 'Spark', 'Gòrdón', nan, 'Jo', nan, 'DayZ', nan, nan, nan, 'Rusty', 'Sophie', nan, 'Jareld', 'Bisquick', 'Torque', nan, nan, 'Ron', 'Skittles', nan, nan, nan, 'Alfie', nan, 'Jiminy', 'Otis', nan, 'Cleopatricia', 'Erik', 'Stu', 'Tedrick', nan, 'Shaggy', nan, nan, 'Filup', nan, nan, nan, nan, 'Calvin', 'Olive', nan, nan, 'George', 'Kial', nan, 'Frank', 'Naphaniel', nan, 'Dook', nan, 'Hall', 'Philippe', nan, nan, 'Reese', 'Cupcake', nan, nan, nan, 'Biden', 'Fwed', nan, 'Genevieve', 'Joshwa', nan, nan, 'Timison', nan, nan, 'Clarence', 'Kenneth', 'Churlie', 'Bradlay', 'Pipsy', nan, 'Gabe', 'Clybe', 'Dave', nan, nan, 'Keet', nan, 'Klevin', 'Carll', nan, nan, nan, nan, 'Jeph', 'Jockson', nan, nan, 'Josep', 'Lugan', nan, 'Christoper', nan, 'Jimothy', 'Kreggory', 'Scout', nan, nan, nan, nan, nan, 'Walter', nan, nan, nan, nan, nan, nan, nan, nan, nan, nan, nan, nan, nan, nan, nan, nan, nan, nan, nan, nan, nan, nan, nan, nan, nan, nan, nan, nan, nan, nan]\n"
     ]
    }
   ],
   "source": [
    "print(list(dog_archive_clean.name))"
   ]
  },
  {
   "cell_type": "markdown",
   "metadata": {},
   "source": [
    "### Define:\n",
    "\n",
    "Merge the 3 cleaned dataset now\n",
    "\n",
    "### Code:"
   ]
  },
  {
   "cell_type": "code",
   "execution_count": 96,
   "metadata": {},
   "outputs": [],
   "source": [
    "# merge the dataframes\n",
    "full_tweet_df = pd.merge(dog_archive_clean, image_df_clean, how = 'inner', on = ['tweet_id'] )\n",
    "full_tweet_df = pd.merge(full_tweet_df, twitter_api_clean, how = 'inner', on = ['tweet_id'])\n",
    "full_tweet_df.to_csv('full_tweet.csv', encoding = 'utf-8')"
   ]
  },
  {
   "cell_type": "markdown",
   "metadata": {},
   "source": [
    "### Test"
   ]
  },
  {
   "cell_type": "code",
   "execution_count": 97,
   "metadata": {},
   "outputs": [
    {
     "data": {
      "text/plain": [
       "((6552, 24), (8700, 7), (2075, 12), (1945, 7))"
      ]
     },
     "execution_count": 97,
     "metadata": {},
     "output_type": "execute_result"
    }
   ],
   "source": [
    "# Test the change above\n",
    "\n",
    "full_tweet_df.shape, dog_archive_clean.shape, image_df_clean.shape, twitter_api_clean.shape"
   ]
  },
  {
   "cell_type": "code",
   "execution_count": 98,
   "metadata": {},
   "outputs": [
    {
     "name": "stdout",
     "output_type": "stream",
     "text": [
      "<class 'pandas.core.frame.DataFrame'>\n",
      "Int64Index: 6552 entries, 0 to 6551\n",
      "Data columns (total 24 columns):\n",
      " #   Column              Non-Null Count  Dtype              \n",
      "---  ------              --------------  -----              \n",
      " 0   tweet_id            6552 non-null   object             \n",
      " 1   source              6552 non-null   category           \n",
      " 2   expanded_urls       6552 non-null   object             \n",
      " 3   rating_numerator    6552 non-null   int64              \n",
      " 4   rating_denominator  6552 non-null   int64              \n",
      " 5   name                4580 non-null   object             \n",
      " 6   dog_stages          244 non-null    category           \n",
      " 7   jpg_url             6552 non-null   object             \n",
      " 8   img_num             6552 non-null   int64              \n",
      " 9   p1                  6552 non-null   object             \n",
      " 10  p1_conf             6552 non-null   float64            \n",
      " 11  p1_dog              6552 non-null   bool               \n",
      " 12  p2                  6552 non-null   object             \n",
      " 13  p2_conf             6552 non-null   float64            \n",
      " 14  p2_dog              6552 non-null   bool               \n",
      " 15  p3                  6552 non-null   object             \n",
      " 16  p3_conf             6552 non-null   float64            \n",
      " 17  p3_dog              6552 non-null   bool               \n",
      " 18  favorite_count      6552 non-null   int64              \n",
      " 19  retweet_count       6552 non-null   int64              \n",
      " 20  created_at          6552 non-null   datetime64[ns, UTC]\n",
      " 21  full_text           6552 non-null   object             \n",
      " 22  date                6552 non-null   object             \n",
      " 23  time                6552 non-null   object             \n",
      "dtypes: bool(3), category(2), datetime64[ns, UTC](1), float64(3), int64(5), object(10)\n",
      "memory usage: 1.0+ MB\n"
     ]
    }
   ],
   "source": [
    "full_tweet_df.info()"
   ]
  },
  {
   "cell_type": "markdown",
   "metadata": {},
   "source": [
    "<a id='store'></a>\n",
    "\n",
    "# 4. Store Data"
   ]
  },
  {
   "cell_type": "code",
   "execution_count": 99,
   "metadata": {},
   "outputs": [],
   "source": [
    "full_tweet_df.to_csv('twitter_archive_master.csv', index = False, encoding='utf-8')"
   ]
  },
  {
   "cell_type": "markdown",
   "metadata": {},
   "source": [
    "<a id='analysis'></a>\n",
    "\n",
    "# 5. Data Analysis and Visualization"
   ]
  },
  {
   "cell_type": "code",
   "execution_count": 100,
   "metadata": {},
   "outputs": [],
   "source": [
    "df_tweet = pd.read_csv('twitter_archive_master.csv')"
   ]
  },
  {
   "cell_type": "code",
   "execution_count": 101,
   "metadata": {},
   "outputs": [
    {
     "data": {
      "text/html": [
       "<div>\n",
       "<style scoped>\n",
       "    .dataframe tbody tr th:only-of-type {\n",
       "        vertical-align: middle;\n",
       "    }\n",
       "\n",
       "    .dataframe tbody tr th {\n",
       "        vertical-align: top;\n",
       "    }\n",
       "\n",
       "    .dataframe thead th {\n",
       "        text-align: right;\n",
       "    }\n",
       "</style>\n",
       "<table border=\"1\" class=\"dataframe\">\n",
       "  <thead>\n",
       "    <tr style=\"text-align: right;\">\n",
       "      <th></th>\n",
       "      <th>tweet_id</th>\n",
       "      <th>source</th>\n",
       "      <th>expanded_urls</th>\n",
       "      <th>rating_numerator</th>\n",
       "      <th>rating_denominator</th>\n",
       "      <th>name</th>\n",
       "      <th>dog_stages</th>\n",
       "      <th>jpg_url</th>\n",
       "      <th>img_num</th>\n",
       "      <th>p1</th>\n",
       "      <th>...</th>\n",
       "      <th>p2_dog</th>\n",
       "      <th>p3</th>\n",
       "      <th>p3_conf</th>\n",
       "      <th>p3_dog</th>\n",
       "      <th>favorite_count</th>\n",
       "      <th>retweet_count</th>\n",
       "      <th>created_at</th>\n",
       "      <th>full_text</th>\n",
       "      <th>date</th>\n",
       "      <th>time</th>\n",
       "    </tr>\n",
       "  </thead>\n",
       "  <tbody>\n",
       "    <tr>\n",
       "      <th>0</th>\n",
       "      <td>892420643555336193</td>\n",
       "      <td>Twitter for iPhone</td>\n",
       "      <td>https://twitter.com/dog_rates/status/892420643...</td>\n",
       "      <td>13</td>\n",
       "      <td>10</td>\n",
       "      <td>Phineas</td>\n",
       "      <td>NaN</td>\n",
       "      <td>https://pbs.twimg.com/media/DGKD1-bXoAAIAUK.jpg</td>\n",
       "      <td>1</td>\n",
       "      <td>Orange</td>\n",
       "      <td>...</td>\n",
       "      <td>False</td>\n",
       "      <td>Banana</td>\n",
       "      <td>0.07611</td>\n",
       "      <td>False</td>\n",
       "      <td>33771</td>\n",
       "      <td>6996</td>\n",
       "      <td>2017-08-01 16:23:56+00:00</td>\n",
       "      <td>This is Phineas. He's a mystical boy. Only eve...</td>\n",
       "      <td>2017-08-01</td>\n",
       "      <td>16:23:56</td>\n",
       "    </tr>\n",
       "    <tr>\n",
       "      <th>1</th>\n",
       "      <td>892420643555336193</td>\n",
       "      <td>Twitter for iPhone</td>\n",
       "      <td>https://twitter.com/dog_rates/status/892420643...</td>\n",
       "      <td>13</td>\n",
       "      <td>10</td>\n",
       "      <td>Phineas</td>\n",
       "      <td>NaN</td>\n",
       "      <td>https://pbs.twimg.com/media/DGKD1-bXoAAIAUK.jpg</td>\n",
       "      <td>1</td>\n",
       "      <td>Orange</td>\n",
       "      <td>...</td>\n",
       "      <td>False</td>\n",
       "      <td>Banana</td>\n",
       "      <td>0.07611</td>\n",
       "      <td>False</td>\n",
       "      <td>33771</td>\n",
       "      <td>6996</td>\n",
       "      <td>2017-08-01 16:23:56+00:00</td>\n",
       "      <td>This is Phineas. He's a mystical boy. Only eve...</td>\n",
       "      <td>2017-08-01</td>\n",
       "      <td>16:23:56</td>\n",
       "    </tr>\n",
       "    <tr>\n",
       "      <th>2</th>\n",
       "      <td>892420643555336193</td>\n",
       "      <td>Twitter for iPhone</td>\n",
       "      <td>https://twitter.com/dog_rates/status/892420643...</td>\n",
       "      <td>13</td>\n",
       "      <td>10</td>\n",
       "      <td>Phineas</td>\n",
       "      <td>NaN</td>\n",
       "      <td>https://pbs.twimg.com/media/DGKD1-bXoAAIAUK.jpg</td>\n",
       "      <td>1</td>\n",
       "      <td>Orange</td>\n",
       "      <td>...</td>\n",
       "      <td>False</td>\n",
       "      <td>Banana</td>\n",
       "      <td>0.07611</td>\n",
       "      <td>False</td>\n",
       "      <td>33771</td>\n",
       "      <td>6996</td>\n",
       "      <td>2017-08-01 16:23:56+00:00</td>\n",
       "      <td>This is Phineas. He's a mystical boy. Only eve...</td>\n",
       "      <td>2017-08-01</td>\n",
       "      <td>16:23:56</td>\n",
       "    </tr>\n",
       "  </tbody>\n",
       "</table>\n",
       "<p>3 rows × 24 columns</p>\n",
       "</div>"
      ],
      "text/plain": [
       "             tweet_id              source  \\\n",
       "0  892420643555336193  Twitter for iPhone   \n",
       "1  892420643555336193  Twitter for iPhone   \n",
       "2  892420643555336193  Twitter for iPhone   \n",
       "\n",
       "                                       expanded_urls  rating_numerator  \\\n",
       "0  https://twitter.com/dog_rates/status/892420643...                13   \n",
       "1  https://twitter.com/dog_rates/status/892420643...                13   \n",
       "2  https://twitter.com/dog_rates/status/892420643...                13   \n",
       "\n",
       "   rating_denominator     name dog_stages  \\\n",
       "0                  10  Phineas        NaN   \n",
       "1                  10  Phineas        NaN   \n",
       "2                  10  Phineas        NaN   \n",
       "\n",
       "                                           jpg_url  img_num      p1  ...  \\\n",
       "0  https://pbs.twimg.com/media/DGKD1-bXoAAIAUK.jpg        1  Orange  ...   \n",
       "1  https://pbs.twimg.com/media/DGKD1-bXoAAIAUK.jpg        1  Orange  ...   \n",
       "2  https://pbs.twimg.com/media/DGKD1-bXoAAIAUK.jpg        1  Orange  ...   \n",
       "\n",
       "   p2_dog      p3  p3_conf  p3_dog  favorite_count retweet_count  \\\n",
       "0   False  Banana  0.07611   False           33771          6996   \n",
       "1   False  Banana  0.07611   False           33771          6996   \n",
       "2   False  Banana  0.07611   False           33771          6996   \n",
       "\n",
       "                  created_at  \\\n",
       "0  2017-08-01 16:23:56+00:00   \n",
       "1  2017-08-01 16:23:56+00:00   \n",
       "2  2017-08-01 16:23:56+00:00   \n",
       "\n",
       "                                           full_text        date      time  \n",
       "0  This is Phineas. He's a mystical boy. Only eve...  2017-08-01  16:23:56  \n",
       "1  This is Phineas. He's a mystical boy. Only eve...  2017-08-01  16:23:56  \n",
       "2  This is Phineas. He's a mystical boy. Only eve...  2017-08-01  16:23:56  \n",
       "\n",
       "[3 rows x 24 columns]"
      ]
     },
     "execution_count": 101,
     "metadata": {},
     "output_type": "execute_result"
    }
   ],
   "source": [
    "df_tweet.head(3)"
   ]
  },
  {
   "cell_type": "code",
   "execution_count": 102,
   "metadata": {},
   "outputs": [
    {
     "data": {
      "text/plain": [
       "Text(0, 0.5, 'Number of tweets')"
      ]
     },
     "execution_count": 102,
     "metadata": {},
     "output_type": "execute_result"
    },
    {
     "data": {
      "image/png": "[encoded data removed]",
      "text/plain": [
       "<Figure size 432x432 with 1 Axes>"
      ]
     },
     "metadata": {
      "needs_background": "light"
     },
     "output_type": "display_data"
    }
   ],
   "source": [
    "# Most used kind of device\n",
    "plot = df_tweet['source'].value_counts().plot(kind = 'bar', figsize = (6,6))\n",
    "plot.set_ylabel('Number of tweets')"
   ]
  },
  {
   "cell_type": "code",
   "execution_count": 103,
   "metadata": {},
   "outputs": [
    {
     "data": {
      "image/png": "[encoded data removed]",
      "text/plain": [
       "<Figure size 432x288 with 1 Axes>"
      ]
     },
     "metadata": {
      "needs_background": "light"
     },
     "output_type": "display_data"
    },
    {
     "data": {
      "text/plain": [
       "<Figure size 1080x1224 with 0 Axes>"
      ]
     },
     "metadata": {},
     "output_type": "display_data"
    }
   ],
   "source": [
    "import seaborn as sns\n",
    "import matplotlib.pyplot as plt\n",
    "\n",
    "# dog stages with the most used device\n",
    "\n",
    "p = sns.countplot(x = \"source\", data = df_tweet, hue = \"dog_stages\")\n",
    "sns.set_theme(style = \"ticks\", color_codes = True)\n",
    "p.set_title(\"Most Used Device\")\n",
    "p.set_xlabel('Devices used the most')\n",
    "plt.figure(figsize = (15, 17))\n",
    "plt.show()"
   ]
  },
  {
   "cell_type": "code",
   "execution_count": 104,
   "metadata": {},
   "outputs": [
    {
     "data": {
      "text/plain": [
       "dog_stages\n",
       "doggo      17184.630137\n",
       "floofer    13052.714286\n",
       "pupper      7867.425532\n",
       "puppo      20514.826087\n",
       "Name: favorite_count, dtype: float64"
      ]
     },
     "execution_count": 104,
     "metadata": {},
     "output_type": "execute_result"
    }
   ],
   "source": [
    "# let get the stages of dog that is mostly retweeted\n",
    "df_tweet.groupby(['dog_stages'])['favorite_count'].mean()"
   ]
  },
  {
   "cell_type": "code",
   "execution_count": 105,
   "metadata": {},
   "outputs": [
    {
     "data": {
      "text/plain": [
       "Text(0.5, 3.1999999999999886, 'Dog stages')"
      ]
     },
     "execution_count": 105,
     "metadata": {},
     "output_type": "execute_result"
    },
    {
     "data": {
      "image/png": "[encoded data removed]",
      "text/plain": [
       "<Figure size 1008x432 with 1 Axes>"
      ]
     },
     "metadata": {},
     "output_type": "display_data"
    }
   ],
   "source": [
    "# let get the stages of dog that is mostly liked\n",
    "df_tweet.groupby(['dog_stages'])['favorite_count'].mean().plot(kind = 'bar', stacked = False, figsize = (14,6), color='purple')\n",
    "plot.set_ylabel('Favorite Count')\n",
    "plot.set_xlabel(\"Dog stages\")"
   ]
  },
  {
   "cell_type": "code",
   "execution_count": 106,
   "metadata": {},
   "outputs": [
    {
     "data": {
      "text/plain": [
       "dog_stages\n",
       "doggo      5751.575342\n",
       "floofer    4320.000000\n",
       "pupper     2304.276596\n",
       "puppo      5789.565217\n",
       "Name: retweet_count, dtype: float64"
      ]
     },
     "execution_count": 106,
     "metadata": {},
     "output_type": "execute_result"
    }
   ],
   "source": [
    "# dog stages with the highest retweet count\n",
    "# let get the stages of dog that is mostly retweeted\n",
    "df_tweet.groupby(['dog_stages'])['retweet_count'].mean()"
   ]
  },
  {
   "cell_type": "code",
   "execution_count": 107,
   "metadata": {},
   "outputs": [
    {
     "data": {
      "text/plain": [
       "Text(0.5, 3.1999999999999886, 'Dog stages')"
      ]
     },
     "execution_count": 107,
     "metadata": {},
     "output_type": "execute_result"
    },
    {
     "data": {
      "image/png": "[encoded data removed]",
      "text/plain": [
       "<Figure size 1008x432 with 1 Axes>"
      ]
     },
     "metadata": {},
     "output_type": "display_data"
    }
   ],
   "source": [
    "# let get the stages of dog that is mostly retweeted\n",
    "df_tweet.groupby(['dog_stages'])['retweet_count'].mean().plot(kind = 'bar', stacked = False, color='green', figsize = (14,6))\n",
    "plot.set_ylabel('Favorite Count')\n",
    "plot.set_xlabel(\"Dog stages\")"
   ]
  },
  {
   "cell_type": "code",
   "execution_count": 108,
   "metadata": {},
   "outputs": [
    {
     "name": "stderr",
     "output_type": "stream",
     "text": [
      "C:\\Users\\dell\\anaconda3\\lib\\site-packages\\seaborn\\_decorators.py:36: FutureWarning: Pass the following variables as keyword args: x, y. From version 0.12, the only valid positional argument will be `data`, and passing other arguments without an explicit keyword will result in an error or misinterpretation.\n",
      "  warnings.warn(\n"
     ]
    },
    {
     "data": {
      "text/plain": [
       "Text(0.5, 0.98, 'Most common dog names')"
      ]
     },
     "execution_count": 108,
     "metadata": {},
     "output_type": "execute_result"
    },
    {
     "data": {
      "image/png": "[encoded data removed]",
      "text/plain": [
       "<Figure size 432x288 with 1 Axes>"
      ]
     },
     "metadata": {},
     "output_type": "display_data"
    }
   ],
   "source": [
    "# most common dog names\n",
    "names = df_tweet['name'].value_counts()[:10]\n",
    "sns.barplot(names.values, names.index)\n",
    "plt.suptitle('Most common dog names')"
   ]
  },
  {
   "cell_type": "code",
   "execution_count": 109,
   "metadata": {},
   "outputs": [
    {
     "name": "stderr",
     "output_type": "stream",
     "text": [
      "C:\\Users\\dell\\anaconda3\\lib\\site-packages\\seaborn\\_decorators.py:36: FutureWarning: Pass the following variables as keyword args: x, y. From version 0.12, the only valid positional argument will be `data`, and passing other arguments without an explicit keyword will result in an error or misinterpretation.\n",
      "  warnings.warn(\n"
     ]
    },
    {
     "data": {
      "text/plain": [
       "Text(0.5, 0.98, 'Most common dog type')"
      ]
     },
     "execution_count": 109,
     "metadata": {},
     "output_type": "execute_result"
    },
    {
     "data": {
      "image/png": "[encoded data removed]",
      "text/plain": [
       "<Figure size 432x288 with 1 Axes>"
      ]
     },
     "metadata": {},
     "output_type": "display_data"
    }
   ],
   "source": [
    "# most common dog types\n",
    "dog_type = df_tweet['p1'].value_counts()[:10]\n",
    "sns.barplot(dog_type.values, dog_type.index)\n",
    "plt.suptitle('Most common dog type')"
   ]
  },
  {
   "cell_type": "code",
   "execution_count": 110,
   "metadata": {},
   "outputs": [
    {
     "name": "stderr",
     "output_type": "stream",
     "text": [
      "C:\\Users\\dell\\anaconda3\\lib\\site-packages\\seaborn\\axisgrid.py:2182: UserWarning: The `size` parameter has been renamed to `height`; please update your code.\n",
      "  warnings.warn(msg, UserWarning)\n"
     ]
    },
    {
     "data": {
      "image/png": "[encoded data removed]",
      "text/plain": [
       "<Figure size 432x432 with 3 Axes>"
      ]
     },
     "metadata": {},
     "output_type": "display_data"
    }
   ],
   "source": [
    "# let's also check if there's a positive relationship between favorite count and retweet count\n",
    "\n",
    "p = sns.jointplot(x=df_tweet.retweet_count,y=df_tweet.favorite_count, size=6, kind='reg');\n",
    "p.fig.suptitle('Retweet Count vs. Favorite Count (Correlation)\\n');"
   ]
  },
  {
   "cell_type": "markdown",
   "metadata": {},
   "source": [
    "As shown in the plot above, there is a positive correlation between the `favorite_count` and the `retweet_count`. In other words, more tweets are designated as favorites when more tweets are retweeted, which makes sense given that most individuals who appreciate a tweet are inclined to retweet it."
   ]
  },
  {
   "cell_type": "code",
   "execution_count": 111,
   "metadata": {},
   "outputs": [
    {
     "data": {
      "image/png": "[encoded data removed]",
      "text/plain": [
       "<Figure size 1080x504 with 2 Axes>"
      ]
     },
     "metadata": {},
     "output_type": "display_data"
    }
   ],
   "source": [
    "f,ax = plt.subplots(figsize=(15, 7))\n",
    "sns.heatmap(df_tweet.corr(),annot=True, ax=ax);"
   ]
  },
  {
   "cell_type": "markdown",
   "metadata": {},
   "source": [
    "The heatmap above, the following was noted:\n",
    "\n",
    "- There is a strong positive correlation (0.93) between `favorit_count` and `retweet_count` which support our observation above.\n",
    "- There is a relatively strong negative correlation between `p3_conf`, `p2_conf` and `p1_conf` which is interesting as different predictions may have opposing confidence levels."
   ]
  },
  {
   "cell_type": "code",
   "execution_count": null,
   "metadata": {},
   "outputs": [],
   "source": []
  },
  {
   "cell_type": "code",
   "execution_count": null,
   "metadata": {},
   "outputs": [],
   "source": []
  }
 ],
 "metadata": {
  "kernelspec": {
   "display_name": "Python 3",
   "language": "python",
   "name": "python3"
  },
  "language_info": {
   "codemirror_mode": {
    "name": "ipython",
    "version": 3
   },
   "file_extension": ".py",
   "mimetype": "text/x-python",
   "name": "python",
   "nbconvert_exporter": "python",
   "pygments_lexer": "ipython3",
   "version": "3.8.5"
  }
 },
 "nbformat": 4,
 "nbformat_minor": 4
}
